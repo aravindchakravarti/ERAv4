{
  "cells": [
    {
      "cell_type": "code",
      "execution_count": 13,
      "id": "dhzS-1Hea5ss",
      "metadata": {
        "colab": {
          "base_uri": "https://localhost:8080/"
        },
        "id": "dhzS-1Hea5ss",
        "outputId": "fd015672-5c8c-400c-8529-048910742368"
      },
      "outputs": [
        {
          "output_type": "stream",
          "name": "stdout",
          "text": [
            "Drive already mounted at /content/drive; to attempt to forcibly remount, call drive.mount(\"/content/drive\", force_remount=True).\n"
          ]
        }
      ],
      "source": [
        "import sys\n",
        "if 'google.colab' in sys.modules:\n",
        "    from google.colab import drive\n",
        "    drive.mount('/content/drive')"
      ]
    },
    {
      "cell_type": "code",
      "execution_count": 2,
      "id": "9fc7a6d9",
      "metadata": {
        "colab": {
          "base_uri": "https://localhost:8080/"
        },
        "id": "9fc7a6d9",
        "outputId": "32004173-b6a4-4a9c-a54c-613f4cda48d5"
      },
      "outputs": [
        {
          "output_type": "stream",
          "name": "stdout",
          "text": [
            "Requirement already satisfied: torchsummary in /usr/local/lib/python3.12/dist-packages (1.5.1)\n",
            "Collecting albumentationsx\n",
            "  Downloading albumentationsx-2.0.11-py3-none-any.whl.metadata (79 kB)\n",
            "\u001b[2K     \u001b[90m━━━━━━━━━━━━━━━━━━━━━━━━━━━━━━━━━━━━━━━━\u001b[0m \u001b[32m79.4/79.4 kB\u001b[0m \u001b[31m4.7 MB/s\u001b[0m eta \u001b[36m0:00:00\u001b[0m\n",
            "\u001b[?25hRequirement already satisfied: numpy>=1.24.4 in /usr/local/lib/python3.12/dist-packages (from albumentationsx) (2.0.2)\n",
            "Requirement already satisfied: scipy>=1.10.0 in /usr/local/lib/python3.12/dist-packages (from albumentationsx) (1.16.2)\n",
            "Requirement already satisfied: PyYAML in /usr/local/lib/python3.12/dist-packages (from albumentationsx) (6.0.2)\n",
            "Requirement already satisfied: pydantic>=2.9.2 in /usr/local/lib/python3.12/dist-packages (from albumentationsx) (2.11.9)\n",
            "Collecting albucore==0.0.33 (from albumentationsx)\n",
            "  Downloading albucore-0.0.33-py3-none-any.whl.metadata (7.8 kB)\n",
            "Requirement already satisfied: opencv-python-headless>=4.9.0.80 in /usr/local/lib/python3.12/dist-packages (from albumentationsx) (4.12.0.88)\n",
            "Requirement already satisfied: stringzilla>=3.10.4 in /usr/local/lib/python3.12/dist-packages (from albucore==0.0.33->albumentationsx) (4.0.11)\n",
            "Requirement already satisfied: simsimd>=5.9.2 in /usr/local/lib/python3.12/dist-packages (from albucore==0.0.33->albumentationsx) (6.5.3)\n",
            "Requirement already satisfied: annotated-types>=0.6.0 in /usr/local/lib/python3.12/dist-packages (from pydantic>=2.9.2->albumentationsx) (0.7.0)\n",
            "Requirement already satisfied: pydantic-core==2.33.2 in /usr/local/lib/python3.12/dist-packages (from pydantic>=2.9.2->albumentationsx) (2.33.2)\n",
            "Requirement already satisfied: typing-extensions>=4.12.2 in /usr/local/lib/python3.12/dist-packages (from pydantic>=2.9.2->albumentationsx) (4.15.0)\n",
            "Requirement already satisfied: typing-inspection>=0.4.0 in /usr/local/lib/python3.12/dist-packages (from pydantic>=2.9.2->albumentationsx) (0.4.1)\n",
            "Downloading albumentationsx-2.0.11-py3-none-any.whl (411 kB)\n",
            "\u001b[2K   \u001b[90m━━━━━━━━━━━━━━━━━━━━━━━━━━━━━━━━━━━━━━━━\u001b[0m \u001b[32m411.6/411.6 kB\u001b[0m \u001b[31m36.6 MB/s\u001b[0m eta \u001b[36m0:00:00\u001b[0m\n",
            "\u001b[?25hDownloading albucore-0.0.33-py3-none-any.whl (18 kB)\n",
            "Installing collected packages: albucore, albumentationsx\n",
            "  Attempting uninstall: albucore\n",
            "    Found existing installation: albucore 0.0.24\n",
            "    Uninstalling albucore-0.0.24:\n",
            "      Successfully uninstalled albucore-0.0.24\n",
            "\u001b[31mERROR: pip's dependency resolver does not currently take into account all the packages that are installed. This behaviour is the source of the following dependency conflicts.\n",
            "albumentations 2.0.8 requires albucore==0.0.24, but you have albucore 0.0.33 which is incompatible.\u001b[0m\u001b[31m\n",
            "\u001b[0mSuccessfully installed albucore-0.0.33 albumentationsx-2.0.11\n"
          ]
        }
      ],
      "source": [
        "import sys\n",
        "import torch\n",
        "from torchvision import datasets\n",
        "import numpy as np\n",
        "from torchvision.transforms import v2\n",
        "import matplotlib.pyplot as plt\n",
        "import torch.nn as nn\n",
        "import torch.nn.functional as F\n",
        "import cv2\n",
        "\n",
        "if 'google.colab' in sys.modules:\n",
        "    !pip install torchsummary\n",
        "    !pip install albumentationsx\n",
        "\n",
        "import albumentations as A\n",
        "from albumentations.pytorch import ToTensorV2\n",
        "from torchsummary import summary\n",
        "from tqdm import tqdm\n",
        "\n",
        "import logging\n",
        "logging.basicConfig(level=logging.ERROR, format='%(asctime)s - %(levelname)s - %(message)s')\n",
        "logger = logging.getLogger(__name__)\n",
        "\n",
        "from model_v1 import Net"
      ]
    },
    {
      "cell_type": "code",
      "execution_count": 3,
      "id": "2f878237",
      "metadata": {
        "id": "2f878237",
        "colab": {
          "base_uri": "https://localhost:8080/"
        },
        "outputId": "dd90f3e3-771d-4069-ccdb-6f762da6b98d"
      },
      "outputs": [
        {
          "output_type": "stream",
          "name": "stdout",
          "text": [
            "Cuda available = True, Using device = cuda\n"
          ]
        }
      ],
      "source": [
        "is_cuda = torch.cuda.is_available()\n",
        "device = torch.device(\"cuda\" if is_cuda else \"cpu\")\n",
        "print(f\"Cuda available = {is_cuda}, Using device = {device}\")"
      ]
    },
    {
      "cell_type": "code",
      "source": [
        "# Mean and Standard Deviation of CIFAR-10 dataset\n",
        "CIFAR10_MEAN = (0.49139968, 0.48215827, 0.44653124)\n",
        "CIFAR10_STD = (0.24703233, 0.24348505, 0.26158768)\n",
        "if 'google.colab' in sys.modules:\n",
        "    BATCH_SIZE = 512\n",
        "else:\n",
        "    BATCH_SIZE = 32\n",
        "CIFAR10_LABELS = ['airplane','automobile','bird','cat','deer','dog','frog','horse','ship','truck']\n",
        "GET_DATASET_STATS_FLAG = True"
      ],
      "metadata": {
        "id": "6YuMngmmC7Oj"
      },
      "id": "6YuMngmmC7Oj",
      "execution_count": 4,
      "outputs": []
    },
    {
      "cell_type": "code",
      "source": [
        "class AlbumentationsTransform:\n",
        "    def __init__(self, transform):\n",
        "        self.transform = transform\n",
        "\n",
        "    def __call__(self, img):\n",
        "        # CIFAR10 gives PIL image -> convert to numpy\n",
        "        img = np.array(img)\n",
        "        # Apply Albumentations\n",
        "        augmented = self.transform(image=img)\n",
        "        return augmented[\"image\"]\n",
        "\n",
        "train_transforms = AlbumentationsTransform(A.Compose([\n",
        "    A.Resize(32, 32),\n",
        "    A.HorizontalFlip(p=0.25),\n",
        "    A.ShiftScaleRotate(\n",
        "        shift_limit=(-0.0625, 0.0625),\n",
        "        scale_limit=(-0.1, 0.1),\n",
        "        rotate_limit=(-45, 45),\n",
        "        interpolation=cv2.INTER_LINEAR,\n",
        "        border_mode=cv2.BORDER_CONSTANT,\n",
        "        rotate_method=\"largest_box\",\n",
        "        p=0.5),\n",
        "    A.CoarseDropout(\n",
        "        num_holes_range=(1, 3),\n",
        "        hole_height_range=(5, 15),\n",
        "        hole_width_range=(5, 15),\n",
        "        fill_value=0,\n",
        "        p=0.5\n",
        "    ),\n",
        "    A.Normalize(mean=CIFAR10_MEAN, std=CIFAR10_STD),\n",
        "    ToTensorV2(),\n",
        "]))\n",
        "\n",
        "test_transforms = AlbumentationsTransform(A.Compose([\n",
        "    A.Resize(32, 32),\n",
        "    A.Normalize(mean=CIFAR10_MEAN, std=CIFAR10_STD),\n",
        "    ToTensorV2(),\n",
        "]))"
      ],
      "metadata": {
        "id": "g2LF3MrlDEvr",
        "outputId": "e9cc5a62-f871-4aa0-87aa-3f0ad42a8d1f",
        "colab": {
          "base_uri": "https://localhost:8080/"
        }
      },
      "id": "g2LF3MrlDEvr",
      "execution_count": 5,
      "outputs": [
        {
          "output_type": "stream",
          "name": "stderr",
          "text": [
            "/usr/local/lib/python3.12/dist-packages/albumentations/core/validation.py:132: UserWarning: ShiftScaleRotate is a special case of Affine transform. Please use Affine transform instead.\n",
            "  original_init(self, **validated_kwargs)\n",
            "/tmp/ipython-input-3528236369.py:23: UserWarning: Argument(s) 'fill_value' are not valid for transform CoarseDropout\n",
            "  A.CoarseDropout(\n"
          ]
        }
      ]
    },
    {
      "cell_type": "code",
      "source": [
        "cifar_train_dataset = datasets.CIFAR10(\n",
        "    root='../../',\n",
        "    train=True,\n",
        "    download=True,\n",
        "    transform=train_transforms,\n",
        ")\n",
        "\n",
        "cifar_test_dataset = datasets.CIFAR10(\n",
        "    root='../../',\n",
        "    train=False,\n",
        "    download=True,\n",
        "    transform=test_transforms,\n",
        ")\n",
        "\n",
        "train_kwargs = {'batch_size': BATCH_SIZE, 'shuffle': True,  'num_workers': 2, 'pin_memory': is_cuda}\n",
        "test_kwargs = {'batch_size': BATCH_SIZE, 'shuffle': True,  'num_workers': 2, 'pin_memory': is_cuda}\n",
        "\n",
        "train_loader = torch.utils.data.DataLoader(cifar_train_dataset, **train_kwargs)\n",
        "test_loader  = torch.utils.data.DataLoader(cifar_test_dataset,  **test_kwargs)"
      ],
      "metadata": {
        "id": "GXnGvNgHDh7W",
        "outputId": "638a9180-183f-43ac-e94f-a47624b6690f",
        "colab": {
          "base_uri": "https://localhost:8080/"
        }
      },
      "id": "GXnGvNgHDh7W",
      "execution_count": 6,
      "outputs": [
        {
          "output_type": "stream",
          "name": "stderr",
          "text": [
            "100%|██████████| 170M/170M [00:06<00:00, 27.0MB/s]\n"
          ]
        }
      ]
    },
    {
      "cell_type": "code",
      "execution_count": 7,
      "id": "b664865a",
      "metadata": {
        "id": "b664865a",
        "outputId": "f6391b59-0d24-4df6-ea9a-7695a5c33016",
        "colab": {
          "base_uri": "https://localhost:8080/",
          "height": 445
        }
      },
      "outputs": [
        {
          "output_type": "display_data",
          "data": {
            "text/plain": [
              "<Figure size 640x480 with 1 Axes>"
            ],
            "image/png": "[encoded data removed]"
          },
          "metadata": {}
        }
      ],
      "source": [
        "if GET_DATASET_STATS_FLAG:\n",
        "    imgs = [item[0] for item in cifar_train_dataset]\n",
        "    imgs = torch.stack(imgs, dim=0).numpy()\n",
        "    imgs_r = imgs[:,0,:,:].flatten()\n",
        "    imgs_g = imgs[:,1,:,:].flatten()\n",
        "    imgs_b = imgs[:,2,:,:].flatten()\n",
        "    logger.info(f\"Flatten images size {imgs_r.shape}, {imgs_g.shape}, {imgs_b.shape}\")\n",
        "\n",
        "    plt.hist(imgs_r, bins=50, alpha=0.33, color='r', label='Red')\n",
        "    plt.hist(imgs_g, bins=50, alpha=0.33, color='g', label='Green')\n",
        "    plt.hist(imgs_b, bins=50, alpha=0.33, color='b', label='Blue')\n",
        "    plt.legend()\n",
        "    plt.show()"
      ]
    },
    {
      "cell_type": "code",
      "execution_count": 8,
      "id": "d29d0682",
      "metadata": {
        "id": "d29d0682"
      },
      "outputs": [],
      "source": [
        "def dataset_visualizer(dataset_loader, n_images=12):\n",
        "    \"\"\"Visualize a few samples from the dataset loader.\"\"\"\n",
        "    batch_data, batch_label = next(iter(dataset_loader))\n",
        "    n_images = min(n_images, len(batch_data))\n",
        "\n",
        "    fig = plt.figure(figsize=(10, 8))\n",
        "    for i in range(n_images):\n",
        "        plt.subplot(3, 4, i+1)\n",
        "        plt.tight_layout()\n",
        "        image_data = batch_data[i].squeeze(0)\n",
        "        image_data = image_data.permute(1,2,0)\n",
        "        plt.imshow(image_data)\n",
        "        plt.title(CIFAR10_LABELS[batch_label[i].item()])\n",
        "        plt.xticks([])\n",
        "        plt.yticks([])\n",
        "    plt.show()"
      ]
    },
    {
      "cell_type": "code",
      "execution_count": 9,
      "id": "6988f18c",
      "metadata": {
        "colab": {
          "base_uri": "https://localhost:8080/",
          "height": 695
        },
        "id": "6988f18c",
        "outputId": "2fb020af-d022-4a9b-9a30-9f2952e243de"
      },
      "outputs": [
        {
          "output_type": "stream",
          "name": "stderr",
          "text": [
            "WARNING:matplotlib.image:Clipping input data to the valid range for imshow with RGB data ([0..1] for floats or [0..255] for integers). Got range [-1.9892119..1.7572215].\n",
            "WARNING:matplotlib.image:Clipping input data to the valid range for imshow with RGB data ([0..1] for floats or [0..255] for integers). Got range [-1.9892119..1.9953423].\n",
            "WARNING:matplotlib.image:Clipping input data to the valid range for imshow with RGB data ([0..1] for floats or [0..255] for integers). Got range [-1.9892119..2.0108662].\n",
            "WARNING:matplotlib.image:Clipping input data to the valid range for imshow with RGB data ([0..1] for floats or [0..255] for integers). Got range [-1.9892119..1.7260293].\n",
            "WARNING:matplotlib.image:Clipping input data to the valid range for imshow with RGB data ([0..1] for floats or [0..255] for integers). Got range [-1.9892119..2.0270917].\n",
            "WARNING:matplotlib.image:Clipping input data to the valid range for imshow with RGB data ([0..1] for floats or [0..255] for integers). Got range [-1.9892119..1.9794675].\n",
            "WARNING:matplotlib.image:Clipping input data to the valid range for imshow with RGB data ([0..1] for floats or [0..255] for integers). Got range [-1.9892119..1.5952927].\n",
            "WARNING:matplotlib.image:Clipping input data to the valid range for imshow with RGB data ([0..1] for floats or [0..255] for integers). Got range [-1.9892119..1.7110379].\n",
            "WARNING:matplotlib.image:Clipping input data to the valid range for imshow with RGB data ([0..1] for floats or [0..255] for integers). Got range [-1.9892119..2.1106844].\n",
            "WARNING:matplotlib.image:Clipping input data to the valid range for imshow with RGB data ([0..1] for floats or [0..255] for integers). Got range [-1.9892119..2.0945785].\n",
            "WARNING:matplotlib.image:Clipping input data to the valid range for imshow with RGB data ([0..1] for floats or [0..255] for integers). Got range [-1.9892119..0.48724404].\n",
            "WARNING:matplotlib.image:Clipping input data to the valid range for imshow with RGB data ([0..1] for floats or [0..255] for integers). Got range [-1.9892119..2.1267905].\n"
          ]
        },
        {
          "output_type": "display_data",
          "data": {
            "text/plain": [
              "<Figure size 1000x800 with 12 Axes>"
            ],
            "image/png": "[encoded data removed]"
          },
          "metadata": {}
        }
      ],
      "source": [
        "dataset_visualizer(train_loader)"
      ]
    },
    {
      "cell_type": "code",
      "execution_count": 10,
      "id": "4fd104e3",
      "metadata": {
        "id": "4fd104e3"
      },
      "outputs": [],
      "source": [
        "criterion = nn.CrossEntropyLoss()\n",
        "train_loss_data = []\n",
        "train_accuracy = []\n",
        "test_loss_data = []\n",
        "test_accuracy = []\n",
        "\n",
        "best_loss = float('inf')   # initialize with infinity\n",
        "\n",
        "def train(model, device, train_loader, optimizer, epoch):\n",
        "    model.train()\n",
        "    pbar = tqdm(train_loader)\n",
        "\n",
        "    correct = 0\n",
        "    total = 0\n",
        "    running_loss = 0.0\n",
        "\n",
        "    for batch_idx, (data, target) in enumerate(pbar):\n",
        "        data, target = data.to(device), target.to(device)\n",
        "        optimizer.zero_grad()\n",
        "        output = model(data)\n",
        "        loss = criterion(output, target)\n",
        "        loss.backward()\n",
        "        optimizer.step()\n",
        "\n",
        "        running_loss += loss.item()\n",
        "        pred = output.argmax(dim=1, keepdim=True)\n",
        "        correct += pred.eq(target.view_as(pred)).sum().item()\n",
        "        total += target.size(0)\n",
        "\n",
        "        pbar.set_description(desc=f'loss={loss.item():.4f} batch_id={batch_idx}')\n",
        "\n",
        "    # Epoch-level stats\n",
        "    avg_loss = running_loss / len(train_loader)\n",
        "    acc = 100. * correct / total\n",
        "\n",
        "    train_loss_data.append(avg_loss)\n",
        "    train_accuracy.append(acc)\n",
        "\n",
        "    print(f'\\nTrain set (epoch {epoch}): Average loss: {avg_loss:.4f}, Accuracy: {correct}/{total} ({acc:.2f}%)\\n')\n",
        "\n",
        "\n",
        "def test(model, device, test_loader, epoch):\n",
        "    global best_loss  # to update across epochs\n",
        "    model.eval()\n",
        "    test_loss = 0\n",
        "    correct = 0\n",
        "    with torch.no_grad():\n",
        "        for data, target in test_loader:\n",
        "            data, target = data.to(device), target.to(device)\n",
        "            output = model(data)\n",
        "            test_loss += F.cross_entropy(output, target, reduction='sum').item()  # sum up batch loss\n",
        "            pred = output.argmax(dim=1, keepdim=True)\n",
        "            correct += pred.eq(target.view_as(pred)).sum().item()\n",
        "\n",
        "    test_loss /= len(test_loader.dataset)\n",
        "    test_loss_data.append(test_loss)\n",
        "    acc = 100. * correct / len(test_loader.dataset)\n",
        "    test_accuracy.append(acc)\n",
        "\n",
        "    print(f'Test set (epoch {epoch}): Average loss: {test_loss:.4f}, Accuracy: {correct}/{len(test_loader.dataset)} ({acc:.2f}%)\\n')\n",
        "\n",
        "    # ✅ Save best model by lowest test loss\n",
        "    if test_loss < best_loss:\n",
        "        best_loss = test_loss\n",
        "        if 'google.colab' in sys.modules:\n",
        "            torch.save(model.state_dict(), \"/content/drive/MyDrive/CIFAR10/best_model.pt\")\n",
        "        else:\n",
        "            torch.save(model.state_dict(), \"best_model.pt\")\n",
        "        print(f\"✅ Saved new best model at epoch {epoch} with loss {best_loss:.4f}\")\n",
        "\n",
        "    return test_loss\n"
      ]
    },
    {
      "cell_type": "code",
      "execution_count": 11,
      "id": "7ba5a772",
      "metadata": {
        "colab": {
          "base_uri": "https://localhost:8080/"
        },
        "id": "7ba5a772",
        "outputId": "ad981c90-b934-4322-c02a-e4c5a9c3d924"
      },
      "outputs": [
        {
          "output_type": "stream",
          "name": "stdout",
          "text": [
            "----------------------------------------------------------------\n",
            "        Layer (type)               Output Shape         Param #\n",
            "================================================================\n",
            "            Conv2d-1           [-1, 16, 32, 32]             448\n",
            "       BatchNorm2d-2           [-1, 16, 32, 32]              32\n",
            "            Conv2d-3           [-1, 16, 32, 32]           2,320\n",
            "       BatchNorm2d-4           [-1, 16, 32, 32]              32\n",
            "            Conv2d-5           [-1, 16, 32, 32]           2,320\n",
            "       BatchNorm2d-6           [-1, 16, 32, 32]              32\n",
            "            Conv2d-7           [-1, 32, 32, 32]             544\n",
            "       BatchNorm2d-8           [-1, 32, 32, 32]              64\n",
            "         MaxPool2d-9           [-1, 32, 16, 16]               0\n",
            "           Conv2d-10           [-1, 32, 16, 16]           9,248\n",
            "      BatchNorm2d-11           [-1, 32, 16, 16]              64\n",
            "           Conv2d-12           [-1, 32, 16, 16]           9,248\n",
            "      BatchNorm2d-13           [-1, 32, 16, 16]              64\n",
            "           Conv2d-14           [-1, 32, 16, 16]           9,248\n",
            "      BatchNorm2d-15           [-1, 32, 16, 16]              64\n",
            "           Conv2d-16           [-1, 64, 16, 16]           2,112\n",
            "      BatchNorm2d-17           [-1, 64, 16, 16]             128\n",
            "        MaxPool2d-18             [-1, 64, 8, 8]               0\n",
            "           Conv2d-19             [-1, 64, 8, 8]             576\n",
            "           Conv2d-20             [-1, 64, 8, 8]           4,096\n",
            "DepthwiseSeparableConv-21             [-1, 64, 8, 8]               0\n",
            "      BatchNorm2d-22             [-1, 64, 8, 8]             128\n",
            "           Conv2d-23             [-1, 64, 8, 8]             576\n",
            "           Conv2d-24             [-1, 64, 8, 8]           4,096\n",
            "DepthwiseSeparableConv-25             [-1, 64, 8, 8]               0\n",
            "      BatchNorm2d-26             [-1, 64, 8, 8]             128\n",
            "           Conv2d-27             [-1, 64, 8, 8]             576\n",
            "           Conv2d-28             [-1, 64, 8, 8]           4,096\n",
            "DepthwiseSeparableConv-29             [-1, 64, 8, 8]               0\n",
            "      BatchNorm2d-30             [-1, 64, 8, 8]             128\n",
            "           Conv2d-31            [-1, 128, 8, 8]           8,320\n",
            "      BatchNorm2d-32            [-1, 128, 8, 8]             256\n",
            "        MaxPool2d-33            [-1, 128, 4, 4]               0\n",
            "           Conv2d-34             [-1, 10, 4, 4]           1,290\n",
            "================================================================\n",
            "Total params: 60,234\n",
            "Trainable params: 60,234\n",
            "Non-trainable params: 0\n",
            "----------------------------------------------------------------\n",
            "Input size (MB): 0.01\n",
            "Forward/backward pass size (MB): 2.49\n",
            "Params size (MB): 0.23\n",
            "Estimated Total Size (MB): 2.73\n",
            "----------------------------------------------------------------\n"
          ]
        }
      ],
      "source": [
        "model = Net().to(device)\n",
        "\n",
        "dummy_data = torch.randn(5, 3, 32, 32).to(device)\n",
        "dummy_output = model(dummy_data)\n",
        "logger.info(f\"CNN output shape = {dummy_output.shape}\")\n",
        "summary(model, input_size=(3, 32, 32), device=str(device))"
      ]
    },
    {
      "cell_type": "code",
      "execution_count": 12,
      "id": "a7bf9947",
      "metadata": {
        "colab": {
          "base_uri": "https://localhost:8080/"
        },
        "id": "a7bf9947",
        "outputId": "d794a9a8-0ce3-4012-9829-4a2f6ebf3479"
      },
      "outputs": [
        {
          "output_type": "stream",
          "name": "stderr",
          "text": [
            "loss=1.3990 batch_id=195: 100%|██████████| 196/196 [00:30<00:00,  6.40it/s]"
          ]
        },
        {
          "output_type": "stream",
          "name": "stdout",
          "text": [
            "\n",
            "Train set (epoch 0): Average loss: 1.7319, Accuracy: 18016/50000 (36.03%)\n",
            "\n"
          ]
        },
        {
          "output_type": "stream",
          "name": "stderr",
          "text": [
            "\n"
          ]
        },
        {
          "output_type": "stream",
          "name": "stdout",
          "text": [
            "Test set (epoch 0): Average loss: 1.4904, Accuracy: 4495/10000 (44.95%)\n",
            "\n",
            "✅ Saved new best model at epoch 0 with loss 1.4904\n"
          ]
        },
        {
          "output_type": "stream",
          "name": "stderr",
          "text": [
            "loss=1.5311 batch_id=195: 100%|██████████| 196/196 [00:28<00:00,  6.80it/s]"
          ]
        },
        {
          "output_type": "stream",
          "name": "stdout",
          "text": [
            "\n",
            "Train set (epoch 1): Average loss: 1.4301, Accuracy: 23909/50000 (47.82%)\n",
            "\n"
          ]
        },
        {
          "output_type": "stream",
          "name": "stderr",
          "text": [
            "\n"
          ]
        },
        {
          "output_type": "stream",
          "name": "stdout",
          "text": [
            "Test set (epoch 1): Average loss: 1.3559, Accuracy: 5131/10000 (51.31%)\n",
            "\n",
            "✅ Saved new best model at epoch 1 with loss 1.3559\n"
          ]
        },
        {
          "output_type": "stream",
          "name": "stderr",
          "text": [
            "loss=1.3786 batch_id=195: 100%|██████████| 196/196 [00:29<00:00,  6.71it/s]"
          ]
        },
        {
          "output_type": "stream",
          "name": "stdout",
          "text": [
            "\n",
            "Train set (epoch 2): Average loss: 1.3056, Accuracy: 26204/50000 (52.41%)\n",
            "\n"
          ]
        },
        {
          "output_type": "stream",
          "name": "stderr",
          "text": [
            "\n"
          ]
        },
        {
          "output_type": "stream",
          "name": "stdout",
          "text": [
            "Test set (epoch 2): Average loss: 1.3118, Accuracy: 5288/10000 (52.88%)\n",
            "\n",
            "✅ Saved new best model at epoch 2 with loss 1.3118\n"
          ]
        },
        {
          "output_type": "stream",
          "name": "stderr",
          "text": [
            "loss=0.9784 batch_id=195: 100%|██████████| 196/196 [00:33<00:00,  5.91it/s]"
          ]
        },
        {
          "output_type": "stream",
          "name": "stdout",
          "text": [
            "\n",
            "Train set (epoch 3): Average loss: 1.2196, Accuracy: 27786/50000 (55.57%)\n",
            "\n"
          ]
        },
        {
          "output_type": "stream",
          "name": "stderr",
          "text": [
            "\n"
          ]
        },
        {
          "output_type": "stream",
          "name": "stdout",
          "text": [
            "Test set (epoch 3): Average loss: 1.4391, Accuracy: 5350/10000 (53.50%)\n",
            "\n"
          ]
        },
        {
          "output_type": "stream",
          "name": "stderr",
          "text": [
            "loss=1.3412 batch_id=195: 100%|██████████| 196/196 [00:29<00:00,  6.69it/s]"
          ]
        },
        {
          "output_type": "stream",
          "name": "stdout",
          "text": [
            "\n",
            "Train set (epoch 4): Average loss: 1.1590, Accuracy: 29200/50000 (58.40%)\n",
            "\n"
          ]
        },
        {
          "output_type": "stream",
          "name": "stderr",
          "text": [
            "\n"
          ]
        },
        {
          "output_type": "stream",
          "name": "stdout",
          "text": [
            "Test set (epoch 4): Average loss: 1.2302, Accuracy: 5756/10000 (57.56%)\n",
            "\n",
            "✅ Saved new best model at epoch 4 with loss 1.2302\n"
          ]
        },
        {
          "output_type": "stream",
          "name": "stderr",
          "text": [
            "loss=1.2932 batch_id=195: 100%|██████████| 196/196 [00:30<00:00,  6.47it/s]"
          ]
        },
        {
          "output_type": "stream",
          "name": "stdout",
          "text": [
            "\n",
            "Train set (epoch 5): Average loss: 1.1202, Accuracy: 29993/50000 (59.99%)\n",
            "\n"
          ]
        },
        {
          "output_type": "stream",
          "name": "stderr",
          "text": [
            "\n"
          ]
        },
        {
          "output_type": "stream",
          "name": "stdout",
          "text": [
            "Test set (epoch 5): Average loss: 1.2106, Accuracy: 5986/10000 (59.86%)\n",
            "\n",
            "✅ Saved new best model at epoch 5 with loss 1.2106\n"
          ]
        },
        {
          "output_type": "stream",
          "name": "stderr",
          "text": [
            "loss=1.3525 batch_id=195: 100%|██████████| 196/196 [00:29<00:00,  6.60it/s]"
          ]
        },
        {
          "output_type": "stream",
          "name": "stdout",
          "text": [
            "\n",
            "Train set (epoch 6): Average loss: 1.0803, Accuracy: 30656/50000 (61.31%)\n",
            "\n"
          ]
        },
        {
          "output_type": "stream",
          "name": "stderr",
          "text": [
            "\n"
          ]
        },
        {
          "output_type": "stream",
          "name": "stdout",
          "text": [
            "Test set (epoch 6): Average loss: 1.1585, Accuracy: 6036/10000 (60.36%)\n",
            "\n",
            "✅ Saved new best model at epoch 6 with loss 1.1585\n"
          ]
        },
        {
          "output_type": "stream",
          "name": "stderr",
          "text": [
            "loss=1.0577 batch_id=195: 100%|██████████| 196/196 [00:28<00:00,  6.82it/s]"
          ]
        },
        {
          "output_type": "stream",
          "name": "stdout",
          "text": [
            "\n",
            "Train set (epoch 7): Average loss: 1.0411, Accuracy: 31469/50000 (62.94%)\n",
            "\n"
          ]
        },
        {
          "output_type": "stream",
          "name": "stderr",
          "text": [
            "\n"
          ]
        },
        {
          "output_type": "stream",
          "name": "stdout",
          "text": [
            "Test set (epoch 7): Average loss: 0.9869, Accuracy: 6514/10000 (65.14%)\n",
            "\n",
            "✅ Saved new best model at epoch 7 with loss 0.9869\n"
          ]
        },
        {
          "output_type": "stream",
          "name": "stderr",
          "text": [
            "loss=1.3900 batch_id=195: 100%|██████████| 196/196 [00:30<00:00,  6.35it/s]"
          ]
        },
        {
          "output_type": "stream",
          "name": "stdout",
          "text": [
            "\n",
            "Train set (epoch 8): Average loss: 1.0144, Accuracy: 31955/50000 (63.91%)\n",
            "\n"
          ]
        },
        {
          "output_type": "stream",
          "name": "stderr",
          "text": [
            "\n"
          ]
        },
        {
          "output_type": "stream",
          "name": "stdout",
          "text": [
            "Test set (epoch 8): Average loss: 0.9735, Accuracy: 6697/10000 (66.97%)\n",
            "\n",
            "✅ Saved new best model at epoch 8 with loss 0.9735\n"
          ]
        },
        {
          "output_type": "stream",
          "name": "stderr",
          "text": [
            "loss=0.9121 batch_id=195: 100%|██████████| 196/196 [00:30<00:00,  6.49it/s]"
          ]
        },
        {
          "output_type": "stream",
          "name": "stdout",
          "text": [
            "\n",
            "Train set (epoch 9): Average loss: 0.9848, Accuracy: 32581/50000 (65.16%)\n",
            "\n"
          ]
        },
        {
          "output_type": "stream",
          "name": "stderr",
          "text": [
            "\n"
          ]
        },
        {
          "output_type": "stream",
          "name": "stdout",
          "text": [
            "Test set (epoch 9): Average loss: 1.0030, Accuracy: 6602/10000 (66.02%)\n",
            "\n"
          ]
        },
        {
          "output_type": "stream",
          "name": "stderr",
          "text": [
            "loss=0.7591 batch_id=195: 100%|██████████| 196/196 [00:28<00:00,  6.77it/s]"
          ]
        },
        {
          "output_type": "stream",
          "name": "stdout",
          "text": [
            "\n",
            "Train set (epoch 10): Average loss: 0.9632, Accuracy: 32981/50000 (65.96%)\n",
            "\n"
          ]
        },
        {
          "output_type": "stream",
          "name": "stderr",
          "text": [
            "\n"
          ]
        },
        {
          "output_type": "stream",
          "name": "stdout",
          "text": [
            "Test set (epoch 10): Average loss: 0.8506, Accuracy: 7022/10000 (70.22%)\n",
            "\n",
            "✅ Saved new best model at epoch 10 with loss 0.8506\n"
          ]
        },
        {
          "output_type": "stream",
          "name": "stderr",
          "text": [
            "loss=0.8714 batch_id=195: 100%|██████████| 196/196 [00:29<00:00,  6.72it/s]"
          ]
        },
        {
          "output_type": "stream",
          "name": "stdout",
          "text": [
            "\n",
            "Train set (epoch 11): Average loss: 0.9433, Accuracy: 33348/50000 (66.70%)\n",
            "\n"
          ]
        },
        {
          "output_type": "stream",
          "name": "stderr",
          "text": [
            "\n"
          ]
        },
        {
          "output_type": "stream",
          "name": "stdout",
          "text": [
            "Test set (epoch 11): Average loss: 0.9582, Accuracy: 6718/10000 (67.18%)\n",
            "\n"
          ]
        },
        {
          "output_type": "stream",
          "name": "stderr",
          "text": [
            "loss=0.9183 batch_id=195: 100%|██████████| 196/196 [00:32<00:00,  6.08it/s]"
          ]
        },
        {
          "output_type": "stream",
          "name": "stdout",
          "text": [
            "\n",
            "Train set (epoch 12): Average loss: 0.9214, Accuracy: 33765/50000 (67.53%)\n",
            "\n"
          ]
        },
        {
          "output_type": "stream",
          "name": "stderr",
          "text": [
            "\n"
          ]
        },
        {
          "output_type": "stream",
          "name": "stdout",
          "text": [
            "Test set (epoch 12): Average loss: 0.9112, Accuracy: 6888/10000 (68.88%)\n",
            "\n"
          ]
        },
        {
          "output_type": "stream",
          "name": "stderr",
          "text": [
            "loss=0.7342 batch_id=195: 100%|██████████| 196/196 [00:30<00:00,  6.36it/s]"
          ]
        },
        {
          "output_type": "stream",
          "name": "stdout",
          "text": [
            "\n",
            "Train set (epoch 13): Average loss: 0.9076, Accuracy: 34047/50000 (68.09%)\n",
            "\n"
          ]
        },
        {
          "output_type": "stream",
          "name": "stderr",
          "text": [
            "\n"
          ]
        },
        {
          "output_type": "stream",
          "name": "stdout",
          "text": [
            "Test set (epoch 13): Average loss: 0.9810, Accuracy: 6736/10000 (67.36%)\n",
            "\n"
          ]
        },
        {
          "output_type": "stream",
          "name": "stderr",
          "text": [
            "loss=1.0028 batch_id=195: 100%|██████████| 196/196 [00:28<00:00,  6.80it/s]"
          ]
        },
        {
          "output_type": "stream",
          "name": "stdout",
          "text": [
            "\n",
            "Train set (epoch 14): Average loss: 0.8934, Accuracy: 34316/50000 (68.63%)\n",
            "\n"
          ]
        },
        {
          "output_type": "stream",
          "name": "stderr",
          "text": [
            "\n"
          ]
        },
        {
          "output_type": "stream",
          "name": "stdout",
          "text": [
            "Test set (epoch 14): Average loss: 0.9574, Accuracy: 6816/10000 (68.16%)\n",
            "\n"
          ]
        },
        {
          "output_type": "stream",
          "name": "stderr",
          "text": [
            "loss=0.8022 batch_id=195: 100%|██████████| 196/196 [00:29<00:00,  6.76it/s]"
          ]
        },
        {
          "output_type": "stream",
          "name": "stdout",
          "text": [
            "\n",
            "Train set (epoch 15): Average loss: 0.8792, Accuracy: 34514/50000 (69.03%)\n",
            "\n"
          ]
        },
        {
          "output_type": "stream",
          "name": "stderr",
          "text": [
            "\n"
          ]
        },
        {
          "output_type": "stream",
          "name": "stdout",
          "text": [
            "Test set (epoch 15): Average loss: 0.7907, Accuracy: 7344/10000 (73.44%)\n",
            "\n",
            "✅ Saved new best model at epoch 15 with loss 0.7907\n"
          ]
        },
        {
          "output_type": "stream",
          "name": "stderr",
          "text": [
            "loss=1.1286 batch_id=195: 100%|██████████| 196/196 [00:28<00:00,  6.84it/s]"
          ]
        },
        {
          "output_type": "stream",
          "name": "stdout",
          "text": [
            "\n",
            "Train set (epoch 16): Average loss: 0.8654, Accuracy: 34747/50000 (69.49%)\n",
            "\n"
          ]
        },
        {
          "output_type": "stream",
          "name": "stderr",
          "text": [
            "\n"
          ]
        },
        {
          "output_type": "stream",
          "name": "stdout",
          "text": [
            "Test set (epoch 16): Average loss: 0.9137, Accuracy: 7031/10000 (70.31%)\n",
            "\n"
          ]
        },
        {
          "output_type": "stream",
          "name": "stderr",
          "text": [
            "loss=0.8109 batch_id=195: 100%|██████████| 196/196 [00:29<00:00,  6.75it/s]\n"
          ]
        },
        {
          "output_type": "stream",
          "name": "stdout",
          "text": [
            "\n",
            "Train set (epoch 17): Average loss: 0.8560, Accuracy: 34912/50000 (69.82%)\n",
            "\n",
            "Test set (epoch 17): Average loss: 0.7541, Accuracy: 7396/10000 (73.96%)\n",
            "\n",
            "✅ Saved new best model at epoch 17 with loss 0.7541\n"
          ]
        },
        {
          "output_type": "stream",
          "name": "stderr",
          "text": [
            "loss=0.8088 batch_id=195: 100%|██████████| 196/196 [00:28<00:00,  6.83it/s]"
          ]
        },
        {
          "output_type": "stream",
          "name": "stdout",
          "text": [
            "\n",
            "Train set (epoch 18): Average loss: 0.8415, Accuracy: 35046/50000 (70.09%)\n",
            "\n"
          ]
        },
        {
          "output_type": "stream",
          "name": "stderr",
          "text": [
            "\n"
          ]
        },
        {
          "output_type": "stream",
          "name": "stdout",
          "text": [
            "Test set (epoch 18): Average loss: 0.9350, Accuracy: 6939/10000 (69.39%)\n",
            "\n"
          ]
        },
        {
          "output_type": "stream",
          "name": "stderr",
          "text": [
            "loss=0.9093 batch_id=195: 100%|██████████| 196/196 [00:28<00:00,  6.84it/s]"
          ]
        },
        {
          "output_type": "stream",
          "name": "stdout",
          "text": [
            "\n",
            "Train set (epoch 19): Average loss: 0.8355, Accuracy: 35377/50000 (70.75%)\n",
            "\n"
          ]
        },
        {
          "output_type": "stream",
          "name": "stderr",
          "text": [
            "\n"
          ]
        },
        {
          "output_type": "stream",
          "name": "stdout",
          "text": [
            "Test set (epoch 19): Average loss: 0.7802, Accuracy: 7336/10000 (73.36%)\n",
            "\n"
          ]
        }
      ],
      "source": [
        "model = Net().to(device)\n",
        "# optimizer = optim.SGD(model.parameters(), lr=0.001, momentum=0.9)\n",
        "optimizer = torch.optim.Adam(model.parameters(), lr=0.001)\n",
        "reduce_lr = torch.optim.lr_scheduler.ReduceLROnPlateau(optimizer=optimizer, factor=0.1,  patience=10)\n",
        "\n",
        "for epoch in range(20):\n",
        "    train(model, device, train_loader, optimizer, epoch)\n",
        "    test_loss = test(model, device, test_loader, epoch)\n",
        "    reduce_lr.step(test_loss)"
      ]
    },
    {
      "cell_type": "code",
      "execution_count": null,
      "id": "qL3wSsh5eRrm",
      "metadata": {
        "colab": {
          "base_uri": "https://localhost:8080/",
          "height": 872
        },
        "id": "qL3wSsh5eRrm",
        "outputId": "3866ab04-9e51-4e6a-d3f6-b6dcc2f85264"
      },
      "outputs": [
        {
          "output_type": "display_data",
          "data": {
            "text/plain": [
              "<Figure size 1000x1000 with 4 Axes>"
            ],
            "image/png": "[encoded data removed]"
          },
          "metadata": {}
        }
      ],
      "source": [
        "fig, axs = plt.subplots(2, 2, figsize=(10, 10))\n",
        "\n",
        "axs[0,0].plot(train_loss_data, label='Train Loss')\n",
        "axs[0,0].set_xlabel('Batch')\n",
        "axs[0,0].set_ylabel('Loss')\n",
        "axs[0,0].set_title('Train Loss')\n",
        "axs[0,0].grid(True)\n",
        "axs[0,0].legend()\n",
        "\n",
        "axs[0,1].plot(test_loss_data, label='Test Loss')\n",
        "axs[0,1].set_xlabel('Epoch')\n",
        "axs[0,1].set_ylabel('Loss')\n",
        "axs[0,1].set_title('Test Loss')\n",
        "axs[0,1].grid(True)\n",
        "axs[0,1].legend()\n",
        "\n",
        "axs[1,0].plot(train_accuracy, label='Train Accuracy')\n",
        "axs[1,0].set_xlabel('Epoch')\n",
        "axs[1,0].set_ylabel('Accuracy')\n",
        "axs[1,0].set_title('Train Accuracy')\n",
        "axs[1,0].grid(True)\n",
        "axs[1,0].legend()\n",
        "\n",
        "axs[1,1].plot(test_accuracy, label='Test Accuracy')\n",
        "axs[1,1].set_xlabel('Epoch')\n",
        "axs[1,1].set_ylabel('Accuracy')\n",
        "axs[1,1].set_title('Test Accuracy')\n",
        "axs[1,1].grid(True)\n",
        "axs[1,1].legend()\n",
        "\n",
        "plt.show()"
      ]
    }
  ],
  "metadata": {
    "colab": {
      "provenance": [],
      "gpuType": "T4"
    },
    "kernelspec": {
      "display_name": "Python 3",
      "name": "python3"
    },
    "language_info": {
      "codemirror_mode": {
        "name": "ipython",
        "version": 3
      },
      "file_extension": ".py",
      "mimetype": "text/x-python",
      "name": "python",
      "nbconvert_exporter": "python",
      "pygments_lexer": "ipython3",
      "version": "3.9.6"
    },
    "accelerator": "GPU"
  },
  "nbformat": 4,
  "nbformat_minor": 5
}