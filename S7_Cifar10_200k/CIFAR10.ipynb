{
  "cells": [
    {
      "cell_type": "code",
      "execution_count": 1,
      "id": "dhzS-1Hea5ss",
      "metadata": {
        "colab": {
          "base_uri": "https://localhost:8080/"
        },
        "id": "dhzS-1Hea5ss",
        "outputId": "0c63b7bb-2bd1-46f2-d839-f6bc586add63"
      },
      "outputs": [
        {
          "output_type": "stream",
          "name": "stdout",
          "text": [
            "Mounted at /content/drive\n"
          ]
        }
      ],
      "source": [
        "import sys\n",
        "if 'google.colab' in sys.modules:\n",
        "    from google.colab import drive\n",
        "    drive.mount('/content/drive')"
      ]
    },
    {
      "cell_type": "code",
      "execution_count": 2,
      "id": "9fc7a6d9",
      "metadata": {
        "colab": {
          "base_uri": "https://localhost:8080/"
        },
        "id": "9fc7a6d9",
        "outputId": "86006ff4-d31f-420d-c7e5-84ca73aeb281"
      },
      "outputs": [
        {
          "output_type": "stream",
          "name": "stdout",
          "text": [
            "Requirement already satisfied: torchsummary in /usr/local/lib/python3.12/dist-packages (1.5.1)\n",
            "Collecting albumentationsx\n",
            "  Downloading albumentationsx-2.0.11-py3-none-any.whl.metadata (79 kB)\n",
            "\u001b[2K     \u001b[90m━━━━━━━━━━━━━━━━━━━━━━━━━━━━━━━━━━━━━━━━\u001b[0m \u001b[32m79.4/79.4 kB\u001b[0m \u001b[31m4.5 MB/s\u001b[0m eta \u001b[36m0:00:00\u001b[0m\n",
            "\u001b[?25hRequirement already satisfied: numpy>=1.24.4 in /usr/local/lib/python3.12/dist-packages (from albumentationsx) (2.0.2)\n",
            "Requirement already satisfied: scipy>=1.10.0 in /usr/local/lib/python3.12/dist-packages (from albumentationsx) (1.16.2)\n",
            "Requirement already satisfied: PyYAML in /usr/local/lib/python3.12/dist-packages (from albumentationsx) (6.0.2)\n",
            "Requirement already satisfied: pydantic>=2.9.2 in /usr/local/lib/python3.12/dist-packages (from albumentationsx) (2.11.9)\n",
            "Collecting albucore==0.0.33 (from albumentationsx)\n",
            "  Downloading albucore-0.0.33-py3-none-any.whl.metadata (7.8 kB)\n",
            "Requirement already satisfied: opencv-python-headless>=4.9.0.80 in /usr/local/lib/python3.12/dist-packages (from albumentationsx) (4.12.0.88)\n",
            "Requirement already satisfied: stringzilla>=3.10.4 in /usr/local/lib/python3.12/dist-packages (from albucore==0.0.33->albumentationsx) (4.0.11)\n",
            "Requirement already satisfied: simsimd>=5.9.2 in /usr/local/lib/python3.12/dist-packages (from albucore==0.0.33->albumentationsx) (6.5.3)\n",
            "Requirement already satisfied: annotated-types>=0.6.0 in /usr/local/lib/python3.12/dist-packages (from pydantic>=2.9.2->albumentationsx) (0.7.0)\n",
            "Requirement already satisfied: pydantic-core==2.33.2 in /usr/local/lib/python3.12/dist-packages (from pydantic>=2.9.2->albumentationsx) (2.33.2)\n",
            "Requirement already satisfied: typing-extensions>=4.12.2 in /usr/local/lib/python3.12/dist-packages (from pydantic>=2.9.2->albumentationsx) (4.15.0)\n",
            "Requirement already satisfied: typing-inspection>=0.4.0 in /usr/local/lib/python3.12/dist-packages (from pydantic>=2.9.2->albumentationsx) (0.4.1)\n",
            "Downloading albumentationsx-2.0.11-py3-none-any.whl (411 kB)\n",
            "\u001b[2K   \u001b[90m━━━━━━━━━━━━━━━━━━━━━━━━━━━━━━━━━━━━━━━━\u001b[0m \u001b[32m411.6/411.6 kB\u001b[0m \u001b[31m35.0 MB/s\u001b[0m eta \u001b[36m0:00:00\u001b[0m\n",
            "\u001b[?25hDownloading albucore-0.0.33-py3-none-any.whl (18 kB)\n",
            "Installing collected packages: albucore, albumentationsx\n",
            "  Attempting uninstall: albucore\n",
            "    Found existing installation: albucore 0.0.24\n",
            "    Uninstalling albucore-0.0.24:\n",
            "      Successfully uninstalled albucore-0.0.24\n",
            "\u001b[31mERROR: pip's dependency resolver does not currently take into account all the packages that are installed. This behaviour is the source of the following dependency conflicts.\n",
            "albumentations 2.0.8 requires albucore==0.0.24, but you have albucore 0.0.33 which is incompatible.\u001b[0m\u001b[31m\n",
            "\u001b[0mSuccessfully installed albucore-0.0.33 albumentationsx-2.0.11\n"
          ]
        }
      ],
      "source": [
        "import sys\n",
        "import torch\n",
        "from torchvision import datasets\n",
        "import numpy as np\n",
        "from torchvision.transforms import v2\n",
        "import matplotlib.pyplot as plt\n",
        "import torch.nn as nn\n",
        "import torch.nn.functional as F\n",
        "import cv2\n",
        "\n",
        "if 'google.colab' in sys.modules:\n",
        "    !pip install torchsummary\n",
        "    !pip install albumentationsx\n",
        "\n",
        "import albumentations as A\n",
        "from albumentations.pytorch import ToTensorV2\n",
        "from torchsummary import summary\n",
        "from tqdm import tqdm\n",
        "\n",
        "import logging\n",
        "logging.basicConfig(level=logging.ERROR, format='%(asctime)s - %(levelname)s - %(message)s')\n",
        "logger = logging.getLogger(__name__)\n",
        "\n",
        "from model_v1 import Net"
      ]
    },
    {
      "cell_type": "code",
      "execution_count": 3,
      "id": "2f878237",
      "metadata": {
        "id": "2f878237",
        "colab": {
          "base_uri": "https://localhost:8080/"
        },
        "outputId": "cd2fb35a-aef3-4e11-ed11-ae79578cf40b"
      },
      "outputs": [
        {
          "output_type": "stream",
          "name": "stdout",
          "text": [
            "Cuda available = True, Using device = cuda\n"
          ]
        }
      ],
      "source": [
        "is_cuda = torch.cuda.is_available()\n",
        "device = torch.device(\"cuda\" if is_cuda else \"cpu\")\n",
        "print(f\"Cuda available = {is_cuda}, Using device = {device}\")"
      ]
    },
    {
      "cell_type": "code",
      "source": [
        "# Mean and Standard Deviation of CIFAR-10 dataset\n",
        "CIFAR10_MEAN = (0.49139968, 0.48215827, 0.44653124)\n",
        "CIFAR10_STD = (0.24703233, 0.24348505, 0.26158768)\n",
        "if 'google.colab' in sys.modules:\n",
        "    BATCH_SIZE = 512\n",
        "else:\n",
        "    BATCH_SIZE = 32\n",
        "CIFAR10_LABELS = ['airplane','automobile','bird','cat','deer','dog','frog','horse','ship','truck']\n",
        "GET_DATASET_STATS_FLAG = True"
      ],
      "metadata": {
        "id": "6YuMngmmC7Oj"
      },
      "id": "6YuMngmmC7Oj",
      "execution_count": 5,
      "outputs": []
    },
    {
      "cell_type": "code",
      "source": [
        "class AlbumentationsTransform:\n",
        "    def __init__(self, transform):\n",
        "        self.transform = transform\n",
        "\n",
        "    def __call__(self, img):\n",
        "        # CIFAR10 gives PIL image -> convert to numpy\n",
        "        img = np.array(img)\n",
        "        # Apply Albumentations\n",
        "        augmented = self.transform(image=img)\n",
        "        return augmented[\"image\"]\n",
        "\n",
        "train_transforms = AlbumentationsTransform(A.Compose([\n",
        "    A.Resize(32, 32),\n",
        "    A.HorizontalFlip(p=0.25),\n",
        "    A.ShiftScaleRotate(\n",
        "        shift_limit=(-0.0625, 0.0625),\n",
        "        scale_limit=(-0.1, 0.1),\n",
        "        rotate_limit=(-45, 45),\n",
        "        interpolation=cv2.INTER_LINEAR,\n",
        "        border_mode=cv2.BORDER_CONSTANT,\n",
        "        rotate_method=\"largest_box\",\n",
        "        p=0.5),\n",
        "    A.CoarseDropout(\n",
        "        num_holes_range=(1,1),\n",
        "        hole_height_range=(5, 15),\n",
        "        hole_width_range=(5, 15),\n",
        "        fill=0,\n",
        "        p=0.5\n",
        "    ),\n",
        "    A.Normalize(mean=CIFAR10_MEAN, std=CIFAR10_STD),\n",
        "    ToTensorV2(),\n",
        "]))\n",
        "\n",
        "test_transforms = AlbumentationsTransform(A.Compose([\n",
        "    A.Resize(32, 32),\n",
        "    A.Normalize(mean=CIFAR10_MEAN, std=CIFAR10_STD),\n",
        "    ToTensorV2(),\n",
        "]))"
      ],
      "metadata": {
        "id": "g2LF3MrlDEvr"
      },
      "id": "g2LF3MrlDEvr",
      "execution_count": 16,
      "outputs": []
    },
    {
      "cell_type": "code",
      "source": [
        "cifar_train_dataset = datasets.CIFAR10(\n",
        "    root='../../',\n",
        "    train=True,\n",
        "    download=True,\n",
        "    transform=train_transforms,\n",
        ")\n",
        "\n",
        "cifar_test_dataset = datasets.CIFAR10(\n",
        "    root='../../',\n",
        "    train=False,\n",
        "    download=True,\n",
        "    transform=test_transforms,\n",
        ")\n",
        "\n",
        "train_kwargs = {'batch_size': BATCH_SIZE, 'shuffle': True,  'num_workers': 2, 'pin_memory': is_cuda}\n",
        "test_kwargs = {'batch_size': BATCH_SIZE, 'shuffle': True,  'num_workers': 2, 'pin_memory': is_cuda}\n",
        "\n",
        "train_loader = torch.utils.data.DataLoader(cifar_train_dataset, **train_kwargs)\n",
        "test_loader  = torch.utils.data.DataLoader(cifar_test_dataset,  **test_kwargs)"
      ],
      "metadata": {
        "id": "GXnGvNgHDh7W"
      },
      "id": "GXnGvNgHDh7W",
      "execution_count": 17,
      "outputs": []
    },
    {
      "cell_type": "code",
      "execution_count": null,
      "id": "b664865a",
      "metadata": {
        "id": "b664865a",
        "outputId": "f6391b59-0d24-4df6-ea9a-7695a5c33016",
        "colab": {
          "base_uri": "https://localhost:8080/",
          "height": 445
        }
      },
      "outputs": [
        {
          "output_type": "display_data",
          "data": {
            "text/plain": [
              "<Figure size 640x480 with 1 Axes>"
            ],
            "image/png": "[encoded data removed]"
          },
          "metadata": {}
        }
      ],
      "source": [
        "if GET_DATASET_STATS_FLAG:\n",
        "    imgs = [item[0] for item in cifar_train_dataset]\n",
        "    imgs = torch.stack(imgs, dim=0).numpy()\n",
        "    imgs_r = imgs[:,0,:,:].flatten()\n",
        "    imgs_g = imgs[:,1,:,:].flatten()\n",
        "    imgs_b = imgs[:,2,:,:].flatten()\n",
        "    logger.info(f\"Flatten images size {imgs_r.shape}, {imgs_g.shape}, {imgs_b.shape}\")\n",
        "\n",
        "    plt.hist(imgs_r, bins=50, alpha=0.33, color='r', label='Red')\n",
        "    plt.hist(imgs_g, bins=50, alpha=0.33, color='g', label='Green')\n",
        "    plt.hist(imgs_b, bins=50, alpha=0.33, color='b', label='Blue')\n",
        "    plt.legend()\n",
        "    plt.show()"
      ]
    },
    {
      "cell_type": "code",
      "execution_count": 18,
      "id": "d29d0682",
      "metadata": {
        "id": "d29d0682"
      },
      "outputs": [],
      "source": [
        "def dataset_visualizer(dataset_loader, n_images=12):\n",
        "    \"\"\"Visualize a few samples from the dataset loader.\"\"\"\n",
        "    batch_data, batch_label = next(iter(dataset_loader))\n",
        "    n_images = min(n_images, len(batch_data))\n",
        "\n",
        "    fig = plt.figure(figsize=(10, 8))\n",
        "    for i in range(n_images):\n",
        "        plt.subplot(3, 4, i+1)\n",
        "        plt.tight_layout()\n",
        "        image_data = batch_data[i].squeeze(0)\n",
        "        image_data = image_data.permute(1,2,0)\n",
        "        plt.imshow(image_data)\n",
        "        plt.title(CIFAR10_LABELS[batch_label[i].item()])\n",
        "        plt.xticks([])\n",
        "        plt.yticks([])\n",
        "    plt.show()"
      ]
    },
    {
      "cell_type": "code",
      "execution_count": 19,
      "id": "6988f18c",
      "metadata": {
        "colab": {
          "base_uri": "https://localhost:8080/",
          "height": 906
        },
        "id": "6988f18c",
        "outputId": "7ebf11b9-951e-4e53-eaed-049055e77f20"
      },
      "outputs": [
        {
          "output_type": "stream",
          "name": "stderr",
          "text": [
            "WARNING:matplotlib.image:Clipping input data to the valid range for imshow with RGB data ([0..1] for floats or [0..255] for integers). Got range [-1.9892119..1.9000939].\n",
            "WARNING:matplotlib.image:Clipping input data to the valid range for imshow with RGB data ([0..1] for floats or [0..255] for integers). Got range [-1.9892119..0.10695678].\n",
            "WARNING:matplotlib.image:Clipping input data to the valid range for imshow with RGB data ([0..1] for floats or [0..255] for integers). Got range [-1.9892119..1.4561839].\n",
            "WARNING:matplotlib.image:Clipping input data to the valid range for imshow with RGB data ([0..1] for floats or [0..255] for integers). Got range [-1.9892119..1.9958746].\n",
            "WARNING:matplotlib.image:Clipping input data to the valid range for imshow with RGB data ([0..1] for floats or [0..255] for integers). Got range [-1.9892119..1.9335185].\n",
            "WARNING:matplotlib.image:Clipping input data to the valid range for imshow with RGB data ([0..1] for floats or [0..255] for integers). Got range [-1.9892119..1.8529886].\n",
            "WARNING:matplotlib.image:Clipping input data to the valid range for imshow with RGB data ([0..1] for floats or [0..255] for integers). Got range [-1.9892119..2.058841].\n",
            "WARNING:matplotlib.image:Clipping input data to the valid range for imshow with RGB data ([0..1] for floats or [0..255] for integers). Got range [-1.5936939..2.1008146].\n",
            "WARNING:matplotlib.image:Clipping input data to the valid range for imshow with RGB data ([0..1] for floats or [0..255] for integers). Got range [-1.9892119..1.9657305].\n",
            "WARNING:matplotlib.image:Clipping input data to the valid range for imshow with RGB data ([0..1] for floats or [0..255] for integers). Got range [-1.9892119..2.0945785].\n",
            "WARNING:matplotlib.image:Clipping input data to the valid range for imshow with RGB data ([0..1] for floats or [0..255] for integers). Got range [-1.9892119..2.1267905].\n",
            "WARNING:matplotlib.image:Clipping input data to the valid range for imshow with RGB data ([0..1] for floats or [0..255] for integers). Got range [-1.9892119..2.0784726].\n"
          ]
        },
        {
          "output_type": "display_data",
          "data": {
            "text/plain": [
              "<Figure size 1000x800 with 12 Axes>"
            ],
            "image/png": "[encoded data removed]"
          },
          "metadata": {}
        }
      ],
      "source": [
        "dataset_visualizer(train_loader)"
      ]
    },
    {
      "cell_type": "code",
      "execution_count": 20,
      "id": "4fd104e3",
      "metadata": {
        "id": "4fd104e3"
      },
      "outputs": [],
      "source": [
        "criterion = nn.CrossEntropyLoss()\n",
        "train_loss_data = []\n",
        "train_accuracy = []\n",
        "test_loss_data = []\n",
        "test_accuracy = []\n",
        "\n",
        "best_loss = float('inf')   # initialize with infinity\n",
        "\n",
        "def train(model, device, train_loader, optimizer, epoch):\n",
        "    model.train()\n",
        "    pbar = tqdm(train_loader)\n",
        "\n",
        "    correct = 0\n",
        "    total = 0\n",
        "    running_loss = 0.0\n",
        "\n",
        "    for batch_idx, (data, target) in enumerate(pbar):\n",
        "        data, target = data.to(device), target.to(device)\n",
        "        optimizer.zero_grad()\n",
        "        output = model(data)\n",
        "        loss = criterion(output, target)\n",
        "        loss.backward()\n",
        "        optimizer.step()\n",
        "\n",
        "        running_loss += loss.item()\n",
        "        pred = output.argmax(dim=1, keepdim=True)\n",
        "        correct += pred.eq(target.view_as(pred)).sum().item()\n",
        "        total += target.size(0)\n",
        "\n",
        "        pbar.set_description(desc=f'loss={loss.item():.4f} batch_id={batch_idx}')\n",
        "\n",
        "    # Epoch-level stats\n",
        "    avg_loss = running_loss / len(train_loader)\n",
        "    acc = 100. * correct / total\n",
        "\n",
        "    train_loss_data.append(avg_loss)\n",
        "    train_accuracy.append(acc)\n",
        "\n",
        "    print(f'\\nTrain set (epoch {epoch}): Average loss: {avg_loss:.4f}, Accuracy: {correct}/{total} ({acc:.2f}%)\\n')\n",
        "\n",
        "\n",
        "def test(model, device, test_loader, epoch):\n",
        "    global best_loss  # to update across epochs\n",
        "    model.eval()\n",
        "    test_loss = 0\n",
        "    correct = 0\n",
        "    with torch.no_grad():\n",
        "        for data, target in test_loader:\n",
        "            data, target = data.to(device), target.to(device)\n",
        "            output = model(data)\n",
        "            test_loss += F.cross_entropy(output, target, reduction='sum').item()  # sum up batch loss\n",
        "            pred = output.argmax(dim=1, keepdim=True)\n",
        "            correct += pred.eq(target.view_as(pred)).sum().item()\n",
        "\n",
        "    test_loss /= len(test_loader.dataset)\n",
        "    test_loss_data.append(test_loss)\n",
        "    acc = 100. * correct / len(test_loader.dataset)\n",
        "    test_accuracy.append(acc)\n",
        "\n",
        "    print(f'Test set (epoch {epoch}): Average loss: {test_loss:.4f}, Accuracy: {correct}/{len(test_loader.dataset)} ({acc:.2f}%)\\n')\n",
        "\n",
        "    # ✅ Save best model by lowest test loss\n",
        "    if test_loss < best_loss:\n",
        "        best_loss = test_loss\n",
        "        if 'google.colab' in sys.modules:\n",
        "            torch.save(model.state_dict(), \"/content/drive/MyDrive/CIFAR10/best_model.pt\")\n",
        "        else:\n",
        "            torch.save(model.state_dict(), \"best_model.pt\")\n",
        "        print(f\"✅ Saved new best model at epoch {epoch} with loss {best_loss:.4f}\")\n",
        "\n",
        "    return test_loss\n"
      ]
    },
    {
      "cell_type": "code",
      "execution_count": 21,
      "id": "7ba5a772",
      "metadata": {
        "colab": {
          "base_uri": "https://localhost:8080/"
        },
        "id": "7ba5a772",
        "outputId": "9d51ccc7-51a6-47dd-8fb6-6e1173cf677a"
      },
      "outputs": [
        {
          "output_type": "stream",
          "name": "stdout",
          "text": [
            "----------------------------------------------------------------\n",
            "        Layer (type)               Output Shape         Param #\n",
            "================================================================\n",
            "            Conv2d-1           [-1, 32, 32, 32]             896\n",
            "       BatchNorm2d-2           [-1, 32, 32, 32]              64\n",
            "            Conv2d-3           [-1, 32, 32, 32]           9,248\n",
            "       BatchNorm2d-4           [-1, 32, 32, 32]              64\n",
            "            Conv2d-5           [-1, 32, 32, 32]           9,248\n",
            "       BatchNorm2d-6           [-1, 32, 32, 32]              64\n",
            "            Conv2d-7           [-1, 64, 32, 32]           2,112\n",
            "       BatchNorm2d-8           [-1, 64, 32, 32]             128\n",
            "         MaxPool2d-9           [-1, 64, 16, 16]               0\n",
            "           Conv2d-10           [-1, 64, 16, 16]             576\n",
            "           Conv2d-11           [-1, 64, 16, 16]           4,096\n",
            "DepthwiseSeparableConv-12           [-1, 64, 16, 16]               0\n",
            "      BatchNorm2d-13           [-1, 64, 16, 16]             128\n",
            "           Conv2d-14           [-1, 64, 16, 16]             576\n",
            "           Conv2d-15           [-1, 64, 16, 16]           4,096\n",
            "DepthwiseSeparableConv-16           [-1, 64, 16, 16]               0\n",
            "      BatchNorm2d-17           [-1, 64, 16, 16]             128\n",
            "           Conv2d-18           [-1, 64, 16, 16]             576\n",
            "           Conv2d-19           [-1, 64, 16, 16]           4,096\n",
            "DepthwiseSeparableConv-20           [-1, 64, 16, 16]               0\n",
            "      BatchNorm2d-21           [-1, 64, 16, 16]             128\n",
            "           Conv2d-22          [-1, 128, 16, 16]           8,320\n",
            "      BatchNorm2d-23          [-1, 128, 16, 16]             256\n",
            "        MaxPool2d-24            [-1, 128, 8, 8]               0\n",
            "           Conv2d-25            [-1, 128, 8, 8]           1,152\n",
            "           Conv2d-26            [-1, 128, 8, 8]          16,384\n",
            "DepthwiseSeparableConv-27            [-1, 128, 8, 8]               0\n",
            "      BatchNorm2d-28            [-1, 128, 8, 8]             256\n",
            "           Conv2d-29            [-1, 128, 8, 8]           1,152\n",
            "           Conv2d-30            [-1, 128, 8, 8]          16,384\n",
            "DepthwiseSeparableConv-31            [-1, 128, 8, 8]               0\n",
            "      BatchNorm2d-32            [-1, 128, 8, 8]             256\n",
            "           Conv2d-33            [-1, 128, 8, 8]           1,152\n",
            "           Conv2d-34            [-1, 128, 8, 8]          16,384\n",
            "DepthwiseSeparableConv-35            [-1, 128, 8, 8]               0\n",
            "      BatchNorm2d-36            [-1, 128, 8, 8]             256\n",
            "           Conv2d-37            [-1, 128, 8, 8]          16,512\n",
            "      BatchNorm2d-38            [-1, 128, 8, 8]             256\n",
            "        MaxPool2d-39            [-1, 128, 4, 4]               0\n",
            "           Conv2d-40             [-1, 10, 4, 4]           1,290\n",
            "================================================================\n",
            "Total params: 116,234\n",
            "Trainable params: 116,234\n",
            "Non-trainable params: 0\n",
            "----------------------------------------------------------------\n",
            "Input size (MB): 0.01\n",
            "Forward/backward pass size (MB): 5.58\n",
            "Params size (MB): 0.44\n",
            "Estimated Total Size (MB): 6.03\n",
            "----------------------------------------------------------------\n"
          ]
        }
      ],
      "source": [
        "model = Net().to(device)\n",
        "\n",
        "dummy_data = torch.randn(5, 3, 32, 32).to(device)\n",
        "dummy_output = model(dummy_data)\n",
        "logger.info(f\"CNN output shape = {dummy_output.shape}\")\n",
        "summary(model, input_size=(3, 32, 32), device=str(device))"
      ]
    },
    {
      "cell_type": "code",
      "execution_count": 22,
      "id": "a7bf9947",
      "metadata": {
        "colab": {
          "base_uri": "https://localhost:8080/"
        },
        "id": "a7bf9947",
        "outputId": "69ff2da8-1504-4821-ee48-72109c7cab93"
      },
      "outputs": [
        {
          "output_type": "stream",
          "name": "stderr",
          "text": [
            "loss=1.3859 batch_id=97: 100%|██████████| 98/98 [00:23<00:00,  4.25it/s]"
          ]
        },
        {
          "output_type": "stream",
          "name": "stdout",
          "text": [
            "\n",
            "Train set (epoch 0): Average loss: 1.6868, Accuracy: 18881/50000 (37.76%)\n",
            "\n"
          ]
        },
        {
          "output_type": "stream",
          "name": "stderr",
          "text": [
            "\n"
          ]
        },
        {
          "output_type": "stream",
          "name": "stdout",
          "text": [
            "Test set (epoch 0): Average loss: 1.3456, Accuracy: 5009/10000 (50.09%)\n",
            "\n",
            "✅ Saved new best model at epoch 0 with loss 1.3456\n"
          ]
        },
        {
          "output_type": "stream",
          "name": "stderr",
          "text": [
            "loss=1.2292 batch_id=97: 100%|██████████| 98/98 [00:22<00:00,  4.37it/s]"
          ]
        },
        {
          "output_type": "stream",
          "name": "stdout",
          "text": [
            "\n",
            "Train set (epoch 1): Average loss: 1.3024, Accuracy: 26401/50000 (52.80%)\n",
            "\n"
          ]
        },
        {
          "output_type": "stream",
          "name": "stderr",
          "text": [
            "\n"
          ]
        },
        {
          "output_type": "stream",
          "name": "stdout",
          "text": [
            "Test set (epoch 1): Average loss: 1.3231, Accuracy: 5368/10000 (53.68%)\n",
            "\n",
            "✅ Saved new best model at epoch 1 with loss 1.3231\n"
          ]
        },
        {
          "output_type": "stream",
          "name": "stderr",
          "text": [
            "loss=1.1525 batch_id=97: 100%|██████████| 98/98 [00:22<00:00,  4.34it/s]"
          ]
        },
        {
          "output_type": "stream",
          "name": "stdout",
          "text": [
            "\n",
            "Train set (epoch 2): Average loss: 1.1467, Accuracy: 29313/50000 (58.63%)\n",
            "\n"
          ]
        },
        {
          "output_type": "stream",
          "name": "stderr",
          "text": [
            "\n"
          ]
        },
        {
          "output_type": "stream",
          "name": "stdout",
          "text": [
            "Test set (epoch 2): Average loss: 1.0424, Accuracy: 6252/10000 (62.52%)\n",
            "\n",
            "✅ Saved new best model at epoch 2 with loss 1.0424\n"
          ]
        },
        {
          "output_type": "stream",
          "name": "stderr",
          "text": [
            "loss=1.0484 batch_id=97: 100%|██████████| 98/98 [00:23<00:00,  4.20it/s]"
          ]
        },
        {
          "output_type": "stream",
          "name": "stdout",
          "text": [
            "\n",
            "Train set (epoch 3): Average loss: 1.0546, Accuracy: 31039/50000 (62.08%)\n",
            "\n"
          ]
        },
        {
          "output_type": "stream",
          "name": "stderr",
          "text": [
            "\n"
          ]
        },
        {
          "output_type": "stream",
          "name": "stdout",
          "text": [
            "Test set (epoch 3): Average loss: 1.0716, Accuracy: 6248/10000 (62.48%)\n",
            "\n"
          ]
        },
        {
          "output_type": "stream",
          "name": "stderr",
          "text": [
            "loss=0.9464 batch_id=97: 100%|██████████| 98/98 [00:24<00:00,  4.07it/s]"
          ]
        },
        {
          "output_type": "stream",
          "name": "stdout",
          "text": [
            "\n",
            "Train set (epoch 4): Average loss: 0.9795, Accuracy: 32538/50000 (65.08%)\n",
            "\n"
          ]
        },
        {
          "output_type": "stream",
          "name": "stderr",
          "text": [
            "\n"
          ]
        },
        {
          "output_type": "stream",
          "name": "stdout",
          "text": [
            "Test set (epoch 4): Average loss: 0.8973, Accuracy: 6861/10000 (68.61%)\n",
            "\n",
            "✅ Saved new best model at epoch 4 with loss 0.8973\n"
          ]
        },
        {
          "output_type": "stream",
          "name": "stderr",
          "text": [
            "loss=0.9470 batch_id=97: 100%|██████████| 98/98 [00:21<00:00,  4.57it/s]"
          ]
        },
        {
          "output_type": "stream",
          "name": "stdout",
          "text": [
            "\n",
            "Train set (epoch 5): Average loss: 0.9240, Accuracy: 33603/50000 (67.21%)\n",
            "\n"
          ]
        },
        {
          "output_type": "stream",
          "name": "stderr",
          "text": [
            "\n"
          ]
        },
        {
          "output_type": "stream",
          "name": "stdout",
          "text": [
            "Test set (epoch 5): Average loss: 0.8516, Accuracy: 7005/10000 (70.05%)\n",
            "\n",
            "✅ Saved new best model at epoch 5 with loss 0.8516\n"
          ]
        },
        {
          "output_type": "stream",
          "name": "stderr",
          "text": [
            "loss=0.8615 batch_id=97: 100%|██████████| 98/98 [00:21<00:00,  4.60it/s]"
          ]
        },
        {
          "output_type": "stream",
          "name": "stdout",
          "text": [
            "\n",
            "Train set (epoch 6): Average loss: 0.8757, Accuracy: 34516/50000 (69.03%)\n",
            "\n"
          ]
        },
        {
          "output_type": "stream",
          "name": "stderr",
          "text": [
            "\n"
          ]
        },
        {
          "output_type": "stream",
          "name": "stdout",
          "text": [
            "Test set (epoch 6): Average loss: 0.8976, Accuracy: 6933/10000 (69.33%)\n",
            "\n"
          ]
        },
        {
          "output_type": "stream",
          "name": "stderr",
          "text": [
            "loss=0.7220 batch_id=97: 100%|██████████| 98/98 [00:22<00:00,  4.36it/s]"
          ]
        },
        {
          "output_type": "stream",
          "name": "stdout",
          "text": [
            "\n",
            "Train set (epoch 7): Average loss: 0.8348, Accuracy: 35234/50000 (70.47%)\n",
            "\n"
          ]
        },
        {
          "output_type": "stream",
          "name": "stderr",
          "text": [
            "\n"
          ]
        },
        {
          "output_type": "stream",
          "name": "stdout",
          "text": [
            "Test set (epoch 7): Average loss: 0.7592, Accuracy: 7356/10000 (73.56%)\n",
            "\n",
            "✅ Saved new best model at epoch 7 with loss 0.7592\n"
          ]
        },
        {
          "output_type": "stream",
          "name": "stderr",
          "text": [
            "loss=0.7450 batch_id=97: 100%|██████████| 98/98 [00:22<00:00,  4.43it/s]"
          ]
        },
        {
          "output_type": "stream",
          "name": "stdout",
          "text": [
            "\n",
            "Train set (epoch 8): Average loss: 0.8060, Accuracy: 35778/50000 (71.56%)\n",
            "\n"
          ]
        },
        {
          "output_type": "stream",
          "name": "stderr",
          "text": [
            "\n"
          ]
        },
        {
          "output_type": "stream",
          "name": "stdout",
          "text": [
            "Test set (epoch 8): Average loss: 0.8127, Accuracy: 7229/10000 (72.29%)\n",
            "\n"
          ]
        },
        {
          "output_type": "stream",
          "name": "stderr",
          "text": [
            "loss=0.7718 batch_id=97: 100%|██████████| 98/98 [00:21<00:00,  4.62it/s]"
          ]
        },
        {
          "output_type": "stream",
          "name": "stdout",
          "text": [
            "\n",
            "Train set (epoch 9): Average loss: 0.7698, Accuracy: 36518/50000 (73.04%)\n",
            "\n"
          ]
        },
        {
          "output_type": "stream",
          "name": "stderr",
          "text": [
            "\n"
          ]
        },
        {
          "output_type": "stream",
          "name": "stdout",
          "text": [
            "Test set (epoch 9): Average loss: 0.6864, Accuracy: 7633/10000 (76.33%)\n",
            "\n",
            "✅ Saved new best model at epoch 9 with loss 0.6864\n"
          ]
        },
        {
          "output_type": "stream",
          "name": "stderr",
          "text": [
            "loss=0.7739 batch_id=97: 100%|██████████| 98/98 [00:22<00:00,  4.34it/s]"
          ]
        },
        {
          "output_type": "stream",
          "name": "stdout",
          "text": [
            "\n",
            "Train set (epoch 10): Average loss: 0.7441, Accuracy: 36879/50000 (73.76%)\n",
            "\n"
          ]
        },
        {
          "output_type": "stream",
          "name": "stderr",
          "text": [
            "\n"
          ]
        },
        {
          "output_type": "stream",
          "name": "stdout",
          "text": [
            "Test set (epoch 10): Average loss: 0.7565, Accuracy: 7409/10000 (74.09%)\n",
            "\n"
          ]
        },
        {
          "output_type": "stream",
          "name": "stderr",
          "text": [
            "loss=0.7582 batch_id=97: 100%|██████████| 98/98 [00:22<00:00,  4.41it/s]"
          ]
        },
        {
          "output_type": "stream",
          "name": "stdout",
          "text": [
            "\n",
            "Train set (epoch 11): Average loss: 0.7314, Accuracy: 37147/50000 (74.29%)\n",
            "\n"
          ]
        },
        {
          "output_type": "stream",
          "name": "stderr",
          "text": [
            "\n"
          ]
        },
        {
          "output_type": "stream",
          "name": "stdout",
          "text": [
            "Test set (epoch 11): Average loss: 0.6408, Accuracy: 7770/10000 (77.70%)\n",
            "\n",
            "✅ Saved new best model at epoch 11 with loss 0.6408\n"
          ]
        },
        {
          "output_type": "stream",
          "name": "stderr",
          "text": [
            "loss=0.6893 batch_id=97: 100%|██████████| 98/98 [00:20<00:00,  4.67it/s]"
          ]
        },
        {
          "output_type": "stream",
          "name": "stdout",
          "text": [
            "\n",
            "Train set (epoch 12): Average loss: 0.7009, Accuracy: 37707/50000 (75.41%)\n",
            "\n"
          ]
        },
        {
          "output_type": "stream",
          "name": "stderr",
          "text": [
            "\n"
          ]
        },
        {
          "output_type": "stream",
          "name": "stdout",
          "text": [
            "Test set (epoch 12): Average loss: 0.6188, Accuracy: 7871/10000 (78.71%)\n",
            "\n",
            "✅ Saved new best model at epoch 12 with loss 0.6188\n"
          ]
        },
        {
          "output_type": "stream",
          "name": "stderr",
          "text": [
            "loss=0.7773 batch_id=97: 100%|██████████| 98/98 [00:24<00:00,  4.00it/s]"
          ]
        },
        {
          "output_type": "stream",
          "name": "stdout",
          "text": [
            "\n",
            "Train set (epoch 13): Average loss: 0.6843, Accuracy: 38010/50000 (76.02%)\n",
            "\n"
          ]
        },
        {
          "output_type": "stream",
          "name": "stderr",
          "text": [
            "\n"
          ]
        },
        {
          "output_type": "stream",
          "name": "stdout",
          "text": [
            "Test set (epoch 13): Average loss: 0.6718, Accuracy: 7690/10000 (76.90%)\n",
            "\n"
          ]
        },
        {
          "output_type": "stream",
          "name": "stderr",
          "text": [
            "loss=0.6591 batch_id=97: 100%|██████████| 98/98 [00:23<00:00,  4.17it/s]"
          ]
        },
        {
          "output_type": "stream",
          "name": "stdout",
          "text": [
            "\n",
            "Train set (epoch 14): Average loss: 0.6705, Accuracy: 38207/50000 (76.41%)\n",
            "\n"
          ]
        },
        {
          "output_type": "stream",
          "name": "stderr",
          "text": [
            "\n"
          ]
        },
        {
          "output_type": "stream",
          "name": "stdout",
          "text": [
            "Test set (epoch 14): Average loss: 0.7299, Accuracy: 7595/10000 (75.95%)\n",
            "\n"
          ]
        },
        {
          "output_type": "stream",
          "name": "stderr",
          "text": [
            "loss=0.6914 batch_id=97: 100%|██████████| 98/98 [00:21<00:00,  4.55it/s]"
          ]
        },
        {
          "output_type": "stream",
          "name": "stdout",
          "text": [
            "\n",
            "Train set (epoch 15): Average loss: 0.6524, Accuracy: 38580/50000 (77.16%)\n",
            "\n"
          ]
        },
        {
          "output_type": "stream",
          "name": "stderr",
          "text": [
            "\n"
          ]
        },
        {
          "output_type": "stream",
          "name": "stdout",
          "text": [
            "Test set (epoch 15): Average loss: 0.6644, Accuracy: 7795/10000 (77.95%)\n",
            "\n"
          ]
        },
        {
          "output_type": "stream",
          "name": "stderr",
          "text": [
            "loss=0.6710 batch_id=97: 100%|██████████| 98/98 [00:22<00:00,  4.41it/s]"
          ]
        },
        {
          "output_type": "stream",
          "name": "stdout",
          "text": [
            "\n",
            "Train set (epoch 16): Average loss: 0.6384, Accuracy: 38893/50000 (77.79%)\n",
            "\n"
          ]
        },
        {
          "output_type": "stream",
          "name": "stderr",
          "text": [
            "\n"
          ]
        },
        {
          "output_type": "stream",
          "name": "stdout",
          "text": [
            "Test set (epoch 16): Average loss: 0.6397, Accuracy: 7830/10000 (78.30%)\n",
            "\n"
          ]
        },
        {
          "output_type": "stream",
          "name": "stderr",
          "text": [
            "loss=0.5881 batch_id=97: 100%|██████████| 98/98 [00:22<00:00,  4.35it/s]"
          ]
        },
        {
          "output_type": "stream",
          "name": "stdout",
          "text": [
            "\n",
            "Train set (epoch 17): Average loss: 0.6265, Accuracy: 39060/50000 (78.12%)\n",
            "\n"
          ]
        },
        {
          "output_type": "stream",
          "name": "stderr",
          "text": [
            "\n"
          ]
        },
        {
          "output_type": "stream",
          "name": "stdout",
          "text": [
            "Test set (epoch 17): Average loss: 0.5707, Accuracy: 8036/10000 (80.36%)\n",
            "\n",
            "✅ Saved new best model at epoch 17 with loss 0.5707\n"
          ]
        },
        {
          "output_type": "stream",
          "name": "stderr",
          "text": [
            "loss=0.7058 batch_id=97: 100%|██████████| 98/98 [00:22<00:00,  4.31it/s]"
          ]
        },
        {
          "output_type": "stream",
          "name": "stdout",
          "text": [
            "\n",
            "Train set (epoch 18): Average loss: 0.6139, Accuracy: 39288/50000 (78.58%)\n",
            "\n"
          ]
        },
        {
          "output_type": "stream",
          "name": "stderr",
          "text": [
            "\n"
          ]
        },
        {
          "output_type": "stream",
          "name": "stdout",
          "text": [
            "Test set (epoch 18): Average loss: 0.5747, Accuracy: 8050/10000 (80.50%)\n",
            "\n"
          ]
        },
        {
          "output_type": "stream",
          "name": "stderr",
          "text": [
            "loss=0.6322 batch_id=97: 100%|██████████| 98/98 [00:21<00:00,  4.63it/s]"
          ]
        },
        {
          "output_type": "stream",
          "name": "stdout",
          "text": [
            "\n",
            "Train set (epoch 19): Average loss: 0.6077, Accuracy: 39343/50000 (78.69%)\n",
            "\n"
          ]
        },
        {
          "output_type": "stream",
          "name": "stderr",
          "text": [
            "\n"
          ]
        },
        {
          "output_type": "stream",
          "name": "stdout",
          "text": [
            "Test set (epoch 19): Average loss: 0.5423, Accuracy: 8146/10000 (81.46%)\n",
            "\n",
            "✅ Saved new best model at epoch 19 with loss 0.5423\n"
          ]
        }
      ],
      "source": [
        "model = Net().to(device)\n",
        "# optimizer = optim.SGD(model.parameters(), lr=0.001, momentum=0.9)\n",
        "optimizer = torch.optim.Adam(model.parameters(), lr=0.001)\n",
        "reduce_lr = torch.optim.lr_scheduler.ReduceLROnPlateau(optimizer=optimizer, factor=0.1,  patience=10)\n",
        "\n",
        "for epoch in range(20):\n",
        "    train(model, device, train_loader, optimizer, epoch)\n",
        "    test_loss = test(model, device, test_loader, epoch)\n",
        "    reduce_lr.step(test_loss)"
      ]
    },
    {
      "cell_type": "code",
      "source": [
        "for epoch in range(20):\n",
        "    train(model, device, train_loader, optimizer, epoch)\n",
        "    test_loss = test(model, device, test_loader, epoch)\n",
        "    reduce_lr.step(test_loss)"
      ],
      "metadata": {
        "id": "VN5wWdYpNFhn",
        "outputId": "1995003e-624c-4caa-f432-85e29f399b39",
        "colab": {
          "base_uri": "https://localhost:8080/"
        }
      },
      "id": "VN5wWdYpNFhn",
      "execution_count": 23,
      "outputs": [
        {
          "output_type": "stream",
          "name": "stderr",
          "text": [
            "loss=0.5696 batch_id=97: 100%|██████████| 98/98 [00:24<00:00,  4.07it/s]"
          ]
        },
        {
          "output_type": "stream",
          "name": "stdout",
          "text": [
            "\n",
            "Train set (epoch 0): Average loss: 0.5847, Accuracy: 39806/50000 (79.61%)\n",
            "\n"
          ]
        },
        {
          "output_type": "stream",
          "name": "stderr",
          "text": [
            "\n"
          ]
        },
        {
          "output_type": "stream",
          "name": "stdout",
          "text": [
            "Test set (epoch 0): Average loss: 0.5837, Accuracy: 7985/10000 (79.85%)\n",
            "\n"
          ]
        },
        {
          "output_type": "stream",
          "name": "stderr",
          "text": [
            "loss=0.6041 batch_id=97: 100%|██████████| 98/98 [00:22<00:00,  4.31it/s]"
          ]
        },
        {
          "output_type": "stream",
          "name": "stdout",
          "text": [
            "\n",
            "Train set (epoch 1): Average loss: 0.5879, Accuracy: 39636/50000 (79.27%)\n",
            "\n"
          ]
        },
        {
          "output_type": "stream",
          "name": "stderr",
          "text": [
            "\n"
          ]
        },
        {
          "output_type": "stream",
          "name": "stdout",
          "text": [
            "Test set (epoch 1): Average loss: 0.5638, Accuracy: 8096/10000 (80.96%)\n",
            "\n"
          ]
        },
        {
          "output_type": "stream",
          "name": "stderr",
          "text": [
            "loss=0.7177 batch_id=97: 100%|██████████| 98/98 [00:21<00:00,  4.59it/s]"
          ]
        },
        {
          "output_type": "stream",
          "name": "stdout",
          "text": [
            "\n",
            "Train set (epoch 2): Average loss: 0.5702, Accuracy: 40061/50000 (80.12%)\n",
            "\n"
          ]
        },
        {
          "output_type": "stream",
          "name": "stderr",
          "text": [
            "\n"
          ]
        },
        {
          "output_type": "stream",
          "name": "stdout",
          "text": [
            "Test set (epoch 2): Average loss: 0.5476, Accuracy: 8167/10000 (81.67%)\n",
            "\n"
          ]
        },
        {
          "output_type": "stream",
          "name": "stderr",
          "text": [
            "loss=0.6805 batch_id=97: 100%|██████████| 98/98 [00:21<00:00,  4.60it/s]"
          ]
        },
        {
          "output_type": "stream",
          "name": "stdout",
          "text": [
            "\n",
            "Train set (epoch 3): Average loss: 0.5639, Accuracy: 40175/50000 (80.35%)\n",
            "\n"
          ]
        },
        {
          "output_type": "stream",
          "name": "stderr",
          "text": [
            "\n"
          ]
        },
        {
          "output_type": "stream",
          "name": "stdout",
          "text": [
            "Test set (epoch 3): Average loss: 0.5637, Accuracy: 8142/10000 (81.42%)\n",
            "\n"
          ]
        },
        {
          "output_type": "stream",
          "name": "stderr",
          "text": [
            "loss=0.4775 batch_id=97: 100%|██████████| 98/98 [00:22<00:00,  4.32it/s]"
          ]
        },
        {
          "output_type": "stream",
          "name": "stdout",
          "text": [
            "\n",
            "Train set (epoch 4): Average loss: 0.5559, Accuracy: 40286/50000 (80.57%)\n",
            "\n"
          ]
        },
        {
          "output_type": "stream",
          "name": "stderr",
          "text": [
            "\n"
          ]
        },
        {
          "output_type": "stream",
          "name": "stdout",
          "text": [
            "Test set (epoch 4): Average loss: 0.5264, Accuracy: 8235/10000 (82.35%)\n",
            "\n",
            "✅ Saved new best model at epoch 4 with loss 0.5264\n"
          ]
        },
        {
          "output_type": "stream",
          "name": "stderr",
          "text": [
            "loss=0.5847 batch_id=97: 100%|██████████| 98/98 [00:21<00:00,  4.54it/s]"
          ]
        },
        {
          "output_type": "stream",
          "name": "stdout",
          "text": [
            "\n",
            "Train set (epoch 5): Average loss: 0.5513, Accuracy: 40369/50000 (80.74%)\n",
            "\n"
          ]
        },
        {
          "output_type": "stream",
          "name": "stderr",
          "text": [
            "\n"
          ]
        },
        {
          "output_type": "stream",
          "name": "stdout",
          "text": [
            "Test set (epoch 5): Average loss: 0.5180, Accuracy: 8219/10000 (82.19%)\n",
            "\n",
            "✅ Saved new best model at epoch 5 with loss 0.5180\n"
          ]
        },
        {
          "output_type": "stream",
          "name": "stderr",
          "text": [
            "loss=0.5618 batch_id=97: 100%|██████████| 98/98 [00:21<00:00,  4.63it/s]"
          ]
        },
        {
          "output_type": "stream",
          "name": "stdout",
          "text": [
            "\n",
            "Train set (epoch 6): Average loss: 0.5388, Accuracy: 40606/50000 (81.21%)\n",
            "\n"
          ]
        },
        {
          "output_type": "stream",
          "name": "stderr",
          "text": [
            "\n"
          ]
        },
        {
          "output_type": "stream",
          "name": "stdout",
          "text": [
            "Test set (epoch 6): Average loss: 0.5225, Accuracy: 8222/10000 (82.22%)\n",
            "\n"
          ]
        },
        {
          "output_type": "stream",
          "name": "stderr",
          "text": [
            "loss=0.6413 batch_id=97: 100%|██████████| 98/98 [00:22<00:00,  4.33it/s]"
          ]
        },
        {
          "output_type": "stream",
          "name": "stdout",
          "text": [
            "\n",
            "Train set (epoch 7): Average loss: 0.5291, Accuracy: 40745/50000 (81.49%)\n",
            "\n"
          ]
        },
        {
          "output_type": "stream",
          "name": "stderr",
          "text": [
            "\n"
          ]
        },
        {
          "output_type": "stream",
          "name": "stdout",
          "text": [
            "Test set (epoch 7): Average loss: 0.5505, Accuracy: 8122/10000 (81.22%)\n",
            "\n"
          ]
        },
        {
          "output_type": "stream",
          "name": "stderr",
          "text": [
            "loss=0.4868 batch_id=97: 100%|██████████| 98/98 [00:22<00:00,  4.44it/s]"
          ]
        },
        {
          "output_type": "stream",
          "name": "stdout",
          "text": [
            "\n",
            "Train set (epoch 8): Average loss: 0.5224, Accuracy: 40877/50000 (81.75%)\n",
            "\n"
          ]
        },
        {
          "output_type": "stream",
          "name": "stderr",
          "text": [
            "\n"
          ]
        },
        {
          "output_type": "stream",
          "name": "stdout",
          "text": [
            "Test set (epoch 8): Average loss: 0.5585, Accuracy: 8142/10000 (81.42%)\n",
            "\n"
          ]
        },
        {
          "output_type": "stream",
          "name": "stderr",
          "text": [
            "loss=0.5795 batch_id=97: 100%|██████████| 98/98 [00:21<00:00,  4.52it/s]"
          ]
        },
        {
          "output_type": "stream",
          "name": "stdout",
          "text": [
            "\n",
            "Train set (epoch 9): Average loss: 0.5185, Accuracy: 41005/50000 (82.01%)\n",
            "\n"
          ]
        },
        {
          "output_type": "stream",
          "name": "stderr",
          "text": [
            "\n"
          ]
        },
        {
          "output_type": "stream",
          "name": "stdout",
          "text": [
            "Test set (epoch 9): Average loss: 0.5965, Accuracy: 8019/10000 (80.19%)\n",
            "\n"
          ]
        },
        {
          "output_type": "stream",
          "name": "stderr",
          "text": [
            "loss=0.5530 batch_id=97: 100%|██████████| 98/98 [00:24<00:00,  4.06it/s]"
          ]
        },
        {
          "output_type": "stream",
          "name": "stdout",
          "text": [
            "\n",
            "Train set (epoch 10): Average loss: 0.5120, Accuracy: 41109/50000 (82.22%)\n",
            "\n"
          ]
        },
        {
          "output_type": "stream",
          "name": "stderr",
          "text": [
            "\n"
          ]
        },
        {
          "output_type": "stream",
          "name": "stdout",
          "text": [
            "Test set (epoch 10): Average loss: 0.5098, Accuracy: 8283/10000 (82.83%)\n",
            "\n",
            "✅ Saved new best model at epoch 10 with loss 0.5098\n"
          ]
        },
        {
          "output_type": "stream",
          "name": "stderr",
          "text": [
            "loss=0.5837 batch_id=97: 100%|██████████| 98/98 [00:23<00:00,  4.26it/s]"
          ]
        },
        {
          "output_type": "stream",
          "name": "stdout",
          "text": [
            "\n",
            "Train set (epoch 11): Average loss: 0.5049, Accuracy: 41179/50000 (82.36%)\n",
            "\n"
          ]
        },
        {
          "output_type": "stream",
          "name": "stderr",
          "text": [
            "\n"
          ]
        },
        {
          "output_type": "stream",
          "name": "stdout",
          "text": [
            "Test set (epoch 11): Average loss: 0.5017, Accuracy: 8341/10000 (83.41%)\n",
            "\n",
            "✅ Saved new best model at epoch 11 with loss 0.5017\n"
          ]
        },
        {
          "output_type": "stream",
          "name": "stderr",
          "text": [
            "loss=0.5285 batch_id=97: 100%|██████████| 98/98 [00:21<00:00,  4.52it/s]"
          ]
        },
        {
          "output_type": "stream",
          "name": "stdout",
          "text": [
            "\n",
            "Train set (epoch 12): Average loss: 0.5029, Accuracy: 41232/50000 (82.46%)\n",
            "\n"
          ]
        },
        {
          "output_type": "stream",
          "name": "stderr",
          "text": [
            "\n"
          ]
        },
        {
          "output_type": "stream",
          "name": "stdout",
          "text": [
            "Test set (epoch 12): Average loss: 0.5066, Accuracy: 8311/10000 (83.11%)\n",
            "\n"
          ]
        },
        {
          "output_type": "stream",
          "name": "stderr",
          "text": [
            "loss=0.4916 batch_id=97: 100%|██████████| 98/98 [00:23<00:00,  4.22it/s]"
          ]
        },
        {
          "output_type": "stream",
          "name": "stdout",
          "text": [
            "\n",
            "Train set (epoch 13): Average loss: 0.4972, Accuracy: 41317/50000 (82.63%)\n",
            "\n"
          ]
        },
        {
          "output_type": "stream",
          "name": "stderr",
          "text": [
            "\n"
          ]
        },
        {
          "output_type": "stream",
          "name": "stdout",
          "text": [
            "Test set (epoch 13): Average loss: 0.4898, Accuracy: 8341/10000 (83.41%)\n",
            "\n",
            "✅ Saved new best model at epoch 13 with loss 0.4898\n"
          ]
        },
        {
          "output_type": "stream",
          "name": "stderr",
          "text": [
            "loss=0.5426 batch_id=97: 100%|██████████| 98/98 [00:22<00:00,  4.29it/s]"
          ]
        },
        {
          "output_type": "stream",
          "name": "stdout",
          "text": [
            "\n",
            "Train set (epoch 14): Average loss: 0.4886, Accuracy: 41452/50000 (82.90%)\n",
            "\n"
          ]
        },
        {
          "output_type": "stream",
          "name": "stderr",
          "text": [
            "\n"
          ]
        },
        {
          "output_type": "stream",
          "name": "stdout",
          "text": [
            "Test set (epoch 14): Average loss: 0.5221, Accuracy: 8246/10000 (82.46%)\n",
            "\n"
          ]
        },
        {
          "output_type": "stream",
          "name": "stderr",
          "text": [
            "loss=0.4167 batch_id=97: 100%|██████████| 98/98 [00:21<00:00,  4.56it/s]"
          ]
        },
        {
          "output_type": "stream",
          "name": "stdout",
          "text": [
            "\n",
            "Train set (epoch 15): Average loss: 0.4866, Accuracy: 41561/50000 (83.12%)\n",
            "\n"
          ]
        },
        {
          "output_type": "stream",
          "name": "stderr",
          "text": [
            "\n"
          ]
        },
        {
          "output_type": "stream",
          "name": "stdout",
          "text": [
            "Test set (epoch 15): Average loss: 0.5043, Accuracy: 8335/10000 (83.35%)\n",
            "\n"
          ]
        },
        {
          "output_type": "stream",
          "name": "stderr",
          "text": [
            "loss=0.4123 batch_id=97: 100%|██████████| 98/98 [00:22<00:00,  4.34it/s]"
          ]
        },
        {
          "output_type": "stream",
          "name": "stdout",
          "text": [
            "\n",
            "Train set (epoch 16): Average loss: 0.4789, Accuracy: 41651/50000 (83.30%)\n",
            "\n"
          ]
        },
        {
          "output_type": "stream",
          "name": "stderr",
          "text": [
            "\n"
          ]
        },
        {
          "output_type": "stream",
          "name": "stdout",
          "text": [
            "Test set (epoch 16): Average loss: 0.5319, Accuracy: 8308/10000 (83.08%)\n",
            "\n"
          ]
        },
        {
          "output_type": "stream",
          "name": "stderr",
          "text": [
            "loss=0.5997 batch_id=97: 100%|██████████| 98/98 [00:23<00:00,  4.16it/s]"
          ]
        },
        {
          "output_type": "stream",
          "name": "stdout",
          "text": [
            "\n",
            "Train set (epoch 17): Average loss: 0.4761, Accuracy: 41706/50000 (83.41%)\n",
            "\n"
          ]
        },
        {
          "output_type": "stream",
          "name": "stderr",
          "text": [
            "\n"
          ]
        },
        {
          "output_type": "stream",
          "name": "stdout",
          "text": [
            "Test set (epoch 17): Average loss: 0.5031, Accuracy: 8342/10000 (83.42%)\n",
            "\n"
          ]
        },
        {
          "output_type": "stream",
          "name": "stderr",
          "text": [
            "loss=0.4670 batch_id=97: 100%|██████████| 98/98 [00:22<00:00,  4.27it/s]"
          ]
        },
        {
          "output_type": "stream",
          "name": "stdout",
          "text": [
            "\n",
            "Train set (epoch 18): Average loss: 0.4703, Accuracy: 41787/50000 (83.57%)\n",
            "\n"
          ]
        },
        {
          "output_type": "stream",
          "name": "stderr",
          "text": [
            "\n"
          ]
        },
        {
          "output_type": "stream",
          "name": "stdout",
          "text": [
            "Test set (epoch 18): Average loss: 0.5174, Accuracy: 8297/10000 (82.97%)\n",
            "\n"
          ]
        },
        {
          "output_type": "stream",
          "name": "stderr",
          "text": [
            "loss=0.4681 batch_id=97: 100%|██████████| 98/98 [00:21<00:00,  4.49it/s]"
          ]
        },
        {
          "output_type": "stream",
          "name": "stdout",
          "text": [
            "\n",
            "Train set (epoch 19): Average loss: 0.4706, Accuracy: 41764/50000 (83.53%)\n",
            "\n"
          ]
        },
        {
          "output_type": "stream",
          "name": "stderr",
          "text": [
            "\n"
          ]
        },
        {
          "output_type": "stream",
          "name": "stdout",
          "text": [
            "Test set (epoch 19): Average loss: 0.5649, Accuracy: 8131/10000 (81.31%)\n",
            "\n"
          ]
        }
      ]
    },
    {
      "cell_type": "code",
      "source": [
        "for epoch in range(20):\n",
        "    train(model, device, train_loader, optimizer, epoch)\n",
        "    test_loss = test(model, device, test_loader, epoch)\n",
        "    reduce_lr.step(test_loss)"
      ],
      "metadata": {
        "id": "ZSwWl_dyPDp8",
        "outputId": "d95629ca-bde7-4bbc-b8f0-74f884f33532",
        "colab": {
          "base_uri": "https://localhost:8080/"
        }
      },
      "id": "ZSwWl_dyPDp8",
      "execution_count": 24,
      "outputs": [
        {
          "output_type": "stream",
          "name": "stderr",
          "text": [
            "loss=0.4786 batch_id=97: 100%|██████████| 98/98 [00:23<00:00,  4.23it/s]"
          ]
        },
        {
          "output_type": "stream",
          "name": "stdout",
          "text": [
            "\n",
            "Train set (epoch 0): Average loss: 0.4662, Accuracy: 41861/50000 (83.72%)\n",
            "\n"
          ]
        },
        {
          "output_type": "stream",
          "name": "stderr",
          "text": [
            "\n"
          ]
        },
        {
          "output_type": "stream",
          "name": "stdout",
          "text": [
            "Test set (epoch 0): Average loss: 0.4929, Accuracy: 8346/10000 (83.46%)\n",
            "\n"
          ]
        },
        {
          "output_type": "stream",
          "name": "stderr",
          "text": [
            "loss=0.4998 batch_id=97: 100%|██████████| 98/98 [00:23<00:00,  4.22it/s]"
          ]
        },
        {
          "output_type": "stream",
          "name": "stdout",
          "text": [
            "\n",
            "Train set (epoch 1): Average loss: 0.4574, Accuracy: 42011/50000 (84.02%)\n",
            "\n"
          ]
        },
        {
          "output_type": "stream",
          "name": "stderr",
          "text": [
            "\n"
          ]
        },
        {
          "output_type": "stream",
          "name": "stdout",
          "text": [
            "Test set (epoch 1): Average loss: 0.5427, Accuracy: 8160/10000 (81.60%)\n",
            "\n"
          ]
        },
        {
          "output_type": "stream",
          "name": "stderr",
          "text": [
            "loss=0.4901 batch_id=97: 100%|██████████| 98/98 [00:21<00:00,  4.56it/s]"
          ]
        },
        {
          "output_type": "stream",
          "name": "stdout",
          "text": [
            "\n",
            "Train set (epoch 2): Average loss: 0.4522, Accuracy: 42022/50000 (84.04%)\n",
            "\n"
          ]
        },
        {
          "output_type": "stream",
          "name": "stderr",
          "text": [
            "\n"
          ]
        },
        {
          "output_type": "stream",
          "name": "stdout",
          "text": [
            "Test set (epoch 2): Average loss: 0.5254, Accuracy: 8275/10000 (82.75%)\n",
            "\n"
          ]
        },
        {
          "output_type": "stream",
          "name": "stderr",
          "text": [
            "loss=0.5078 batch_id=97: 100%|██████████| 98/98 [00:23<00:00,  4.20it/s]"
          ]
        },
        {
          "output_type": "stream",
          "name": "stdout",
          "text": [
            "\n",
            "Train set (epoch 3): Average loss: 0.4497, Accuracy: 42141/50000 (84.28%)\n",
            "\n"
          ]
        },
        {
          "output_type": "stream",
          "name": "stderr",
          "text": [
            "\n"
          ]
        },
        {
          "output_type": "stream",
          "name": "stdout",
          "text": [
            "Test set (epoch 3): Average loss: 0.5009, Accuracy: 8343/10000 (83.43%)\n",
            "\n"
          ]
        },
        {
          "output_type": "stream",
          "name": "stderr",
          "text": [
            "loss=0.3861 batch_id=97: 100%|██████████| 98/98 [00:23<00:00,  4.19it/s]"
          ]
        },
        {
          "output_type": "stream",
          "name": "stdout",
          "text": [
            "\n",
            "Train set (epoch 4): Average loss: 0.4449, Accuracy: 42159/50000 (84.32%)\n",
            "\n"
          ]
        },
        {
          "output_type": "stream",
          "name": "stderr",
          "text": [
            "\n"
          ]
        },
        {
          "output_type": "stream",
          "name": "stdout",
          "text": [
            "Test set (epoch 4): Average loss: 0.4824, Accuracy: 8403/10000 (84.03%)\n",
            "\n",
            "✅ Saved new best model at epoch 4 with loss 0.4824\n"
          ]
        },
        {
          "output_type": "stream",
          "name": "stderr",
          "text": [
            "loss=0.4255 batch_id=97: 100%|██████████| 98/98 [00:22<00:00,  4.32it/s]"
          ]
        },
        {
          "output_type": "stream",
          "name": "stdout",
          "text": [
            "\n",
            "Train set (epoch 5): Average loss: 0.4326, Accuracy: 42491/50000 (84.98%)\n",
            "\n"
          ]
        },
        {
          "output_type": "stream",
          "name": "stderr",
          "text": [
            "\n"
          ]
        },
        {
          "output_type": "stream",
          "name": "stdout",
          "text": [
            "Test set (epoch 5): Average loss: 0.4741, Accuracy: 8414/10000 (84.14%)\n",
            "\n",
            "✅ Saved new best model at epoch 5 with loss 0.4741\n"
          ]
        },
        {
          "output_type": "stream",
          "name": "stderr",
          "text": [
            "loss=0.4470 batch_id=97: 100%|██████████| 98/98 [00:21<00:00,  4.56it/s]"
          ]
        },
        {
          "output_type": "stream",
          "name": "stdout",
          "text": [
            "\n",
            "Train set (epoch 6): Average loss: 0.4374, Accuracy: 42366/50000 (84.73%)\n",
            "\n"
          ]
        },
        {
          "output_type": "stream",
          "name": "stderr",
          "text": [
            "\n"
          ]
        },
        {
          "output_type": "stream",
          "name": "stdout",
          "text": [
            "Test set (epoch 6): Average loss: 0.4762, Accuracy: 8417/10000 (84.17%)\n",
            "\n"
          ]
        },
        {
          "output_type": "stream",
          "name": "stderr",
          "text": [
            "loss=0.3850 batch_id=97: 100%|██████████| 98/98 [00:23<00:00,  4.24it/s]"
          ]
        },
        {
          "output_type": "stream",
          "name": "stdout",
          "text": [
            "\n",
            "Train set (epoch 7): Average loss: 0.4383, Accuracy: 42336/50000 (84.67%)\n",
            "\n"
          ]
        },
        {
          "output_type": "stream",
          "name": "stderr",
          "text": [
            "\n"
          ]
        },
        {
          "output_type": "stream",
          "name": "stdout",
          "text": [
            "Test set (epoch 7): Average loss: 0.4826, Accuracy: 8403/10000 (84.03%)\n",
            "\n"
          ]
        },
        {
          "output_type": "stream",
          "name": "stderr",
          "text": [
            "loss=0.3967 batch_id=97: 100%|██████████| 98/98 [00:22<00:00,  4.33it/s]"
          ]
        },
        {
          "output_type": "stream",
          "name": "stdout",
          "text": [
            "\n",
            "Train set (epoch 8): Average loss: 0.4368, Accuracy: 42283/50000 (84.57%)\n",
            "\n"
          ]
        },
        {
          "output_type": "stream",
          "name": "stderr",
          "text": [
            "\n"
          ]
        },
        {
          "output_type": "stream",
          "name": "stdout",
          "text": [
            "Test set (epoch 8): Average loss: 0.4828, Accuracy: 8447/10000 (84.47%)\n",
            "\n"
          ]
        },
        {
          "output_type": "stream",
          "name": "stderr",
          "text": [
            "loss=0.4865 batch_id=97: 100%|██████████| 98/98 [00:23<00:00,  4.22it/s]"
          ]
        },
        {
          "output_type": "stream",
          "name": "stdout",
          "text": [
            "\n",
            "Train set (epoch 9): Average loss: 0.4294, Accuracy: 42446/50000 (84.89%)\n",
            "\n"
          ]
        },
        {
          "output_type": "stream",
          "name": "stderr",
          "text": [
            "\n"
          ]
        },
        {
          "output_type": "stream",
          "name": "stdout",
          "text": [
            "Test set (epoch 9): Average loss: 0.5093, Accuracy: 8368/10000 (83.68%)\n",
            "\n"
          ]
        },
        {
          "output_type": "stream",
          "name": "stderr",
          "text": [
            "loss=0.4022 batch_id=97: 100%|██████████| 98/98 [00:21<00:00,  4.55it/s]"
          ]
        },
        {
          "output_type": "stream",
          "name": "stdout",
          "text": [
            "\n",
            "Train set (epoch 10): Average loss: 0.4200, Accuracy: 42696/50000 (85.39%)\n",
            "\n"
          ]
        },
        {
          "output_type": "stream",
          "name": "stderr",
          "text": [
            "\n"
          ]
        },
        {
          "output_type": "stream",
          "name": "stdout",
          "text": [
            "Test set (epoch 10): Average loss: 0.4462, Accuracy: 8507/10000 (85.07%)\n",
            "\n",
            "✅ Saved new best model at epoch 10 with loss 0.4462\n"
          ]
        },
        {
          "output_type": "stream",
          "name": "stderr",
          "text": [
            "loss=0.5128 batch_id=97: 100%|██████████| 98/98 [00:22<00:00,  4.28it/s]"
          ]
        },
        {
          "output_type": "stream",
          "name": "stdout",
          "text": [
            "\n",
            "Train set (epoch 11): Average loss: 0.4221, Accuracy: 42688/50000 (85.38%)\n",
            "\n"
          ]
        },
        {
          "output_type": "stream",
          "name": "stderr",
          "text": [
            "\n"
          ]
        },
        {
          "output_type": "stream",
          "name": "stdout",
          "text": [
            "Test set (epoch 11): Average loss: 0.4847, Accuracy: 8430/10000 (84.30%)\n",
            "\n"
          ]
        },
        {
          "output_type": "stream",
          "name": "stderr",
          "text": [
            "loss=0.4154 batch_id=97: 100%|██████████| 98/98 [00:22<00:00,  4.33it/s]"
          ]
        },
        {
          "output_type": "stream",
          "name": "stdout",
          "text": [
            "\n",
            "Train set (epoch 12): Average loss: 0.4166, Accuracy: 42738/50000 (85.48%)\n",
            "\n"
          ]
        },
        {
          "output_type": "stream",
          "name": "stderr",
          "text": [
            "\n"
          ]
        },
        {
          "output_type": "stream",
          "name": "stdout",
          "text": [
            "Test set (epoch 12): Average loss: 0.5236, Accuracy: 8299/10000 (82.99%)\n",
            "\n"
          ]
        },
        {
          "output_type": "stream",
          "name": "stderr",
          "text": [
            "loss=0.4289 batch_id=97: 100%|██████████| 98/98 [00:21<00:00,  4.54it/s]"
          ]
        },
        {
          "output_type": "stream",
          "name": "stdout",
          "text": [
            "\n",
            "Train set (epoch 13): Average loss: 0.4200, Accuracy: 42626/50000 (85.25%)\n",
            "\n"
          ]
        },
        {
          "output_type": "stream",
          "name": "stderr",
          "text": [
            "\n"
          ]
        },
        {
          "output_type": "stream",
          "name": "stdout",
          "text": [
            "Test set (epoch 13): Average loss: 0.4545, Accuracy: 8529/10000 (85.29%)\n",
            "\n"
          ]
        },
        {
          "output_type": "stream",
          "name": "stderr",
          "text": [
            "loss=0.4195 batch_id=97: 100%|██████████| 98/98 [00:22<00:00,  4.32it/s]"
          ]
        },
        {
          "output_type": "stream",
          "name": "stdout",
          "text": [
            "\n",
            "Train set (epoch 14): Average loss: 0.4127, Accuracy: 42669/50000 (85.34%)\n",
            "\n"
          ]
        },
        {
          "output_type": "stream",
          "name": "stderr",
          "text": [
            "\n"
          ]
        },
        {
          "output_type": "stream",
          "name": "stdout",
          "text": [
            "Test set (epoch 14): Average loss: 0.5054, Accuracy: 8335/10000 (83.35%)\n",
            "\n"
          ]
        },
        {
          "output_type": "stream",
          "name": "stderr",
          "text": [
            "loss=0.4498 batch_id=97: 100%|██████████| 98/98 [00:23<00:00,  4.24it/s]"
          ]
        },
        {
          "output_type": "stream",
          "name": "stdout",
          "text": [
            "\n",
            "Train set (epoch 15): Average loss: 0.4136, Accuracy: 42738/50000 (85.48%)\n",
            "\n"
          ]
        },
        {
          "output_type": "stream",
          "name": "stderr",
          "text": [
            "\n"
          ]
        },
        {
          "output_type": "stream",
          "name": "stdout",
          "text": [
            "Test set (epoch 15): Average loss: 0.5041, Accuracy: 8336/10000 (83.36%)\n",
            "\n"
          ]
        },
        {
          "output_type": "stream",
          "name": "stderr",
          "text": [
            "loss=0.4493 batch_id=97: 100%|██████████| 98/98 [00:22<00:00,  4.45it/s]"
          ]
        },
        {
          "output_type": "stream",
          "name": "stdout",
          "text": [
            "\n",
            "Train set (epoch 16): Average loss: 0.4045, Accuracy: 42933/50000 (85.87%)\n",
            "\n"
          ]
        },
        {
          "output_type": "stream",
          "name": "stderr",
          "text": [
            "\n"
          ]
        },
        {
          "output_type": "stream",
          "name": "stdout",
          "text": [
            "Test set (epoch 16): Average loss: 0.4887, Accuracy: 8450/10000 (84.50%)\n",
            "\n"
          ]
        },
        {
          "output_type": "stream",
          "name": "stderr",
          "text": [
            "loss=0.4353 batch_id=97: 100%|██████████| 98/98 [00:21<00:00,  4.49it/s]"
          ]
        },
        {
          "output_type": "stream",
          "name": "stdout",
          "text": [
            "\n",
            "Train set (epoch 17): Average loss: 0.4036, Accuracy: 42962/50000 (85.92%)\n",
            "\n"
          ]
        },
        {
          "output_type": "stream",
          "name": "stderr",
          "text": [
            "\n"
          ]
        },
        {
          "output_type": "stream",
          "name": "stdout",
          "text": [
            "Test set (epoch 17): Average loss: 0.4672, Accuracy: 8453/10000 (84.53%)\n",
            "\n"
          ]
        },
        {
          "output_type": "stream",
          "name": "stderr",
          "text": [
            "loss=0.3680 batch_id=97: 100%|██████████| 98/98 [00:22<00:00,  4.29it/s]"
          ]
        },
        {
          "output_type": "stream",
          "name": "stdout",
          "text": [
            "\n",
            "Train set (epoch 18): Average loss: 0.4051, Accuracy: 42841/50000 (85.68%)\n",
            "\n"
          ]
        },
        {
          "output_type": "stream",
          "name": "stderr",
          "text": [
            "\n"
          ]
        },
        {
          "output_type": "stream",
          "name": "stdout",
          "text": [
            "Test set (epoch 18): Average loss: 0.4935, Accuracy: 8430/10000 (84.30%)\n",
            "\n"
          ]
        },
        {
          "output_type": "stream",
          "name": "stderr",
          "text": [
            "loss=0.3911 batch_id=97: 100%|██████████| 98/98 [00:23<00:00,  4.20it/s]"
          ]
        },
        {
          "output_type": "stream",
          "name": "stdout",
          "text": [
            "\n",
            "Train set (epoch 19): Average loss: 0.3944, Accuracy: 43100/50000 (86.20%)\n",
            "\n"
          ]
        },
        {
          "output_type": "stream",
          "name": "stderr",
          "text": [
            "\n"
          ]
        },
        {
          "output_type": "stream",
          "name": "stdout",
          "text": [
            "Test set (epoch 19): Average loss: 0.4612, Accuracy: 8471/10000 (84.71%)\n",
            "\n"
          ]
        }
      ]
    },
    {
      "cell_type": "code",
      "execution_count": 25,
      "id": "qL3wSsh5eRrm",
      "metadata": {
        "colab": {
          "base_uri": "https://localhost:8080/",
          "height": 872
        },
        "id": "qL3wSsh5eRrm",
        "outputId": "88c8530c-7df0-407d-8004-f6eba54672b6"
      },
      "outputs": [
        {
          "output_type": "display_data",
          "data": {
            "text/plain": [
              "<Figure size 1000x1000 with 4 Axes>"
            ],
            "image/png": "[encoded data removed]"
          },
          "metadata": {}
        }
      ],
      "source": [
        "fig, axs = plt.subplots(2, 2, figsize=(10, 10))\n",
        "\n",
        "axs[0,0].plot(train_loss_data, label='Train Loss')\n",
        "axs[0,0].set_xlabel('Batch')\n",
        "axs[0,0].set_ylabel('Loss')\n",
        "axs[0,0].set_title('Train Loss')\n",
        "axs[0,0].grid(True)\n",
        "axs[0,0].legend()\n",
        "\n",
        "axs[0,1].plot(test_loss_data, label='Test Loss')\n",
        "axs[0,1].set_xlabel('Epoch')\n",
        "axs[0,1].set_ylabel('Loss')\n",
        "axs[0,1].set_title('Test Loss')\n",
        "axs[0,1].grid(True)\n",
        "axs[0,1].legend()\n",
        "\n",
        "axs[1,0].plot(train_accuracy, label='Train Accuracy')\n",
        "axs[1,0].set_xlabel('Epoch')\n",
        "axs[1,0].set_ylabel('Accuracy')\n",
        "axs[1,0].set_title('Train Accuracy')\n",
        "axs[1,0].grid(True)\n",
        "axs[1,0].legend()\n",
        "\n",
        "axs[1,1].plot(test_accuracy, label='Test Accuracy')\n",
        "axs[1,1].set_xlabel('Epoch')\n",
        "axs[1,1].set_ylabel('Accuracy')\n",
        "axs[1,1].set_title('Test Accuracy')\n",
        "axs[1,1].grid(True)\n",
        "axs[1,1].legend()\n",
        "\n",
        "plt.show()"
      ]
    }
  ],
  "metadata": {
    "colab": {
      "provenance": [],
      "gpuType": "T4"
    },
    "kernelspec": {
      "display_name": "Python 3",
      "name": "python3"
    },
    "language_info": {
      "codemirror_mode": {
        "name": "ipython",
        "version": 3
      },
      "file_extension": ".py",
      "mimetype": "text/x-python",
      "name": "python",
      "nbconvert_exporter": "python",
      "pygments_lexer": "ipython3",
      "version": "3.9.6"
    },
    "accelerator": "GPU"
  },
  "nbformat": 4,
  "nbformat_minor": 5
}