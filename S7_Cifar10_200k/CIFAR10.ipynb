{
  "cells": [
    {
      "cell_type": "code",
      "execution_count": 15,
      "id": "dhzS-1Hea5ss",
      "metadata": {
        "colab": {
          "base_uri": "https://localhost:8080/"
        },
        "id": "dhzS-1Hea5ss",
        "outputId": "7125d1bd-c7f0-4455-f353-8da971d46b00"
      },
      "outputs": [
        {
          "output_type": "stream",
          "name": "stdout",
          "text": [
            "Mounted at /content/drive\n"
          ]
        }
      ],
      "source": [
        "import sys\n",
        "if 'google.colab' in sys.modules:\n",
        "    from google.colab import drive\n",
        "    drive.mount('/content/drive')"
      ]
    },
    {
      "cell_type": "code",
      "execution_count": 3,
      "id": "9fc7a6d9",
      "metadata": {
        "colab": {
          "base_uri": "https://localhost:8080/"
        },
        "id": "9fc7a6d9",
        "outputId": "5c94d8d5-16ef-4f28-87c2-b5e0ec6e220e"
      },
      "outputs": [
        {
          "output_type": "stream",
          "name": "stdout",
          "text": [
            "Requirement already satisfied: torchsummary in /usr/local/lib/python3.12/dist-packages (1.5.1)\n"
          ]
        }
      ],
      "source": [
        "import sys\n",
        "import torch\n",
        "from torchvision import datasets\n",
        "import numpy as np\n",
        "from torchvision.transforms import v2\n",
        "import matplotlib.pyplot as plt\n",
        "import torch.nn as nn\n",
        "import torch.nn.functional as F\n",
        "\n",
        "if 'google.colab' in sys.modules:\n",
        "    !pip install torchsummary\n",
        "\n",
        "from torchsummary import summary\n",
        "from tqdm import tqdm\n",
        "\n",
        "import logging\n",
        "logging.basicConfig(level=logging.ERROR, format='%(asctime)s - %(levelname)s - %(message)s')\n",
        "logger = logging.getLogger(__name__)\n",
        "\n",
        "from model_v1 import Net"
      ]
    },
    {
      "cell_type": "code",
      "execution_count": 4,
      "id": "2f878237",
      "metadata": {
        "id": "2f878237",
        "outputId": "e05c4c9a-6183-4594-cc54-271a4b394a02",
        "colab": {
          "base_uri": "https://localhost:8080/"
        }
      },
      "outputs": [
        {
          "output_type": "stream",
          "name": "stdout",
          "text": [
            "Cuda available = True, Using device = cuda\n"
          ]
        }
      ],
      "source": [
        "is_cuda = torch.cuda.is_available()\n",
        "device = torch.device(\"cuda\" if is_cuda else \"cpu\")\n",
        "print(f\"Cuda available = {is_cuda}, Using device = {device}\")"
      ]
    },
    {
      "cell_type": "code",
      "execution_count": 5,
      "id": "a85d0a7c",
      "metadata": {
        "colab": {
          "base_uri": "https://localhost:8080/"
        },
        "id": "a85d0a7c",
        "outputId": "843a1e12-91d8-4207-da26-2c725f9de0d0"
      },
      "outputs": [
        {
          "output_type": "stream",
          "name": "stderr",
          "text": [
            "/usr/local/lib/python3.12/dist-packages/torchvision/transforms/v2/_deprecated.py:42: UserWarning: The transform `ToTensor()` is deprecated and will be removed in a future release. Instead, please use `v2.Compose([v2.ToImage(), v2.ToDtype(torch.float32, scale=True)])`.Output is equivalent up to float precision.\n",
            "  warnings.warn(\n",
            "100%|██████████| 170M/170M [00:13<00:00, 12.6MB/s]\n"
          ]
        }
      ],
      "source": [
        "# Mean and Standard Deviation of CIFAR-10 dataset\n",
        "CIFAR10_MEAN = (0.49139968, 0.48215827, 0.44653124)\n",
        "CIFAR10_STD = (0.24703233, 0.24348505, 0.26158768)\n",
        "if 'google.colab' in sys.modules:\n",
        "    BATCH_SIZE = 256\n",
        "else:\n",
        "    BATCH_SIZE = 32\n",
        "CIFAR10_LABELS = ['airplane','automobile','bird','cat','deer','dog','frog','horse','ship','truck']\n",
        "GET_DATASET_STATS_FLAG = False\n",
        "\n",
        "train_transforms = v2.Compose([\n",
        "    v2.ToTensor(),\n",
        "    v2.Normalize(CIFAR10_MEAN, CIFAR10_STD),\n",
        "])\n",
        "\n",
        "test_transforms = v2.Compose([\n",
        "    v2.ToTensor(),\n",
        "    v2.Normalize(CIFAR10_MEAN, CIFAR10_STD),\n",
        "])\n",
        "\n",
        "cifar_train_dataset = datasets.CIFAR10(\n",
        "    root='../../',\n",
        "    train=True,\n",
        "    download=True,\n",
        "    transform=train_transforms,\n",
        "    )\n",
        "\n",
        "cifar_test_dataset = datasets.CIFAR10(\n",
        "    root='../../',\n",
        "    train=False,\n",
        "    download=True,\n",
        "    transform=test_transforms,\n",
        "    )\n",
        "\n",
        "\n",
        "train_kwargs = {'batch_size': BATCH_SIZE, 'shuffle': True,  'num_workers': 2, 'pin_memory': is_cuda}\n",
        "test_kwargs = {'batch_size': BATCH_SIZE, 'shuffle': True,  'num_workers': 2, 'pin_memory': is_cuda}\n",
        "\n",
        "train_loader = torch.utils.data.DataLoader(cifar_train_dataset, **train_kwargs)\n",
        "test_loader  = torch.utils.data.DataLoader(cifar_test_dataset,  **test_kwargs)"
      ]
    },
    {
      "cell_type": "code",
      "execution_count": null,
      "id": "b664865a",
      "metadata": {
        "id": "b664865a"
      },
      "outputs": [],
      "source": [
        "if GET_DATASET_STATS_FLAG:\n",
        "    imgs = [item[0] for item in cifar_train_dataset]\n",
        "    imgs = torch.stack(imgs, dim=0).numpy()\n",
        "    imgs_r = imgs[:,0,:,:].flatten()\n",
        "    imgs_g = imgs[:,1,:,:].flatten()\n",
        "    imgs_b = imgs[:,2,:,:].flatten()\n",
        "    logger.info(f\"Flatten images size {imgs_r.shape}, {imgs_g.shape}, {imgs_b.shape}\")\n",
        "\n",
        "    plt.hist(imgs_r, bins=50, alpha=0.33, color='r', label='Red')\n",
        "    plt.hist(imgs_g, bins=50, alpha=0.33, color='g', label='Green')\n",
        "    plt.hist(imgs_b, bins=50, alpha=0.33, color='b', label='Blue')\n",
        "    plt.legend()\n",
        "    plt.show()"
      ]
    },
    {
      "cell_type": "code",
      "execution_count": 8,
      "id": "d29d0682",
      "metadata": {
        "id": "d29d0682"
      },
      "outputs": [],
      "source": [
        "def dataset_visualizer(dataset_loader, n_images=12):\n",
        "    \"\"\"Visualize a few samples from the dataset loader.\"\"\"\n",
        "    batch_data, batch_label = next(iter(dataset_loader))\n",
        "    n_images = min(n_images, len(batch_data))\n",
        "\n",
        "    fig = plt.figure(figsize=(10, 8))\n",
        "    for i in range(n_images):\n",
        "        plt.subplot(3, 4, i+1)\n",
        "        plt.tight_layout()\n",
        "        image_data = batch_data[i].squeeze(0)\n",
        "        image_data = image_data.permute(1,2,0)\n",
        "        plt.imshow(image_data)\n",
        "        plt.title(CIFAR10_LABELS[batch_label[i].item()])\n",
        "        plt.xticks([])\n",
        "        plt.yticks([])\n",
        "    plt.show()"
      ]
    },
    {
      "cell_type": "code",
      "execution_count": 9,
      "id": "6988f18c",
      "metadata": {
        "colab": {
          "base_uri": "https://localhost:8080/",
          "height": 906
        },
        "id": "6988f18c",
        "outputId": "d68e4961-65a8-4515-df00-0b12ac53fe3f"
      },
      "outputs": [
        {
          "output_type": "stream",
          "name": "stderr",
          "text": [
            "WARNING:matplotlib.image:Clipping input data to the valid range for imshow with RGB data ([0..1] for floats or [0..255] for integers). Got range [-1.084353..1.5761151].\n",
            "WARNING:matplotlib.image:Clipping input data to the valid range for imshow with RGB data ([0..1] for floats or [0..255] for integers). Got range [-1.7034671..1.9059262].\n",
            "WARNING:matplotlib.image:Clipping input data to the valid range for imshow with RGB data ([0..1] for floats or [0..255] for integers). Got range [-1.1972961..1.9335188].\n",
            "WARNING:matplotlib.image:Clipping input data to the valid range for imshow with RGB data ([0..1] for floats or [0..255] for integers). Got range [-1.7987154..2.1267905].\n",
            "WARNING:matplotlib.image:Clipping input data to the valid range for imshow with RGB data ([0..1] for floats or [0..255] for integers). Got range [-1.4970958..1.7710035].\n",
            "WARNING:matplotlib.image:Clipping input data to the valid range for imshow with RGB data ([0..1] for floats or [0..255] for integers). Got range [-1.7193418..2.0558403].\n",
            "WARNING:matplotlib.image:Clipping input data to the valid range for imshow with RGB data ([0..1] for floats or [0..255] for integers). Got range [-1.8939637..2.1267905].\n",
            "WARNING:matplotlib.image:Clipping input data to the valid range for imshow with RGB data ([0..1] for floats or [0..255] for integers). Got range [-1.9802377..2.1267905].\n",
            "WARNING:matplotlib.image:Clipping input data to the valid range for imshow with RGB data ([0..1] for floats or [0..255] for integers). Got range [-1.7869658..2.040849].\n",
            "WARNING:matplotlib.image:Clipping input data to the valid range for imshow with RGB data ([0..1] for floats or [0..255] for integers). Got range [-1.9415878..0.96146727].\n",
            "WARNING:matplotlib.image:Clipping input data to the valid range for imshow with RGB data ([0..1] for floats or [0..255] for integers). Got range [-1.7828407..1.8309691].\n",
            "WARNING:matplotlib.image:Clipping input data to the valid range for imshow with RGB data ([0..1] for floats or [0..255] for integers). Got range [-0.97323..2.1008146].\n"
          ]
        },
        {
          "output_type": "display_data",
          "data": {
            "text/plain": [
              "<Figure size 1000x800 with 12 Axes>"
            ],
            "image/png": "[encoded data removed]"
          },
          "metadata": {}
        }
      ],
      "source": [
        "dataset_visualizer(test_loader)"
      ]
    },
    {
      "cell_type": "code",
      "execution_count": 10,
      "id": "4fd104e3",
      "metadata": {
        "id": "4fd104e3"
      },
      "outputs": [],
      "source": [
        "criterion = nn.CrossEntropyLoss()\n",
        "train_loss_data = []\n",
        "train_accuracy = []\n",
        "test_loss_data = []\n",
        "test_accuracy = []\n",
        "\n",
        "best_loss = float('inf')   # initialize with infinity\n",
        "\n",
        "def train(model, device, train_loader, optimizer, epoch):\n",
        "    model.train()\n",
        "    pbar = tqdm(train_loader)\n",
        "\n",
        "    correct = 0\n",
        "    total = 0\n",
        "    running_loss = 0.0\n",
        "\n",
        "    for batch_idx, (data, target) in enumerate(pbar):\n",
        "        data, target = data.to(device), target.to(device)\n",
        "        optimizer.zero_grad()\n",
        "        output = model(data)\n",
        "        loss = criterion(output, target)\n",
        "        loss.backward()\n",
        "        optimizer.step()\n",
        "\n",
        "        running_loss += loss.item()\n",
        "        pred = output.argmax(dim=1, keepdim=True)\n",
        "        correct += pred.eq(target.view_as(pred)).sum().item()\n",
        "        total += target.size(0)\n",
        "\n",
        "        pbar.set_description(desc=f'loss={loss.item():.4f} batch_id={batch_idx}')\n",
        "\n",
        "    # Epoch-level stats\n",
        "    avg_loss = running_loss / len(train_loader)\n",
        "    acc = 100. * correct / total\n",
        "\n",
        "    train_loss_data.append(avg_loss)\n",
        "    train_accuracy.append(acc)\n",
        "\n",
        "    print(f'\\nTrain set (epoch {epoch}): Average loss: {avg_loss:.4f}, Accuracy: {correct}/{total} ({acc:.2f}%)\\n')\n",
        "\n",
        "\n",
        "def test(model, device, test_loader, epoch):\n",
        "    global best_loss  # to update across epochs\n",
        "    model.eval()\n",
        "    test_loss = 0\n",
        "    correct = 0\n",
        "    with torch.no_grad():\n",
        "        for data, target in test_loader:\n",
        "            data, target = data.to(device), target.to(device)\n",
        "            output = model(data)\n",
        "            test_loss += F.cross_entropy(output, target, reduction='sum').item()  # sum up batch loss\n",
        "            pred = output.argmax(dim=1, keepdim=True)\n",
        "            correct += pred.eq(target.view_as(pred)).sum().item()\n",
        "\n",
        "    test_loss /= len(test_loader.dataset)\n",
        "    test_loss_data.append(test_loss)\n",
        "    acc = 100. * correct / len(test_loader.dataset)\n",
        "    test_accuracy.append(acc)\n",
        "\n",
        "    print(f'Test set (epoch {epoch}): Average loss: {test_loss:.4f}, Accuracy: {correct}/{len(test_loader.dataset)} ({acc:.2f}%)\\n')\n",
        "\n",
        "    # ✅ Save best model by lowest test loss\n",
        "    if test_loss < best_loss:\n",
        "        best_loss = test_loss\n",
        "        if 'google.colab' in sys.modules:\n",
        "            torch.save(model.state_dict(), \"/content/drive/MyDrive/CIFAR10/best_model.pt\")\n",
        "        else:\n",
        "            torch.save(model.state_dict(), \"best_model.pt\")\n",
        "        print(f\"✅ Saved new best model at epoch {epoch} with loss {best_loss:.4f}\")\n",
        "\n",
        "    return test_loss\n"
      ]
    },
    {
      "cell_type": "code",
      "execution_count": 13,
      "id": "7ba5a772",
      "metadata": {
        "colab": {
          "base_uri": "https://localhost:8080/"
        },
        "id": "7ba5a772",
        "outputId": "02444db6-5361-4592-e44c-7095864ed22e"
      },
      "outputs": [
        {
          "output_type": "stream",
          "name": "stdout",
          "text": [
            "----------------------------------------------------------------\n",
            "        Layer (type)               Output Shape         Param #\n",
            "================================================================\n",
            "            Conv2d-1           [-1, 16, 32, 32]             448\n",
            "       BatchNorm2d-2           [-1, 16, 32, 32]              32\n",
            "            Conv2d-3           [-1, 16, 32, 32]           2,320\n",
            "       BatchNorm2d-4           [-1, 16, 32, 32]              32\n",
            "            Conv2d-5           [-1, 16, 32, 32]           2,320\n",
            "       BatchNorm2d-6           [-1, 16, 32, 32]              32\n",
            "            Conv2d-7           [-1, 32, 32, 32]             544\n",
            "       BatchNorm2d-8           [-1, 32, 32, 32]              64\n",
            "         MaxPool2d-9           [-1, 32, 16, 16]               0\n",
            "           Conv2d-10           [-1, 32, 16, 16]           9,248\n",
            "      BatchNorm2d-11           [-1, 32, 16, 16]              64\n",
            "           Conv2d-12           [-1, 32, 16, 16]           9,248\n",
            "      BatchNorm2d-13           [-1, 32, 16, 16]              64\n",
            "           Conv2d-14           [-1, 32, 16, 16]           9,248\n",
            "      BatchNorm2d-15           [-1, 32, 16, 16]              64\n",
            "           Conv2d-16           [-1, 64, 16, 16]           2,112\n",
            "      BatchNorm2d-17           [-1, 64, 16, 16]             128\n",
            "        MaxPool2d-18             [-1, 64, 8, 8]               0\n",
            "           Conv2d-19             [-1, 64, 8, 8]             576\n",
            "           Conv2d-20             [-1, 64, 8, 8]           4,096\n",
            "DepthwiseSeparableConv-21             [-1, 64, 8, 8]               0\n",
            "      BatchNorm2d-22             [-1, 64, 8, 8]             128\n",
            "           Conv2d-23             [-1, 64, 8, 8]             576\n",
            "           Conv2d-24             [-1, 64, 8, 8]           4,096\n",
            "DepthwiseSeparableConv-25             [-1, 64, 8, 8]               0\n",
            "      BatchNorm2d-26             [-1, 64, 8, 8]             128\n",
            "           Conv2d-27             [-1, 64, 8, 8]             576\n",
            "           Conv2d-28             [-1, 64, 8, 8]           4,096\n",
            "DepthwiseSeparableConv-29             [-1, 64, 8, 8]               0\n",
            "      BatchNorm2d-30             [-1, 64, 8, 8]             128\n",
            "           Conv2d-31            [-1, 128, 8, 8]           8,320\n",
            "      BatchNorm2d-32            [-1, 128, 8, 8]             256\n",
            "        MaxPool2d-33            [-1, 128, 4, 4]               0\n",
            "           Conv2d-34             [-1, 10, 4, 4]           1,290\n",
            "================================================================\n",
            "Total params: 60,234\n",
            "Trainable params: 60,234\n",
            "Non-trainable params: 0\n",
            "----------------------------------------------------------------\n",
            "Input size (MB): 0.01\n",
            "Forward/backward pass size (MB): 2.49\n",
            "Params size (MB): 0.23\n",
            "Estimated Total Size (MB): 2.73\n",
            "----------------------------------------------------------------\n"
          ]
        }
      ],
      "source": [
        "model = Net().to(device)\n",
        "\n",
        "dummy_data = torch.randn(5, 3, 32, 32).to(device)\n",
        "dummy_output = model(dummy_data)\n",
        "logger.info(f\"CNN output shape = {dummy_output.shape}\")\n",
        "summary(model, input_size=(3, 32, 32), device=str(device))"
      ]
    },
    {
      "cell_type": "code",
      "execution_count": 16,
      "id": "a7bf9947",
      "metadata": {
        "colab": {
          "base_uri": "https://localhost:8080/",
          "height": 1000
        },
        "id": "a7bf9947",
        "outputId": "216ac711-618d-4087-9cc5-209be39c7930"
      },
      "outputs": [
        {
          "output_type": "stream",
          "name": "stderr",
          "text": [
            "loss=0.9883 batch_id=390: 100%|██████████| 391/391 [00:16<00:00, 23.46it/s]"
          ]
        },
        {
          "output_type": "stream",
          "name": "stdout",
          "text": [
            "\n",
            "Train set (epoch 0): Average loss: 1.3643, Accuracy: 24940/50000 (49.88%)\n",
            "\n"
          ]
        },
        {
          "output_type": "stream",
          "name": "stderr",
          "text": [
            "\n"
          ]
        },
        {
          "output_type": "stream",
          "name": "stdout",
          "text": [
            "Test set (epoch 0): Average loss: 1.1013, Accuracy: 6062/10000 (60.62%)\n",
            "\n",
            "✅ Saved new best model at epoch 0 with loss 1.1013\n"
          ]
        },
        {
          "output_type": "stream",
          "name": "stderr",
          "text": [
            "loss=0.8915 batch_id=390: 100%|██████████| 391/391 [00:16<00:00, 24.00it/s]"
          ]
        },
        {
          "output_type": "stream",
          "name": "stdout",
          "text": [
            "\n",
            "Train set (epoch 1): Average loss: 0.9376, Accuracy: 33255/50000 (66.51%)\n",
            "\n"
          ]
        },
        {
          "output_type": "stream",
          "name": "stderr",
          "text": [
            "\n"
          ]
        },
        {
          "output_type": "stream",
          "name": "stdout",
          "text": [
            "Test set (epoch 1): Average loss: 0.9867, Accuracy: 6583/10000 (65.83%)\n",
            "\n",
            "✅ Saved new best model at epoch 1 with loss 0.9867\n"
          ]
        },
        {
          "output_type": "stream",
          "name": "stderr",
          "text": [
            "loss=0.7946 batch_id=390: 100%|██████████| 391/391 [00:17<00:00, 22.94it/s]"
          ]
        },
        {
          "output_type": "stream",
          "name": "stdout",
          "text": [
            "\n",
            "Train set (epoch 2): Average loss: 0.7857, Accuracy: 36075/50000 (72.15%)\n",
            "\n"
          ]
        },
        {
          "output_type": "stream",
          "name": "stderr",
          "text": [
            "\n"
          ]
        },
        {
          "output_type": "stream",
          "name": "stdout",
          "text": [
            "Test set (epoch 2): Average loss: 0.8606, Accuracy: 7042/10000 (70.42%)\n",
            "\n",
            "✅ Saved new best model at epoch 2 with loss 0.8606\n"
          ]
        },
        {
          "output_type": "stream",
          "name": "stderr",
          "text": [
            "loss=0.7169 batch_id=390: 100%|██████████| 391/391 [00:16<00:00, 24.22it/s]"
          ]
        },
        {
          "output_type": "stream",
          "name": "stdout",
          "text": [
            "\n",
            "Train set (epoch 3): Average loss: 0.6896, Accuracy: 37962/50000 (75.92%)\n",
            "\n"
          ]
        },
        {
          "output_type": "stream",
          "name": "stderr",
          "text": [
            "\n"
          ]
        },
        {
          "output_type": "stream",
          "name": "stdout",
          "text": [
            "Test set (epoch 3): Average loss: 0.8264, Accuracy: 7118/10000 (71.18%)\n",
            "\n",
            "✅ Saved new best model at epoch 3 with loss 0.8264\n"
          ]
        },
        {
          "output_type": "stream",
          "name": "stderr",
          "text": [
            "loss=0.6906 batch_id=390: 100%|██████████| 391/391 [00:16<00:00, 24.26it/s]"
          ]
        },
        {
          "output_type": "stream",
          "name": "stdout",
          "text": [
            "\n",
            "Train set (epoch 4): Average loss: 0.6275, Accuracy: 39061/50000 (78.12%)\n",
            "\n"
          ]
        },
        {
          "output_type": "stream",
          "name": "stderr",
          "text": [
            "\n"
          ]
        },
        {
          "output_type": "stream",
          "name": "stdout",
          "text": [
            "Test set (epoch 4): Average loss: 0.7646, Accuracy: 7407/10000 (74.07%)\n",
            "\n",
            "✅ Saved new best model at epoch 4 with loss 0.7646\n"
          ]
        },
        {
          "output_type": "stream",
          "name": "stderr",
          "text": [
            "loss=0.6970 batch_id=390: 100%|██████████| 391/391 [00:17<00:00, 22.44it/s]\n"
          ]
        },
        {
          "output_type": "stream",
          "name": "stdout",
          "text": [
            "\n",
            "Train set (epoch 5): Average loss: 0.5761, Accuracy: 39954/50000 (79.91%)\n",
            "\n",
            "Test set (epoch 5): Average loss: 0.7959, Accuracy: 7214/10000 (72.14%)\n",
            "\n"
          ]
        },
        {
          "output_type": "stream",
          "name": "stderr",
          "text": [
            "loss=0.7004 batch_id=390: 100%|██████████| 391/391 [00:16<00:00, 24.42it/s]"
          ]
        },
        {
          "output_type": "stream",
          "name": "stdout",
          "text": [
            "\n",
            "Train set (epoch 6): Average loss: 0.5347, Accuracy: 40687/50000 (81.37%)\n",
            "\n"
          ]
        },
        {
          "output_type": "stream",
          "name": "stderr",
          "text": [
            "\n"
          ]
        },
        {
          "output_type": "stream",
          "name": "stdout",
          "text": [
            "Test set (epoch 6): Average loss: 0.7347, Accuracy: 7426/10000 (74.26%)\n",
            "\n",
            "✅ Saved new best model at epoch 6 with loss 0.7347\n"
          ]
        },
        {
          "output_type": "stream",
          "name": "stderr",
          "text": [
            "loss=0.3288 batch_id=390: 100%|██████████| 391/391 [00:15<00:00, 24.60it/s]"
          ]
        },
        {
          "output_type": "stream",
          "name": "stdout",
          "text": [
            "\n",
            "Train set (epoch 7): Average loss: 0.5006, Accuracy: 41332/50000 (82.66%)\n",
            "\n"
          ]
        },
        {
          "output_type": "stream",
          "name": "stderr",
          "text": [
            "\n"
          ]
        },
        {
          "output_type": "stream",
          "name": "stdout",
          "text": [
            "Test set (epoch 7): Average loss: 0.7131, Accuracy: 7527/10000 (75.27%)\n",
            "\n",
            "✅ Saved new best model at epoch 7 with loss 0.7131\n"
          ]
        },
        {
          "output_type": "stream",
          "name": "stderr",
          "text": [
            "loss=0.4533 batch_id=390: 100%|██████████| 391/391 [00:18<00:00, 20.68it/s]"
          ]
        },
        {
          "output_type": "stream",
          "name": "stdout",
          "text": [
            "\n",
            "Train set (epoch 8): Average loss: 0.4659, Accuracy: 41836/50000 (83.67%)\n",
            "\n"
          ]
        },
        {
          "output_type": "stream",
          "name": "stderr",
          "text": [
            "\n"
          ]
        },
        {
          "output_type": "stream",
          "name": "stdout",
          "text": [
            "Test set (epoch 8): Average loss: 0.6622, Accuracy: 7746/10000 (77.46%)\n",
            "\n",
            "✅ Saved new best model at epoch 8 with loss 0.6622\n"
          ]
        },
        {
          "output_type": "stream",
          "name": "stderr",
          "text": [
            "loss=0.3605 batch_id=390: 100%|██████████| 391/391 [00:16<00:00, 24.19it/s]"
          ]
        },
        {
          "output_type": "stream",
          "name": "stdout",
          "text": [
            "\n",
            "Train set (epoch 9): Average loss: 0.4434, Accuracy: 42236/50000 (84.47%)\n",
            "\n"
          ]
        },
        {
          "output_type": "stream",
          "name": "stderr",
          "text": [
            "\n"
          ]
        },
        {
          "output_type": "stream",
          "name": "stdout",
          "text": [
            "Test set (epoch 9): Average loss: 0.6583, Accuracy: 7850/10000 (78.50%)\n",
            "\n",
            "✅ Saved new best model at epoch 9 with loss 0.6583\n"
          ]
        },
        {
          "output_type": "stream",
          "name": "stderr",
          "text": [
            "loss=0.4462 batch_id=390: 100%|██████████| 391/391 [00:16<00:00, 24.19it/s]"
          ]
        },
        {
          "output_type": "stream",
          "name": "stdout",
          "text": [
            "\n",
            "Train set (epoch 10): Average loss: 0.4187, Accuracy: 42670/50000 (85.34%)\n",
            "\n"
          ]
        },
        {
          "output_type": "stream",
          "name": "stderr",
          "text": [
            "\n"
          ]
        },
        {
          "output_type": "stream",
          "name": "stdout",
          "text": [
            "Test set (epoch 10): Average loss: 0.6443, Accuracy: 7858/10000 (78.58%)\n",
            "\n",
            "✅ Saved new best model at epoch 10 with loss 0.6443\n"
          ]
        },
        {
          "output_type": "stream",
          "name": "stderr",
          "text": [
            "loss=0.3894 batch_id=390: 100%|██████████| 391/391 [00:16<00:00, 23.37it/s]"
          ]
        },
        {
          "output_type": "stream",
          "name": "stdout",
          "text": [
            "\n",
            "Train set (epoch 11): Average loss: 0.3933, Accuracy: 43131/50000 (86.26%)\n",
            "\n"
          ]
        },
        {
          "output_type": "stream",
          "name": "stderr",
          "text": [
            "\n"
          ]
        },
        {
          "output_type": "stream",
          "name": "stdout",
          "text": [
            "Test set (epoch 11): Average loss: 0.7584, Accuracy: 7651/10000 (76.51%)\n",
            "\n"
          ]
        },
        {
          "output_type": "stream",
          "name": "stderr",
          "text": [
            "loss=0.3770 batch_id=390: 100%|██████████| 391/391 [00:15<00:00, 25.00it/s]"
          ]
        },
        {
          "output_type": "stream",
          "name": "stdout",
          "text": [
            "\n",
            "Train set (epoch 12): Average loss: 0.3708, Accuracy: 43578/50000 (87.16%)\n",
            "\n"
          ]
        },
        {
          "output_type": "stream",
          "name": "stderr",
          "text": [
            "\n"
          ]
        },
        {
          "output_type": "stream",
          "name": "stdout",
          "text": [
            "Test set (epoch 12): Average loss: 0.7275, Accuracy: 7686/10000 (76.86%)\n",
            "\n"
          ]
        },
        {
          "output_type": "stream",
          "name": "stderr",
          "text": [
            "loss=0.2862 batch_id=390: 100%|██████████| 391/391 [00:15<00:00, 24.74it/s]"
          ]
        },
        {
          "output_type": "stream",
          "name": "stdout",
          "text": [
            "\n",
            "Train set (epoch 13): Average loss: 0.3569, Accuracy: 43747/50000 (87.49%)\n",
            "\n"
          ]
        },
        {
          "output_type": "stream",
          "name": "stderr",
          "text": [
            "\n"
          ]
        },
        {
          "output_type": "stream",
          "name": "stdout",
          "text": [
            "Test set (epoch 13): Average loss: 0.6761, Accuracy: 7839/10000 (78.39%)\n",
            "\n"
          ]
        },
        {
          "output_type": "stream",
          "name": "stderr",
          "text": [
            "loss=0.3455 batch_id=390: 100%|██████████| 391/391 [00:16<00:00, 24.07it/s]"
          ]
        },
        {
          "output_type": "stream",
          "name": "stdout",
          "text": [
            "\n",
            "Train set (epoch 14): Average loss: 0.3329, Accuracy: 44177/50000 (88.35%)\n",
            "\n"
          ]
        },
        {
          "output_type": "stream",
          "name": "stderr",
          "text": [
            "\n"
          ]
        },
        {
          "output_type": "stream",
          "name": "stdout",
          "text": [
            "Test set (epoch 14): Average loss: 0.6886, Accuracy: 7814/10000 (78.14%)\n",
            "\n"
          ]
        },
        {
          "output_type": "stream",
          "name": "stderr",
          "text": [
            "loss=0.4125 batch_id=390: 100%|██████████| 391/391 [00:16<00:00, 24.06it/s]"
          ]
        },
        {
          "output_type": "stream",
          "name": "stdout",
          "text": [
            "\n",
            "Train set (epoch 15): Average loss: 0.3207, Accuracy: 44397/50000 (88.79%)\n",
            "\n"
          ]
        },
        {
          "output_type": "stream",
          "name": "stderr",
          "text": [
            "\n"
          ]
        },
        {
          "output_type": "stream",
          "name": "stdout",
          "text": [
            "Test set (epoch 15): Average loss: 0.7999, Accuracy: 7557/10000 (75.57%)\n",
            "\n"
          ]
        },
        {
          "output_type": "stream",
          "name": "stderr",
          "text": [
            "loss=0.2044 batch_id=200:  51%|█████▏    | 201/391 [00:09<00:08, 22.24it/s]\n"
          ]
        },
        {
          "output_type": "error",
          "ename": "KeyboardInterrupt",
          "evalue": "",
          "traceback": [
            "\u001b[0;31m---------------------------------------------------------------------------\u001b[0m",
            "\u001b[0;31mKeyboardInterrupt\u001b[0m                         Traceback (most recent call last)",
            "\u001b[0;32m/tmp/ipython-input-2959538013.py\u001b[0m in \u001b[0;36m<cell line: 0>\u001b[0;34m()\u001b[0m\n\u001b[1;32m      5\u001b[0m \u001b[0;34m\u001b[0m\u001b[0m\n\u001b[1;32m      6\u001b[0m \u001b[0;32mfor\u001b[0m \u001b[0mepoch\u001b[0m \u001b[0;32min\u001b[0m \u001b[0mrange\u001b[0m\u001b[0;34m(\u001b[0m\u001b[0;36m20\u001b[0m\u001b[0;34m)\u001b[0m\u001b[0;34m:\u001b[0m\u001b[0;34m\u001b[0m\u001b[0;34m\u001b[0m\u001b[0m\n\u001b[0;32m----> 7\u001b[0;31m     \u001b[0mtrain\u001b[0m\u001b[0;34m(\u001b[0m\u001b[0mmodel\u001b[0m\u001b[0;34m,\u001b[0m \u001b[0mdevice\u001b[0m\u001b[0;34m,\u001b[0m \u001b[0mtrain_loader\u001b[0m\u001b[0;34m,\u001b[0m \u001b[0moptimizer\u001b[0m\u001b[0;34m,\u001b[0m \u001b[0mepoch\u001b[0m\u001b[0;34m)\u001b[0m\u001b[0;34m\u001b[0m\u001b[0;34m\u001b[0m\u001b[0m\n\u001b[0m\u001b[1;32m      8\u001b[0m     \u001b[0mtest_loss\u001b[0m \u001b[0;34m=\u001b[0m \u001b[0mtest\u001b[0m\u001b[0;34m(\u001b[0m\u001b[0mmodel\u001b[0m\u001b[0;34m,\u001b[0m \u001b[0mdevice\u001b[0m\u001b[0;34m,\u001b[0m \u001b[0mtest_loader\u001b[0m\u001b[0;34m,\u001b[0m \u001b[0mepoch\u001b[0m\u001b[0;34m)\u001b[0m\u001b[0;34m\u001b[0m\u001b[0;34m\u001b[0m\u001b[0m\n\u001b[1;32m      9\u001b[0m     \u001b[0mreduce_lr\u001b[0m\u001b[0;34m.\u001b[0m\u001b[0mstep\u001b[0m\u001b[0;34m(\u001b[0m\u001b[0mtest_loss\u001b[0m\u001b[0;34m)\u001b[0m\u001b[0;34m\u001b[0m\u001b[0;34m\u001b[0m\u001b[0m\n",
            "\u001b[0;32m/tmp/ipython-input-790119223.py\u001b[0m in \u001b[0;36mtrain\u001b[0;34m(model, device, train_loader, optimizer, epoch)\u001b[0m\n\u001b[1;32m     20\u001b[0m         \u001b[0moutput\u001b[0m \u001b[0;34m=\u001b[0m \u001b[0mmodel\u001b[0m\u001b[0;34m(\u001b[0m\u001b[0mdata\u001b[0m\u001b[0;34m)\u001b[0m\u001b[0;34m\u001b[0m\u001b[0;34m\u001b[0m\u001b[0m\n\u001b[1;32m     21\u001b[0m         \u001b[0mloss\u001b[0m \u001b[0;34m=\u001b[0m \u001b[0mcriterion\u001b[0m\u001b[0;34m(\u001b[0m\u001b[0moutput\u001b[0m\u001b[0;34m,\u001b[0m \u001b[0mtarget\u001b[0m\u001b[0;34m)\u001b[0m\u001b[0;34m\u001b[0m\u001b[0;34m\u001b[0m\u001b[0m\n\u001b[0;32m---> 22\u001b[0;31m         \u001b[0mloss\u001b[0m\u001b[0;34m.\u001b[0m\u001b[0mbackward\u001b[0m\u001b[0;34m(\u001b[0m\u001b[0;34m)\u001b[0m\u001b[0;34m\u001b[0m\u001b[0;34m\u001b[0m\u001b[0m\n\u001b[0m\u001b[1;32m     23\u001b[0m         \u001b[0moptimizer\u001b[0m\u001b[0;34m.\u001b[0m\u001b[0mstep\u001b[0m\u001b[0;34m(\u001b[0m\u001b[0;34m)\u001b[0m\u001b[0;34m\u001b[0m\u001b[0;34m\u001b[0m\u001b[0m\n\u001b[1;32m     24\u001b[0m \u001b[0;34m\u001b[0m\u001b[0m\n",
            "\u001b[0;32m/usr/local/lib/python3.12/dist-packages/torch/_tensor.py\u001b[0m in \u001b[0;36mbackward\u001b[0;34m(self, gradient, retain_graph, create_graph, inputs)\u001b[0m\n\u001b[1;32m    645\u001b[0m                 \u001b[0minputs\u001b[0m\u001b[0;34m=\u001b[0m\u001b[0minputs\u001b[0m\u001b[0;34m,\u001b[0m\u001b[0;34m\u001b[0m\u001b[0;34m\u001b[0m\u001b[0m\n\u001b[1;32m    646\u001b[0m             )\n\u001b[0;32m--> 647\u001b[0;31m         torch.autograd.backward(\n\u001b[0m\u001b[1;32m    648\u001b[0m             \u001b[0mself\u001b[0m\u001b[0;34m,\u001b[0m \u001b[0mgradient\u001b[0m\u001b[0;34m,\u001b[0m \u001b[0mretain_graph\u001b[0m\u001b[0;34m,\u001b[0m \u001b[0mcreate_graph\u001b[0m\u001b[0;34m,\u001b[0m \u001b[0minputs\u001b[0m\u001b[0;34m=\u001b[0m\u001b[0minputs\u001b[0m\u001b[0;34m\u001b[0m\u001b[0;34m\u001b[0m\u001b[0m\n\u001b[1;32m    649\u001b[0m         )\n",
            "\u001b[0;32m/usr/local/lib/python3.12/dist-packages/torch/autograd/__init__.py\u001b[0m in \u001b[0;36mbackward\u001b[0;34m(tensors, grad_tensors, retain_graph, create_graph, grad_variables, inputs)\u001b[0m\n\u001b[1;32m    352\u001b[0m     \u001b[0;31m# some Python versions print out the first line of a multi-line function\u001b[0m\u001b[0;34m\u001b[0m\u001b[0;34m\u001b[0m\u001b[0m\n\u001b[1;32m    353\u001b[0m     \u001b[0;31m# calls in the traceback and some print out the last line\u001b[0m\u001b[0;34m\u001b[0m\u001b[0;34m\u001b[0m\u001b[0m\n\u001b[0;32m--> 354\u001b[0;31m     _engine_run_backward(\n\u001b[0m\u001b[1;32m    355\u001b[0m         \u001b[0mtensors\u001b[0m\u001b[0;34m,\u001b[0m\u001b[0;34m\u001b[0m\u001b[0;34m\u001b[0m\u001b[0m\n\u001b[1;32m    356\u001b[0m         \u001b[0mgrad_tensors_\u001b[0m\u001b[0;34m,\u001b[0m\u001b[0;34m\u001b[0m\u001b[0;34m\u001b[0m\u001b[0m\n",
            "\u001b[0;32m/usr/local/lib/python3.12/dist-packages/torch/autograd/graph.py\u001b[0m in \u001b[0;36m_engine_run_backward\u001b[0;34m(t_outputs, *args, **kwargs)\u001b[0m\n\u001b[1;32m    827\u001b[0m         \u001b[0munregister_hooks\u001b[0m \u001b[0;34m=\u001b[0m \u001b[0m_register_logging_hooks_on_whole_graph\u001b[0m\u001b[0;34m(\u001b[0m\u001b[0mt_outputs\u001b[0m\u001b[0;34m)\u001b[0m\u001b[0;34m\u001b[0m\u001b[0;34m\u001b[0m\u001b[0m\n\u001b[1;32m    828\u001b[0m     \u001b[0;32mtry\u001b[0m\u001b[0;34m:\u001b[0m\u001b[0;34m\u001b[0m\u001b[0;34m\u001b[0m\u001b[0m\n\u001b[0;32m--> 829\u001b[0;31m         return Variable._execution_engine.run_backward(  # Calls into the C++ engine to run the backward pass\n\u001b[0m\u001b[1;32m    830\u001b[0m             \u001b[0mt_outputs\u001b[0m\u001b[0;34m,\u001b[0m \u001b[0;34m*\u001b[0m\u001b[0margs\u001b[0m\u001b[0;34m,\u001b[0m \u001b[0;34m**\u001b[0m\u001b[0mkwargs\u001b[0m\u001b[0;34m\u001b[0m\u001b[0;34m\u001b[0m\u001b[0m\n\u001b[1;32m    831\u001b[0m         )  # Calls into the C++ engine to run the backward pass\n",
            "\u001b[0;31mKeyboardInterrupt\u001b[0m: "
          ]
        }
      ],
      "source": [
        "model = Net().to(device)\n",
        "# optimizer = optim.SGD(model.parameters(), lr=0.001, momentum=0.9)\n",
        "optimizer = torch.optim.Adam(model.parameters(), lr=0.001)\n",
        "reduce_lr = torch.optim.lr_scheduler.ReduceLROnPlateau(optimizer=optimizer, factor=0.1,  patience=10)\n",
        "\n",
        "for epoch in range(20):\n",
        "    train(model, device, train_loader, optimizer, epoch)\n",
        "    test_loss = test(model, device, test_loader, epoch)\n",
        "    reduce_lr.step(test_loss)"
      ]
    },
    {
      "cell_type": "code",
      "execution_count": 17,
      "id": "qL3wSsh5eRrm",
      "metadata": {
        "colab": {
          "base_uri": "https://localhost:8080/",
          "height": 872
        },
        "id": "qL3wSsh5eRrm",
        "outputId": "3866ab04-9e51-4e6a-d3f6-b6dcc2f85264"
      },
      "outputs": [
        {
          "output_type": "display_data",
          "data": {
            "text/plain": [
              "<Figure size 1000x1000 with 4 Axes>"
            ],
            "image/png": "[encoded data removed]"
          },
          "metadata": {}
        }
      ],
      "source": [
        "fig, axs = plt.subplots(2, 2, figsize=(10, 10))\n",
        "\n",
        "axs[0,0].plot(train_loss_data, label='Train Loss')\n",
        "axs[0,0].set_xlabel('Batch')\n",
        "axs[0,0].set_ylabel('Loss')\n",
        "axs[0,0].set_title('Train Loss')\n",
        "axs[0,0].grid(True)\n",
        "axs[0,0].legend()\n",
        "\n",
        "axs[0,1].plot(test_loss_data, label='Test Loss')\n",
        "axs[0,1].set_xlabel('Epoch')\n",
        "axs[0,1].set_ylabel('Loss')\n",
        "axs[0,1].set_title('Test Loss')\n",
        "axs[0,1].grid(True)\n",
        "axs[0,1].legend()\n",
        "\n",
        "axs[1,0].plot(train_accuracy, label='Train Accuracy')\n",
        "axs[1,0].set_xlabel('Epoch')\n",
        "axs[1,0].set_ylabel('Accuracy')\n",
        "axs[1,0].set_title('Train Accuracy')\n",
        "axs[1,0].grid(True)\n",
        "axs[1,0].legend()\n",
        "\n",
        "axs[1,1].plot(test_accuracy, label='Test Accuracy')\n",
        "axs[1,1].set_xlabel('Epoch')\n",
        "axs[1,1].set_ylabel('Accuracy')\n",
        "axs[1,1].set_title('Test Accuracy')\n",
        "axs[1,1].grid(True)\n",
        "axs[1,1].legend()\n",
        "\n",
        "plt.show()"
      ]
    }
  ],
  "metadata": {
    "colab": {
      "provenance": [],
      "gpuType": "T4"
    },
    "kernelspec": {
      "display_name": "Python 3",
      "name": "python3"
    },
    "language_info": {
      "codemirror_mode": {
        "name": "ipython",
        "version": 3
      },
      "file_extension": ".py",
      "mimetype": "text/x-python",
      "name": "python",
      "nbconvert_exporter": "python",
      "pygments_lexer": "ipython3",
      "version": "3.9.6"
    },
    "accelerator": "GPU"
  },
  "nbformat": 4,
  "nbformat_minor": 5
}