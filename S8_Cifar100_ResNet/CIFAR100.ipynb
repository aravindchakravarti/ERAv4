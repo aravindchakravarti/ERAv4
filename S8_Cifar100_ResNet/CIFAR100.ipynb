{
  "cells": [
    {
      "cell_type": "code",
      "execution_count": 1,
      "id": "dhzS-1Hea5ss",
      "metadata": {
        "colab": {
          "base_uri": "https://localhost:8080/"
        },
        "id": "dhzS-1Hea5ss",
        "outputId": "dcb1cde6-6535-473b-ba30-3bc9186208fd"
      },
      "outputs": [
        {
          "output_type": "stream",
          "name": "stdout",
          "text": [
            "Mounted at /content/drive\n"
          ]
        }
      ],
      "source": [
        "import sys\n",
        "if 'google.colab' in sys.modules:\n",
        "    from google.colab import drive\n",
        "    drive.mount('/content/drive')"
      ]
    },
    {
      "cell_type": "code",
      "execution_count": 2,
      "id": "9fc7a6d9",
      "metadata": {
        "colab": {
          "base_uri": "https://localhost:8080/"
        },
        "id": "9fc7a6d9",
        "outputId": "b7e6b816-a6e5-438c-ef65-db543b38a06c"
      },
      "outputs": [
        {
          "output_type": "stream",
          "name": "stdout",
          "text": [
            "Requirement already satisfied: torchsummary in /usr/local/lib/python3.12/dist-packages (1.5.1)\n",
            "Collecting albumentationsx\n",
            "  Downloading albumentationsx-2.0.11-py3-none-any.whl.metadata (79 kB)\n",
            "\u001b[2K     \u001b[90m━━━━━━━━━━━━━━━━━━━━━━━━━━━━━━━━━━━━━━━━\u001b[0m \u001b[32m79.4/79.4 kB\u001b[0m \u001b[31m5.2 MB/s\u001b[0m eta \u001b[36m0:00:00\u001b[0m\n",
            "\u001b[?25hRequirement already satisfied: numpy>=1.24.4 in /usr/local/lib/python3.12/dist-packages (from albumentationsx) (2.0.2)\n",
            "Requirement already satisfied: scipy>=1.10.0 in /usr/local/lib/python3.12/dist-packages (from albumentationsx) (1.16.2)\n",
            "Requirement already satisfied: PyYAML in /usr/local/lib/python3.12/dist-packages (from albumentationsx) (6.0.3)\n",
            "Requirement already satisfied: pydantic>=2.9.2 in /usr/local/lib/python3.12/dist-packages (from albumentationsx) (2.11.9)\n",
            "Collecting albucore==0.0.33 (from albumentationsx)\n",
            "  Downloading albucore-0.0.33-py3-none-any.whl.metadata (7.8 kB)\n",
            "Requirement already satisfied: opencv-python-headless>=4.9.0.80 in /usr/local/lib/python3.12/dist-packages (from albumentationsx) (4.12.0.88)\n",
            "Requirement already satisfied: stringzilla>=3.10.4 in /usr/local/lib/python3.12/dist-packages (from albucore==0.0.33->albumentationsx) (4.0.15)\n",
            "Requirement already satisfied: simsimd>=5.9.2 in /usr/local/lib/python3.12/dist-packages (from albucore==0.0.33->albumentationsx) (6.5.3)\n",
            "Requirement already satisfied: annotated-types>=0.6.0 in /usr/local/lib/python3.12/dist-packages (from pydantic>=2.9.2->albumentationsx) (0.7.0)\n",
            "Requirement already satisfied: pydantic-core==2.33.2 in /usr/local/lib/python3.12/dist-packages (from pydantic>=2.9.2->albumentationsx) (2.33.2)\n",
            "Requirement already satisfied: typing-extensions>=4.12.2 in /usr/local/lib/python3.12/dist-packages (from pydantic>=2.9.2->albumentationsx) (4.15.0)\n",
            "Requirement already satisfied: typing-inspection>=0.4.0 in /usr/local/lib/python3.12/dist-packages (from pydantic>=2.9.2->albumentationsx) (0.4.2)\n",
            "Downloading albumentationsx-2.0.11-py3-none-any.whl (411 kB)\n",
            "\u001b[2K   \u001b[90m━━━━━━━━━━━━━━━━━━━━━━━━━━━━━━━━━━━━━━━━\u001b[0m \u001b[32m411.6/411.6 kB\u001b[0m \u001b[31m33.1 MB/s\u001b[0m eta \u001b[36m0:00:00\u001b[0m\n",
            "\u001b[?25hDownloading albucore-0.0.33-py3-none-any.whl (18 kB)\n",
            "Installing collected packages: albucore, albumentationsx\n",
            "  Attempting uninstall: albucore\n",
            "    Found existing installation: albucore 0.0.24\n",
            "    Uninstalling albucore-0.0.24:\n",
            "      Successfully uninstalled albucore-0.0.24\n",
            "\u001b[31mERROR: pip's dependency resolver does not currently take into account all the packages that are installed. This behaviour is the source of the following dependency conflicts.\n",
            "albumentations 2.0.8 requires albucore==0.0.24, but you have albucore 0.0.33 which is incompatible.\u001b[0m\u001b[31m\n",
            "\u001b[0mSuccessfully installed albucore-0.0.33 albumentationsx-2.0.11\n",
            "Collecting torch_lr_finder\n",
            "  Downloading torch_lr_finder-0.2.2-py3-none-any.whl.metadata (8.5 kB)\n",
            "Requirement already satisfied: matplotlib in /usr/local/lib/python3.12/dist-packages (from torch_lr_finder) (3.10.0)\n",
            "Requirement already satisfied: numpy in /usr/local/lib/python3.12/dist-packages (from torch_lr_finder) (2.0.2)\n",
            "Requirement already satisfied: torch>=0.4.1 in /usr/local/lib/python3.12/dist-packages (from torch_lr_finder) (2.8.0+cu126)\n",
            "Requirement already satisfied: tqdm in /usr/local/lib/python3.12/dist-packages (from torch_lr_finder) (4.67.1)\n",
            "Requirement already satisfied: packaging in /usr/local/lib/python3.12/dist-packages (from torch_lr_finder) (25.0)\n",
            "Requirement already satisfied: filelock in /usr/local/lib/python3.12/dist-packages (from torch>=0.4.1->torch_lr_finder) (3.19.1)\n",
            "Requirement already satisfied: typing-extensions>=4.10.0 in /usr/local/lib/python3.12/dist-packages (from torch>=0.4.1->torch_lr_finder) (4.15.0)\n",
            "Requirement already satisfied: setuptools in /usr/local/lib/python3.12/dist-packages (from torch>=0.4.1->torch_lr_finder) (75.2.0)\n",
            "Requirement already satisfied: sympy>=1.13.3 in /usr/local/lib/python3.12/dist-packages (from torch>=0.4.1->torch_lr_finder) (1.13.3)\n",
            "Requirement already satisfied: networkx in /usr/local/lib/python3.12/dist-packages (from torch>=0.4.1->torch_lr_finder) (3.5)\n",
            "Requirement already satisfied: jinja2 in /usr/local/lib/python3.12/dist-packages (from torch>=0.4.1->torch_lr_finder) (3.1.6)\n",
            "Requirement already satisfied: fsspec in /usr/local/lib/python3.12/dist-packages (from torch>=0.4.1->torch_lr_finder) (2025.3.0)\n",
            "Requirement already satisfied: nvidia-cuda-nvrtc-cu12==12.6.77 in /usr/local/lib/python3.12/dist-packages (from torch>=0.4.1->torch_lr_finder) (12.6.77)\n",
            "Requirement already satisfied: nvidia-cuda-runtime-cu12==12.6.77 in /usr/local/lib/python3.12/dist-packages (from torch>=0.4.1->torch_lr_finder) (12.6.77)\n",
            "Requirement already satisfied: nvidia-cuda-cupti-cu12==12.6.80 in /usr/local/lib/python3.12/dist-packages (from torch>=0.4.1->torch_lr_finder) (12.6.80)\n",
            "Requirement already satisfied: nvidia-cudnn-cu12==9.10.2.21 in /usr/local/lib/python3.12/dist-packages (from torch>=0.4.1->torch_lr_finder) (9.10.2.21)\n",
            "Requirement already satisfied: nvidia-cublas-cu12==12.6.4.1 in /usr/local/lib/python3.12/dist-packages (from torch>=0.4.1->torch_lr_finder) (12.6.4.1)\n",
            "Requirement already satisfied: nvidia-cufft-cu12==11.3.0.4 in /usr/local/lib/python3.12/dist-packages (from torch>=0.4.1->torch_lr_finder) (11.3.0.4)\n",
            "Requirement already satisfied: nvidia-curand-cu12==10.3.7.77 in /usr/local/lib/python3.12/dist-packages (from torch>=0.4.1->torch_lr_finder) (10.3.7.77)\n",
            "Requirement already satisfied: nvidia-cusolver-cu12==11.7.1.2 in /usr/local/lib/python3.12/dist-packages (from torch>=0.4.1->torch_lr_finder) (11.7.1.2)\n",
            "Requirement already satisfied: nvidia-cusparse-cu12==12.5.4.2 in /usr/local/lib/python3.12/dist-packages (from torch>=0.4.1->torch_lr_finder) (12.5.4.2)\n",
            "Requirement already satisfied: nvidia-cusparselt-cu12==0.7.1 in /usr/local/lib/python3.12/dist-packages (from torch>=0.4.1->torch_lr_finder) (0.7.1)\n",
            "Requirement already satisfied: nvidia-nccl-cu12==2.27.3 in /usr/local/lib/python3.12/dist-packages (from torch>=0.4.1->torch_lr_finder) (2.27.3)\n",
            "Requirement already satisfied: nvidia-nvtx-cu12==12.6.77 in /usr/local/lib/python3.12/dist-packages (from torch>=0.4.1->torch_lr_finder) (12.6.77)\n",
            "Requirement already satisfied: nvidia-nvjitlink-cu12==12.6.85 in /usr/local/lib/python3.12/dist-packages (from torch>=0.4.1->torch_lr_finder) (12.6.85)\n",
            "Requirement already satisfied: nvidia-cufile-cu12==1.11.1.6 in /usr/local/lib/python3.12/dist-packages (from torch>=0.4.1->torch_lr_finder) (1.11.1.6)\n",
            "Requirement already satisfied: triton==3.4.0 in /usr/local/lib/python3.12/dist-packages (from torch>=0.4.1->torch_lr_finder) (3.4.0)\n",
            "Requirement already satisfied: contourpy>=1.0.1 in /usr/local/lib/python3.12/dist-packages (from matplotlib->torch_lr_finder) (1.3.3)\n",
            "Requirement already satisfied: cycler>=0.10 in /usr/local/lib/python3.12/dist-packages (from matplotlib->torch_lr_finder) (0.12.1)\n",
            "Requirement already satisfied: fonttools>=4.22.0 in /usr/local/lib/python3.12/dist-packages (from matplotlib->torch_lr_finder) (4.60.1)\n",
            "Requirement already satisfied: kiwisolver>=1.3.1 in /usr/local/lib/python3.12/dist-packages (from matplotlib->torch_lr_finder) (1.4.9)\n",
            "Requirement already satisfied: pillow>=8 in /usr/local/lib/python3.12/dist-packages (from matplotlib->torch_lr_finder) (11.3.0)\n",
            "Requirement already satisfied: pyparsing>=2.3.1 in /usr/local/lib/python3.12/dist-packages (from matplotlib->torch_lr_finder) (3.2.5)\n",
            "Requirement already satisfied: python-dateutil>=2.7 in /usr/local/lib/python3.12/dist-packages (from matplotlib->torch_lr_finder) (2.9.0.post0)\n",
            "Requirement already satisfied: six>=1.5 in /usr/local/lib/python3.12/dist-packages (from python-dateutil>=2.7->matplotlib->torch_lr_finder) (1.17.0)\n",
            "Requirement already satisfied: mpmath<1.4,>=1.1.0 in /usr/local/lib/python3.12/dist-packages (from sympy>=1.13.3->torch>=0.4.1->torch_lr_finder) (1.3.0)\n",
            "Requirement already satisfied: MarkupSafe>=2.0 in /usr/local/lib/python3.12/dist-packages (from jinja2->torch>=0.4.1->torch_lr_finder) (3.0.3)\n",
            "Downloading torch_lr_finder-0.2.2-py3-none-any.whl (12 kB)\n",
            "Installing collected packages: torch_lr_finder\n",
            "Successfully installed torch_lr_finder-0.2.2\n"
          ]
        }
      ],
      "source": [
        "import torch\n",
        "from torchvision import datasets\n",
        "import torch.nn as nn\n",
        "import torch.nn.functional as F\n",
        "from torch.optim.lr_scheduler import OneCycleLR\n",
        "import sys\n",
        "import os\n",
        "import numpy as np\n",
        "import cv2\n",
        "import matplotlib.pyplot as plt\n",
        "from torchvision.transforms import v2\n",
        "\n",
        "if 'google.colab' in sys.modules:\n",
        "    !pip install torchsummary\n",
        "    !pip install albumentationsx\n",
        "    !pip install torch_lr_finder\n",
        "\n",
        "import albumentations as A\n",
        "# from albumentations.pytorch import ToTensorV2\n",
        "from torchsummary import summary\n",
        "from tqdm import tqdm\n",
        "\n",
        "import logging\n",
        "logging.basicConfig(\n",
        "    level=logging.INFO,\n",
        "    format='%(asctime)s - %(levelname)s - %(message)s',\n",
        "    force=True  # <-- important in Jupyter\n",
        ")\n",
        "logger = logging.getLogger(__name__)\n",
        "\n",
        "from model_v1 import ResNet"
      ]
    },
    {
      "cell_type": "code",
      "execution_count": 3,
      "id": "2f878237",
      "metadata": {
        "colab": {
          "base_uri": "https://localhost:8080/"
        },
        "id": "2f878237",
        "outputId": "76604aea-d815-4ab5-f944-a4e5356c9fd9"
      },
      "outputs": [
        {
          "output_type": "stream",
          "name": "stdout",
          "text": [
            "Cuda available = True, Using device = cuda\n"
          ]
        }
      ],
      "source": [
        "is_cuda = torch.cuda.is_available()\n",
        "device = torch.device(\"cuda\" if is_cuda else \"cpu\")\n",
        "print(f\"Cuda available = {is_cuda}, Using device = {device}\")"
      ]
    },
    {
      "cell_type": "code",
      "execution_count": 4,
      "id": "6YuMngmmC7Oj",
      "metadata": {
        "id": "6YuMngmmC7Oj",
        "colab": {
          "base_uri": "https://localhost:8080/"
        },
        "outputId": "c61b97b5-5b34-4aa9-97fc-68e22c866263"
      },
      "outputs": [
        {
          "output_type": "stream",
          "name": "stderr",
          "text": [
            "2025-10-08 12:27:01,402 - INFO - Lenth of class names = 100\n"
          ]
        }
      ],
      "source": [
        "# Mean and Standard Deviation of CIFAR-100 dataset\n",
        "CIFAR100_MEAN = (0.5071, 0.4867, 0.4408)\n",
        "CIFAR100_STD = (0.2675, 0.2565, 0.2761)\n",
        "if 'google.colab' in sys.modules:\n",
        "    BATCH_SIZE = 1024\n",
        "else:\n",
        "    BATCH_SIZE = 32\n",
        "CIFAR100_LABELS = [\n",
        "    'apple', 'aquarium_fish', 'baby', 'bear', 'beaver', 'bed', 'bee', 'beetle', 'bicycle', 'bottle',\n",
        "    'bowl', 'boy', 'bridge', 'bus', 'butterfly', 'camel', 'can', 'castle', 'caterpillar', 'cattle',\n",
        "    'chair', 'chimpanzee', 'clock', 'cloud', 'cockroach', 'couch', 'crab', 'crocodile', 'cup', 'dinosaur',\n",
        "    'dolphin', 'elephant', 'flatfish', 'forest', 'fox', 'girl', 'hamster', 'house', 'kangaroo', 'keyboard',\n",
        "    'lamp', 'lawn_mower', 'leopard', 'lion', 'lizard', 'lobster', 'man', 'maple_tree', 'motorcycle', 'mountain',\n",
        "    'mouse', 'mushroom', 'oak_tree', 'orange', 'orchid', 'otter', 'palm_tree', 'pear', 'pickup_truck', 'pine_tree',\n",
        "    'plain', 'plate', 'poppy', 'porcupine', 'possum', 'rabbit', 'raccoon', 'ray', 'road', 'rocket',\n",
        "    'rose', 'sea', 'seal', 'shark', 'shrew', 'skunk', 'skyscraper', 'snail', 'snake', 'spider',\n",
        "    'squirrel', 'streetcar', 'sunflower', 'sweet_pepper', 'table', 'tank', 'telephone', 'television', 'tiger', 'tractor',\n",
        "    'train', 'trout', 'tulip', 'turtle', 'wardrobe', 'whale', 'willow_tree', 'wolf', 'woman', 'worm'\n",
        "]\n",
        "logger.info(f\"Lenth of class names = {len(CIFAR100_LABELS)}\")\n",
        "GET_DATASET_STATS_FLAG = True"
      ]
    },
    {
      "cell_type": "code",
      "execution_count": 5,
      "id": "g2LF3MrlDEvr",
      "metadata": {
        "id": "g2LF3MrlDEvr",
        "colab": {
          "base_uri": "https://localhost:8080/"
        },
        "outputId": "a4203d9b-12c5-4510-d12e-0a62eeb13557"
      },
      "outputs": [
        {
          "output_type": "stream",
          "name": "stderr",
          "text": [
            "/usr/local/lib/python3.12/dist-packages/albumentations/core/validation.py:132: UserWarning: ShiftScaleRotate is a special case of Affine transform. Please use Affine transform instead.\n",
            "  original_init(self, **validated_kwargs)\n"
          ]
        }
      ],
      "source": [
        "class AlbumentationsTransform:\n",
        "    def __init__(self, transform):\n",
        "        self.transform = transform\n",
        "\n",
        "    def __call__(self, img):\n",
        "        # CIFAR100 gives PIL image -> convert to numpy\n",
        "        img = np.array(img)\n",
        "        # Apply Albumentations\n",
        "        augmented = self.transform(image=img)\n",
        "        return augmented[\"image\"]\n",
        "\n",
        "# Denormalization function for viz/stats (add this helper)\n",
        "def denormalize(tensor_img, mean=CIFAR100_MEAN, std=CIFAR100_STD):\n",
        "    \"\"\"Denormalize tensor for display (assumes C x H x W, values in [-2,2] approx).\"\"\"\n",
        "    tensor_img = tensor_img.clone()  # Avoid modifying original\n",
        "    for t, m, s in zip(tensor_img, mean, std):\n",
        "        t.mul_(s).add_(m)  # Unnormalize\n",
        "    return torch.clamp(tensor_img, 0, 1)  # Clamp to [0,1]\n",
        "\n",
        "train_transforms = AlbumentationsTransform(A.Compose([\n",
        "    A.Resize(32, 32),\n",
        "    A.HorizontalFlip(p=0.5),\n",
        "    A.ShiftScaleRotate(\n",
        "        shift_limit=(-0.0625, 0.0625),\n",
        "        scale_limit=(-0.1, 0.1),\n",
        "        rotate_limit=(-15, 15),\n",
        "        interpolation=cv2.INTER_LINEAR,\n",
        "        border_mode=cv2.BORDER_CONSTANT,\n",
        "        rotate_method=\"largest_box\",\n",
        "        p=0.5),\n",
        "    A.CoarseDropout(\n",
        "        num_holes_range=(1,1),\n",
        "        hole_height_range=(10, 15),\n",
        "        hole_width_range=(10, 15),\n",
        "        fill=0,\n",
        "        p=0.5\n",
        "    ),\n",
        "    A.Normalize(mean=CIFAR100_MEAN, std=CIFAR100_STD),\n",
        "    A.ToTensorV2(),\n",
        "]))\n",
        "\n",
        "test_transforms = AlbumentationsTransform(A.Compose([\n",
        "    A.Resize(32, 32),\n",
        "    A.Normalize(mean=CIFAR100_MEAN, std=CIFAR100_STD),\n",
        "    A.ToTensorV2(),\n",
        "]))"
      ]
    },
    {
      "cell_type": "code",
      "execution_count": 6,
      "id": "GXnGvNgHDh7W",
      "metadata": {
        "id": "GXnGvNgHDh7W",
        "colab": {
          "base_uri": "https://localhost:8080/"
        },
        "outputId": "91d40d8c-7292-4ca7-bcf3-bec2e91d3ae8"
      },
      "outputs": [
        {
          "output_type": "stream",
          "name": "stderr",
          "text": [
            "100%|██████████| 169M/169M [00:06<00:00, 26.7MB/s]\n"
          ]
        }
      ],
      "source": [
        "cifar_train_dataset = datasets.CIFAR100(\n",
        "    root='../../',\n",
        "    train=True,\n",
        "    download=True,\n",
        "    transform=train_transforms,\n",
        ")\n",
        "\n",
        "cifar_test_dataset = datasets.CIFAR100(\n",
        "    root='../../',\n",
        "    train=False,\n",
        "    download=True,\n",
        "    transform=test_transforms,\n",
        ")\n",
        "\n",
        "train_kwargs = {'batch_size': BATCH_SIZE, 'shuffle': True,  'num_workers': 0, 'pin_memory': is_cuda}\n",
        "test_kwargs = {'batch_size': BATCH_SIZE, 'shuffle': False,  'num_workers': 0, 'pin_memory': is_cuda}\n",
        "\n",
        "train_loader = torch.utils.data.DataLoader(cifar_train_dataset, **train_kwargs)\n",
        "test_loader  = torch.utils.data.DataLoader(cifar_test_dataset,  **test_kwargs)"
      ]
    },
    {
      "cell_type": "code",
      "execution_count": 7,
      "id": "b664865a",
      "metadata": {
        "colab": {
          "base_uri": "https://localhost:8080/",
          "height": 431
        },
        "id": "b664865a",
        "outputId": "d34d5702-6735-4c47-d307-9a0099821b2b"
      },
      "outputs": [
        {
          "output_type": "display_data",
          "data": {
            "text/plain": [
              "<Figure size 640x480 with 1 Axes>"
            ],
            "image/png": "[encoded data removed]"
          },
          "metadata": {}
        }
      ],
      "source": [
        "if GET_DATASET_STATS_FLAG:\n",
        "    # Note: This computes stats on transformed (augmented + normalized) data, which isn't ideal for verifying raw mean/std.\n",
        "    # If you want raw stats, use a temp dataset without transforms/normalize.\n",
        "    imgs = []\n",
        "    for index, item in enumerate(cifar_train_dataset):\n",
        "        # Sampling 1000 images only\n",
        "        if index > 1000:\n",
        "            break\n",
        "        else:\n",
        "            imgs.append(item[0])\n",
        "    # imgs = [item[0] for item in cifar_train_dataset]\n",
        "    imgs = torch.stack(imgs, dim=0).numpy()\n",
        "    imgs_r = imgs[:,0,:,:].flatten()\n",
        "    imgs_g = imgs[:,1,:,:].flatten()\n",
        "    imgs_b = imgs[:,2,:,:].flatten()\n",
        "    logger.info(f\"Flatten images size {imgs_r.shape}, {imgs_g.shape}, {imgs_b.shape}\")\n",
        "\n",
        "    plt.hist(imgs_r, bins=50, alpha=0.33, color='r', label='Red')\n",
        "    plt.hist(imgs_g, bins=50, alpha=0.33, color='g', label='Green')\n",
        "    plt.hist(imgs_b, bins=50, alpha=0.33, color='b', label='Blue')\n",
        "    plt.legend()\n",
        "    plt.show()"
      ]
    },
    {
      "cell_type": "code",
      "execution_count": 8,
      "id": "d29d0682",
      "metadata": {
        "id": "d29d0682"
      },
      "outputs": [],
      "source": [
        "def dataset_visualizer(dataset_loader, n_images=12):\n",
        "    \"\"\"Visualize a few samples from the dataset loader.\"\"\"\n",
        "    batch_data, batch_label = next(iter(dataset_loader))\n",
        "    n_images = min(n_images, len(batch_data))\n",
        "\n",
        "    fig = plt.figure(figsize=(10, 8))\n",
        "    for i in range(n_images):\n",
        "        plt.subplot(3, 4, i+1)\n",
        "        plt.tight_layout()\n",
        "        image_data = batch_data[i].cpu()\n",
        "        # Denormalize first (expects C x H x W)\n",
        "        image_data = denormalize(image_data, mean=CIFAR100_MEAN, std=CIFAR100_STD)\n",
        "        # Then permute to H x W x C for visualization\n",
        "        image_data = image_data.permute(1, 2, 0)\n",
        "        plt.imshow(image_data)\n",
        "        plt.title(CIFAR100_LABELS[batch_label[i].item()])\n",
        "        plt.xticks([])\n",
        "        plt.yticks([])\n",
        "    plt.show()"
      ]
    },
    {
      "cell_type": "code",
      "execution_count": 9,
      "id": "6988f18c",
      "metadata": {
        "colab": {
          "base_uri": "https://localhost:8080/",
          "height": 759
        },
        "id": "6988f18c",
        "outputId": "a59b750a-eab0-4b3b-cb32-0eaa67215cc2"
      },
      "outputs": [
        {
          "output_type": "display_data",
          "data": {
            "text/plain": [
              "<Figure size 1000x800 with 12 Axes>"
            ],
            "image/png": "[encoded data removed]"
          },
          "metadata": {}
        }
      ],
      "source": [
        "dataset_visualizer(train_loader)"
      ]
    },
    {
      "cell_type": "code",
      "execution_count": 7,
      "id": "a6ad3062",
      "metadata": {
        "colab": {
          "base_uri": "https://localhost:8080/"
        },
        "id": "a6ad3062",
        "outputId": "442b804f-1c9c-405c-c037-ec32e7968608"
      },
      "outputs": [
        {
          "output_type": "stream",
          "name": "stdout",
          "text": [
            "Output shape: torch.Size([5, 100])\n",
            "----------------------------------------------------------------\n",
            "        Layer (type)               Output Shape         Param #\n",
            "================================================================\n",
            "            Conv2d-1           [-1, 64, 32, 32]           1,728\n",
            "       BatchNorm2d-2           [-1, 64, 32, 32]             128\n",
            "              ReLU-3           [-1, 64, 32, 32]               0\n",
            "            Conv2d-4           [-1, 64, 32, 32]          36,864\n",
            "       BatchNorm2d-5           [-1, 64, 32, 32]             128\n",
            "              ReLU-6           [-1, 64, 32, 32]               0\n",
            "            Conv2d-7           [-1, 64, 32, 32]          36,864\n",
            "       BatchNorm2d-8           [-1, 64, 32, 32]             128\n",
            "              ReLU-9           [-1, 64, 32, 32]               0\n",
            "       BasicBlock-10           [-1, 64, 32, 32]               0\n",
            "           Conv2d-11           [-1, 64, 32, 32]          36,864\n",
            "      BatchNorm2d-12           [-1, 64, 32, 32]             128\n",
            "             ReLU-13           [-1, 64, 32, 32]               0\n",
            "           Conv2d-14           [-1, 64, 32, 32]          36,864\n",
            "      BatchNorm2d-15           [-1, 64, 32, 32]             128\n",
            "             ReLU-16           [-1, 64, 32, 32]               0\n",
            "       BasicBlock-17           [-1, 64, 32, 32]               0\n",
            "           Conv2d-18          [-1, 128, 16, 16]          73,728\n",
            "      BatchNorm2d-19          [-1, 128, 16, 16]             256\n",
            "             ReLU-20          [-1, 128, 16, 16]               0\n",
            "           Conv2d-21          [-1, 128, 16, 16]         147,456\n",
            "      BatchNorm2d-22          [-1, 128, 16, 16]             256\n",
            "           Conv2d-23          [-1, 128, 16, 16]           8,192\n",
            "      BatchNorm2d-24          [-1, 128, 16, 16]             256\n",
            "             ReLU-25          [-1, 128, 16, 16]               0\n",
            "       BasicBlock-26          [-1, 128, 16, 16]               0\n",
            "           Conv2d-27          [-1, 128, 16, 16]         147,456\n",
            "      BatchNorm2d-28          [-1, 128, 16, 16]             256\n",
            "             ReLU-29          [-1, 128, 16, 16]               0\n",
            "           Conv2d-30          [-1, 128, 16, 16]         147,456\n",
            "      BatchNorm2d-31          [-1, 128, 16, 16]             256\n",
            "             ReLU-32          [-1, 128, 16, 16]               0\n",
            "       BasicBlock-33          [-1, 128, 16, 16]               0\n",
            "           Conv2d-34            [-1, 128, 8, 8]           1,152\n",
            "           Conv2d-35            [-1, 256, 8, 8]          32,768\n",
            "DepthwiseSeparableConv2d-36            [-1, 256, 8, 8]               0\n",
            "      BatchNorm2d-37            [-1, 256, 8, 8]             512\n",
            "             ReLU-38            [-1, 256, 8, 8]               0\n",
            "           Conv2d-39            [-1, 256, 8, 8]           2,304\n",
            "           Conv2d-40            [-1, 256, 8, 8]          65,536\n",
            "DepthwiseSeparableConv2d-41            [-1, 256, 8, 8]               0\n",
            "      BatchNorm2d-42            [-1, 256, 8, 8]             512\n",
            "           Conv2d-43            [-1, 256, 8, 8]          32,768\n",
            "      BatchNorm2d-44            [-1, 256, 8, 8]             512\n",
            "             ReLU-45            [-1, 256, 8, 8]               0\n",
            "DepthwiseBasicBlock-46            [-1, 256, 8, 8]               0\n",
            "           Conv2d-47            [-1, 256, 8, 8]           2,304\n",
            "           Conv2d-48            [-1, 256, 8, 8]          65,536\n",
            "DepthwiseSeparableConv2d-49            [-1, 256, 8, 8]               0\n",
            "      BatchNorm2d-50            [-1, 256, 8, 8]             512\n",
            "             ReLU-51            [-1, 256, 8, 8]               0\n",
            "           Conv2d-52            [-1, 256, 8, 8]           2,304\n",
            "           Conv2d-53            [-1, 256, 8, 8]          65,536\n",
            "DepthwiseSeparableConv2d-54            [-1, 256, 8, 8]               0\n",
            "      BatchNorm2d-55            [-1, 256, 8, 8]             512\n",
            "             ReLU-56            [-1, 256, 8, 8]               0\n",
            "DepthwiseBasicBlock-57            [-1, 256, 8, 8]               0\n",
            "           Conv2d-58            [-1, 256, 8, 8]           2,304\n",
            "           Conv2d-59            [-1, 256, 8, 8]          65,536\n",
            "DepthwiseSeparableConv2d-60            [-1, 256, 8, 8]               0\n",
            "      BatchNorm2d-61            [-1, 256, 8, 8]             512\n",
            "             ReLU-62            [-1, 256, 8, 8]               0\n",
            "           Conv2d-63            [-1, 256, 8, 8]           2,304\n",
            "           Conv2d-64            [-1, 256, 8, 8]          65,536\n",
            "DepthwiseSeparableConv2d-65            [-1, 256, 8, 8]               0\n",
            "      BatchNorm2d-66            [-1, 256, 8, 8]             512\n",
            "             ReLU-67            [-1, 256, 8, 8]               0\n",
            "DepthwiseBasicBlock-68            [-1, 256, 8, 8]               0\n",
            "           Conv2d-69            [-1, 256, 4, 4]           2,304\n",
            "           Conv2d-70            [-1, 512, 4, 4]         131,072\n",
            "DepthwiseSeparableConv2d-71            [-1, 512, 4, 4]               0\n",
            "      BatchNorm2d-72            [-1, 512, 4, 4]           1,024\n",
            "             ReLU-73            [-1, 512, 4, 4]               0\n",
            "           Conv2d-74            [-1, 512, 4, 4]           4,608\n",
            "           Conv2d-75            [-1, 512, 4, 4]         262,144\n",
            "DepthwiseSeparableConv2d-76            [-1, 512, 4, 4]               0\n",
            "      BatchNorm2d-77            [-1, 512, 4, 4]           1,024\n",
            "           Conv2d-78            [-1, 512, 4, 4]         131,072\n",
            "      BatchNorm2d-79            [-1, 512, 4, 4]           1,024\n",
            "             ReLU-80            [-1, 512, 4, 4]               0\n",
            "DepthwiseBasicBlock-81            [-1, 512, 4, 4]               0\n",
            "           Conv2d-82            [-1, 512, 4, 4]           4,608\n",
            "           Conv2d-83            [-1, 512, 4, 4]         262,144\n",
            "DepthwiseSeparableConv2d-84            [-1, 512, 4, 4]               0\n",
            "      BatchNorm2d-85            [-1, 512, 4, 4]           1,024\n",
            "             ReLU-86            [-1, 512, 4, 4]               0\n",
            "           Conv2d-87            [-1, 512, 4, 4]           4,608\n",
            "           Conv2d-88            [-1, 512, 4, 4]         262,144\n",
            "DepthwiseSeparableConv2d-89            [-1, 512, 4, 4]               0\n",
            "      BatchNorm2d-90            [-1, 512, 4, 4]           1,024\n",
            "             ReLU-91            [-1, 512, 4, 4]               0\n",
            "DepthwiseBasicBlock-92            [-1, 512, 4, 4]               0\n",
            "AdaptiveAvgPool2d-93            [-1, 512, 1, 1]               0\n",
            "           Linear-94                  [-1, 100]          51,300\n",
            "================================================================\n",
            "Total params: 2,205,988\n",
            "Trainable params: 2,205,988\n",
            "Non-trainable params: 0\n",
            "----------------------------------------------------------------\n",
            "Input size (MB): 0.01\n",
            "Forward/backward pass size (MB): 18.29\n",
            "Params size (MB): 8.42\n",
            "Estimated Total Size (MB): 26.71\n",
            "----------------------------------------------------------------\n"
          ]
        }
      ],
      "source": [
        "device = torch.device(\"cuda\" if torch.cuda.is_available() else \"cpu\")\n",
        "model = ResNet(layers=[2,2,3,2], num_classes=100, use_depthwise=(False, False, True, True)).to(device)\n",
        "\n",
        "dummy_data = torch.randn(5, 3, 32, 32).to(device)\n",
        "dummy_output = model(dummy_data)\n",
        "print(\"Output shape:\", dummy_output.shape)  # should be [5, 100]\n",
        "summary(model, input_size=(3, 32, 32), device=str(device))"
      ]
    },
    {
      "cell_type": "code",
      "execution_count": 8,
      "id": "c3aa7524",
      "metadata": {
        "colab": {
          "base_uri": "https://localhost:8080/",
          "height": 555,
          "referenced_widgets": [
            "929f833010db441b8bbed2c5f73e71b2",
            "f0cb3d9b2bae4216bc4e44a17bd17982",
            "e10d062dfcdf4d398292aa97f6b8c712",
            "a263daf83109428eb8cf4ef8d967543e",
            "3bfd90f4f30444448900294f8700372a",
            "28dfb6ec264c4d7ea8f1812efff3e136",
            "c9e49802b70b49d3a18b04666e4b2b33",
            "4050ebf7acac46e89689fa10e4d74fc0",
            "258c2d2d1c6c4c0abfc46c1db2caf061",
            "4d3b47b81aa4438cbd168562b0f34adc",
            "51a8769edbbc4417b776f08a795587b9"
          ]
        },
        "id": "c3aa7524",
        "outputId": "1401fb7e-ebfe-4a16-ea58-379b15fca375"
      },
      "outputs": [
        {
          "output_type": "display_data",
          "data": {
            "text/plain": [
              "  0%|          | 0/100 [00:00<?, ?it/s]"
            ],
            "application/vnd.jupyter.widget-view+json": {
              "version_major": 2,
              "version_minor": 0,
              "model_id": "929f833010db441b8bbed2c5f73e71b2"
            }
          },
          "metadata": {}
        },
        {
          "output_type": "stream",
          "name": "stdout",
          "text": [
            "Stopping early, the loss has diverged\n",
            "Learning rate search finished. See the graph with {finder_name}.plot()\n",
            "LR suggestion: steepest gradient\n",
            "Suggested LR: 4.33E-03\n"
          ]
        },
        {
          "output_type": "display_data",
          "data": {
            "text/plain": [
              "<Figure size 640x480 with 1 Axes>"
            ],
            "image/png": "[encoded data removed]"
          },
          "metadata": {}
        }
      ],
      "source": [
        "from torch_lr_finder import LRFinder\n",
        "\n",
        "model = ResNet(layers=[2,2,3,2], num_classes=100, use_depthwise=(False, False, True, True)).to(device)\n",
        "\n",
        "criterion = nn.CrossEntropyLoss()\n",
        "optimizer = torch.optim.Adam(model.parameters(), lr=1e-7, weight_decay=1e-2)\n",
        "lr_finder = LRFinder(model, optimizer, criterion, device=device)\n",
        "lr_finder.range_test(train_loader, end_lr=100, num_iter=100)\n",
        "lr_finder.plot() # to inspect the loss-learning rate graph\n",
        "lr_finder.reset() # to reset the model and optimizer to their initial state\n",
        "#4e-3"
      ]
    },
    {
      "cell_type": "code",
      "source": [
        "# Learning rate chosen\n",
        "lr_from_lr_finder = 4E-3\n",
        "logger.info(f\"Learning rate for one cycle LR = {lr_from_lr_finder}\")"
      ],
      "metadata": {
        "colab": {
          "base_uri": "https://localhost:8080/"
        },
        "id": "HOtCox20kzaB",
        "outputId": "0da63b32-d358-4c13-c024-3c3bafe14a7f"
      },
      "id": "HOtCox20kzaB",
      "execution_count": 9,
      "outputs": [
        {
          "output_type": "stream",
          "name": "stderr",
          "text": [
            "2025-10-08 12:29:43,707 - INFO - Learning rate for one cycle LR = 0.004\n"
          ]
        }
      ]
    },
    {
      "cell_type": "code",
      "execution_count": 10,
      "id": "e804ebd7",
      "metadata": {
        "id": "e804ebd7"
      },
      "outputs": [],
      "source": [
        "# ============================================================\n",
        "# 1️⃣ Checkpoint utilities\n",
        "# ============================================================\n",
        "\n",
        "def save_checkpoint(model, optimizer, scheduler, epoch, best_loss, path):\n",
        "    state = {\n",
        "        'epoch': epoch,\n",
        "        'model_state': model.state_dict(),\n",
        "        'optimizer_state': optimizer.state_dict(),\n",
        "        'scheduler_state': scheduler.state_dict(),\n",
        "        'best_loss': best_loss\n",
        "    }\n",
        "    torch.save(state, path)\n",
        "    logger.info(f\"✅ Checkpoint saved at epoch {epoch+1} to {path}\")\n",
        "\n",
        "\n",
        "def load_checkpoint(model, optimizer, scheduler, path, device):\n",
        "    checkpoint = torch.load(path, map_location=device)\n",
        "    model.load_state_dict(checkpoint['model_state'])\n",
        "    optimizer.load_state_dict(checkpoint['optimizer_state'])\n",
        "    scheduler.load_state_dict(checkpoint['scheduler_state'])\n",
        "    start_epoch = checkpoint['epoch'] + 1\n",
        "    best_loss = checkpoint['best_loss']\n",
        "    logger.info(f\"✅ Resumed from checkpoint: epoch {start_epoch}, best loss {best_loss:.4f}\")\n",
        "    return start_epoch, best_loss"
      ]
    },
    {
      "cell_type": "code",
      "execution_count": 11,
      "id": "4fd104e3",
      "metadata": {
        "id": "4fd104e3"
      },
      "outputs": [],
      "source": [
        "# ============================================================\n",
        "# 2️⃣ Training Loop (OneCycleLR integrated)\n",
        "# ============================================================\n",
        "criterion = nn.CrossEntropyLoss()\n",
        "train_loss_data = []\n",
        "train_accuracy = []\n",
        "test_loss_data = []\n",
        "test_accuracy = []\n",
        "learning_rate_over_steps = []\n",
        "\n",
        "best_loss = float('inf')   # initialize with infinity\n",
        "\n",
        "def train(model, device, train_loader, optimizer, scheduler, epoch):\n",
        "    model.train()\n",
        "    pbar = tqdm(train_loader)\n",
        "\n",
        "    correct = 0\n",
        "    total = 0\n",
        "    running_loss = 0.0\n",
        "\n",
        "    for batch_idx, (data, target) in enumerate(pbar):\n",
        "        data, target = data.to(device), target.to(device)\n",
        "        optimizer.zero_grad()\n",
        "        output = model(data)\n",
        "        loss = criterion(output, target)\n",
        "        loss.backward()\n",
        "        optimizer.step()\n",
        "        scheduler.step()  # OneCycleLR updates per batch\n",
        "\n",
        "        learning_rate_over_steps.append(optimizer.param_groups[0]['lr'])\n",
        "\n",
        "        running_loss += loss.item()\n",
        "        pred = output.argmax(dim=1, keepdim=True)\n",
        "        correct += pred.eq(target.view_as(pred)).sum().item()\n",
        "        total += target.size(0)\n",
        "\n",
        "        pbar.set_description(desc=f'loss={loss.item():.4f} batch_id={batch_idx}')\n",
        "\n",
        "    # Epoch-level stats\n",
        "    avg_loss = running_loss / len(train_loader)\n",
        "    acc = 100. * correct / total\n",
        "\n",
        "    train_loss_data.append(avg_loss)\n",
        "    train_accuracy.append(acc)\n",
        "\n",
        "    print(f'\\nTrain set (epoch {epoch}): Average loss: {avg_loss:.4f}, Accuracy: {correct}/{total} ({acc:.2f}%)\\n')\n",
        "\n",
        "# ============================================================\n",
        "# 3️⃣ Testing Loop\n",
        "# ============================================================\n",
        "\n",
        "def test(model, device, test_loader, epoch):\n",
        "    global best_loss  # to update across epochs\n",
        "    model.eval()\n",
        "    test_loss = 0\n",
        "    correct = 0\n",
        "    with torch.no_grad():\n",
        "        for data, target in test_loader:\n",
        "            data, target = data.to(device), target.to(device)\n",
        "            output = model(data)\n",
        "            test_loss += F.cross_entropy(output, target, reduction='sum').item()  # sum up batch loss\n",
        "            pred = output.argmax(dim=1, keepdim=True)\n",
        "            correct += pred.eq(target.view_as(pred)).sum().item()\n",
        "\n",
        "    test_loss /= len(test_loader.dataset)\n",
        "    test_loss_data.append(test_loss)\n",
        "    acc = 100. * correct / len(test_loader.dataset)\n",
        "    test_accuracy.append(acc)\n",
        "\n",
        "    print(f'Test set (epoch {epoch}): Average loss: {test_loss:.4f}, Accuracy: {correct}/{len(test_loader.dataset)} ({acc:.2f}%)\\n')\n",
        "\n",
        "    # ✅ Save best model by lowest test loss\n",
        "    if test_loss < best_loss:\n",
        "        best_loss = test_loss\n",
        "        save_dir = \"/content/drive/MyDrive/CIFAR100\" if 'google.colab' in sys.modules else \".\"\n",
        "        os.makedirs(save_dir, exist_ok=True)\n",
        "        torch.save(model.state_dict(), os.path.join(save_dir, \"best_model.pt\"))\n",
        "        print(f\"✅ Saved new best model at epoch {epoch} with loss {best_loss:.4f}\")\n",
        "\n",
        "    return test_loss\n"
      ]
    },
    {
      "cell_type": "code",
      "execution_count": 12,
      "id": "a7bf9947",
      "metadata": {
        "colab": {
          "base_uri": "https://localhost:8080/"
        },
        "id": "a7bf9947",
        "outputId": "200d651c-47fb-4493-a716-23f8f4e64c83"
      },
      "outputs": [
        {
          "output_type": "stream",
          "name": "stderr",
          "text": [
            "loss=4.1090 batch_id=48: 100%|██████████| 49/49 [00:57<00:00,  1.17s/it]\n"
          ]
        },
        {
          "output_type": "stream",
          "name": "stdout",
          "text": [
            "\n",
            "Train set (epoch 0): Average loss: 4.3801, Accuracy: 2362/50000 (4.72%)\n",
            "\n"
          ]
        },
        {
          "output_type": "stream",
          "name": "stderr",
          "text": [
            "2025-10-08 12:31:11,455 - INFO - ✅ Checkpoint saved at epoch 1 to /content/drive/MyDrive/CIFAR100/checkpoint.pt\n"
          ]
        },
        {
          "output_type": "stream",
          "name": "stdout",
          "text": [
            "Test set (epoch 0): Average loss: 4.3700, Accuracy: 535/10000 (5.35%)\n",
            "\n",
            "✅ Saved new best model at epoch 0 with loss 4.3700\n"
          ]
        },
        {
          "output_type": "stream",
          "name": "stderr",
          "text": [
            "loss=3.6239 batch_id=48: 100%|██████████| 49/49 [00:55<00:00,  1.13s/it]\n"
          ]
        },
        {
          "output_type": "stream",
          "name": "stdout",
          "text": [
            "\n",
            "Train set (epoch 1): Average loss: 3.8590, Accuracy: 5758/50000 (11.52%)\n",
            "\n"
          ]
        },
        {
          "output_type": "stream",
          "name": "stderr",
          "text": [
            "2025-10-08 12:32:10,553 - INFO - ✅ Checkpoint saved at epoch 2 to /content/drive/MyDrive/CIFAR100/checkpoint.pt\n"
          ]
        },
        {
          "output_type": "stream",
          "name": "stdout",
          "text": [
            "Test set (epoch 1): Average loss: 3.6562, Accuracy: 1376/10000 (13.76%)\n",
            "\n",
            "✅ Saved new best model at epoch 1 with loss 3.6562\n"
          ]
        },
        {
          "output_type": "stream",
          "name": "stderr",
          "text": [
            "loss=3.2636 batch_id=48: 100%|██████████| 49/49 [00:55<00:00,  1.14s/it]\n"
          ]
        },
        {
          "output_type": "stream",
          "name": "stdout",
          "text": [
            "\n",
            "Train set (epoch 2): Average loss: 3.4401, Accuracy: 8843/50000 (17.69%)\n",
            "\n"
          ]
        },
        {
          "output_type": "stream",
          "name": "stderr",
          "text": [
            "2025-10-08 12:33:09,617 - INFO - ✅ Checkpoint saved at epoch 3 to /content/drive/MyDrive/CIFAR100/checkpoint.pt\n"
          ]
        },
        {
          "output_type": "stream",
          "name": "stdout",
          "text": [
            "Test set (epoch 2): Average loss: 3.3870, Accuracy: 1819/10000 (18.19%)\n",
            "\n",
            "✅ Saved new best model at epoch 2 with loss 3.3870\n"
          ]
        },
        {
          "output_type": "stream",
          "name": "stderr",
          "text": [
            "loss=3.0501 batch_id=48: 100%|██████████| 49/49 [00:56<00:00,  1.16s/it]\n"
          ]
        },
        {
          "output_type": "stream",
          "name": "stdout",
          "text": [
            "\n",
            "Train set (epoch 3): Average loss: 3.0988, Accuracy: 11713/50000 (23.43%)\n",
            "\n"
          ]
        },
        {
          "output_type": "stream",
          "name": "stderr",
          "text": [
            "2025-10-08 12:34:09,942 - INFO - ✅ Checkpoint saved at epoch 4 to /content/drive/MyDrive/CIFAR100/checkpoint.pt\n"
          ]
        },
        {
          "output_type": "stream",
          "name": "stdout",
          "text": [
            "Test set (epoch 3): Average loss: 3.2361, Accuracy: 2144/10000 (21.44%)\n",
            "\n",
            "✅ Saved new best model at epoch 3 with loss 3.2361\n"
          ]
        },
        {
          "output_type": "stream",
          "name": "stderr",
          "text": [
            "loss=2.6352 batch_id=48: 100%|██████████| 49/49 [00:57<00:00,  1.17s/it]\n"
          ]
        },
        {
          "output_type": "stream",
          "name": "stdout",
          "text": [
            "\n",
            "Train set (epoch 4): Average loss: 2.7922, Accuracy: 14633/50000 (29.27%)\n",
            "\n"
          ]
        },
        {
          "output_type": "stream",
          "name": "stderr",
          "text": [
            "2025-10-08 12:35:10,891 - INFO - ✅ Checkpoint saved at epoch 5 to /content/drive/MyDrive/CIFAR100/checkpoint.pt\n"
          ]
        },
        {
          "output_type": "stream",
          "name": "stdout",
          "text": [
            "Test set (epoch 4): Average loss: 3.0394, Accuracy: 2682/10000 (26.82%)\n",
            "\n",
            "✅ Saved new best model at epoch 4 with loss 3.0394\n"
          ]
        },
        {
          "output_type": "stream",
          "name": "stderr",
          "text": [
            "loss=2.5564 batch_id=48: 100%|██████████| 49/49 [00:57<00:00,  1.18s/it]\n"
          ]
        },
        {
          "output_type": "stream",
          "name": "stdout",
          "text": [
            "\n",
            "Train set (epoch 5): Average loss: 2.4976, Accuracy: 17442/50000 (34.88%)\n",
            "\n"
          ]
        },
        {
          "output_type": "stream",
          "name": "stderr",
          "text": [
            "2025-10-08 12:36:12,389 - INFO - ✅ Checkpoint saved at epoch 6 to /content/drive/MyDrive/CIFAR100/checkpoint.pt\n"
          ]
        },
        {
          "output_type": "stream",
          "name": "stdout",
          "text": [
            "Test set (epoch 5): Average loss: 2.8406, Accuracy: 3095/10000 (30.95%)\n",
            "\n",
            "✅ Saved new best model at epoch 5 with loss 2.8406\n"
          ]
        },
        {
          "output_type": "stream",
          "name": "stderr",
          "text": [
            "loss=2.1698 batch_id=48: 100%|██████████| 49/49 [00:57<00:00,  1.18s/it]\n"
          ]
        },
        {
          "output_type": "stream",
          "name": "stdout",
          "text": [
            "\n",
            "Train set (epoch 6): Average loss: 2.2740, Accuracy: 19865/50000 (39.73%)\n",
            "\n"
          ]
        },
        {
          "output_type": "stream",
          "name": "stderr",
          "text": [
            "2025-10-08 12:37:14,005 - INFO - ✅ Checkpoint saved at epoch 7 to /content/drive/MyDrive/CIFAR100/checkpoint.pt\n"
          ]
        },
        {
          "output_type": "stream",
          "name": "stdout",
          "text": [
            "Test set (epoch 6): Average loss: 2.5000, Accuracy: 3599/10000 (35.99%)\n",
            "\n",
            "✅ Saved new best model at epoch 6 with loss 2.5000\n"
          ]
        },
        {
          "output_type": "stream",
          "name": "stderr",
          "text": [
            "loss=2.1183 batch_id=48: 100%|██████████| 49/49 [00:58<00:00,  1.20s/it]\n"
          ]
        },
        {
          "output_type": "stream",
          "name": "stdout",
          "text": [
            "\n",
            "Train set (epoch 7): Average loss: 2.0647, Accuracy: 22065/50000 (44.13%)\n",
            "\n"
          ]
        },
        {
          "output_type": "stream",
          "name": "stderr",
          "text": [
            "2025-10-08 12:38:16,709 - INFO - ✅ Checkpoint saved at epoch 8 to /content/drive/MyDrive/CIFAR100/checkpoint.pt\n"
          ]
        },
        {
          "output_type": "stream",
          "name": "stdout",
          "text": [
            "Test set (epoch 7): Average loss: 2.5676, Accuracy: 3731/10000 (37.31%)\n",
            "\n"
          ]
        },
        {
          "output_type": "stream",
          "name": "stderr",
          "text": [
            "loss=1.8726 batch_id=48: 100%|██████████| 49/49 [00:57<00:00,  1.17s/it]\n"
          ]
        },
        {
          "output_type": "stream",
          "name": "stdout",
          "text": [
            "\n",
            "Train set (epoch 8): Average loss: 1.8962, Accuracy: 23987/50000 (47.97%)\n",
            "\n"
          ]
        },
        {
          "output_type": "stream",
          "name": "stderr",
          "text": [
            "2025-10-08 12:39:17,544 - INFO - ✅ Checkpoint saved at epoch 9 to /content/drive/MyDrive/CIFAR100/checkpoint.pt\n"
          ]
        },
        {
          "output_type": "stream",
          "name": "stdout",
          "text": [
            "Test set (epoch 8): Average loss: 2.3153, Accuracy: 4158/10000 (41.58%)\n",
            "\n",
            "✅ Saved new best model at epoch 8 with loss 2.3153\n"
          ]
        },
        {
          "output_type": "stream",
          "name": "stderr",
          "text": [
            "loss=1.7129 batch_id=48: 100%|██████████| 49/49 [01:00<00:00,  1.24s/it]\n"
          ]
        },
        {
          "output_type": "stream",
          "name": "stdout",
          "text": [
            "\n",
            "Train set (epoch 9): Average loss: 1.7644, Accuracy: 25453/50000 (50.91%)\n",
            "\n"
          ]
        },
        {
          "output_type": "stream",
          "name": "stderr",
          "text": [
            "2025-10-08 12:40:22,197 - INFO - ✅ Checkpoint saved at epoch 10 to /content/drive/MyDrive/CIFAR100/checkpoint.pt\n"
          ]
        },
        {
          "output_type": "stream",
          "name": "stdout",
          "text": [
            "Test set (epoch 9): Average loss: 2.6260, Accuracy: 3830/10000 (38.30%)\n",
            "\n"
          ]
        },
        {
          "output_type": "stream",
          "name": "stderr",
          "text": [
            "loss=1.6954 batch_id=48: 100%|██████████| 49/49 [00:57<00:00,  1.16s/it]\n"
          ]
        },
        {
          "output_type": "stream",
          "name": "stdout",
          "text": [
            "\n",
            "Train set (epoch 10): Average loss: 1.6254, Accuracy: 27255/50000 (54.51%)\n",
            "\n"
          ]
        },
        {
          "output_type": "stream",
          "name": "stderr",
          "text": [
            "2025-10-08 12:41:22,716 - INFO - ✅ Checkpoint saved at epoch 11 to /content/drive/MyDrive/CIFAR100/checkpoint.pt\n"
          ]
        },
        {
          "output_type": "stream",
          "name": "stdout",
          "text": [
            "Test set (epoch 10): Average loss: 2.2115, Accuracy: 4382/10000 (43.82%)\n",
            "\n",
            "✅ Saved new best model at epoch 10 with loss 2.2115\n"
          ]
        },
        {
          "output_type": "stream",
          "name": "stderr",
          "text": [
            "loss=1.6029 batch_id=48: 100%|██████████| 49/49 [00:57<00:00,  1.18s/it]\n"
          ]
        },
        {
          "output_type": "stream",
          "name": "stdout",
          "text": [
            "\n",
            "Train set (epoch 11): Average loss: 1.5177, Accuracy: 28540/50000 (57.08%)\n",
            "\n"
          ]
        },
        {
          "output_type": "stream",
          "name": "stderr",
          "text": [
            "2025-10-08 12:42:24,058 - INFO - ✅ Checkpoint saved at epoch 12 to /content/drive/MyDrive/CIFAR100/checkpoint.pt\n"
          ]
        },
        {
          "output_type": "stream",
          "name": "stdout",
          "text": [
            "Test set (epoch 11): Average loss: 1.9137, Accuracy: 4890/10000 (48.90%)\n",
            "\n",
            "✅ Saved new best model at epoch 11 with loss 1.9137\n"
          ]
        },
        {
          "output_type": "stream",
          "name": "stderr",
          "text": [
            "loss=1.4998 batch_id=48: 100%|██████████| 49/49 [00:59<00:00,  1.21s/it]\n"
          ]
        },
        {
          "output_type": "stream",
          "name": "stdout",
          "text": [
            "\n",
            "Train set (epoch 12): Average loss: 1.4262, Accuracy: 29583/50000 (59.17%)\n",
            "\n"
          ]
        },
        {
          "output_type": "stream",
          "name": "stderr",
          "text": [
            "2025-10-08 12:43:27,129 - INFO - ✅ Checkpoint saved at epoch 13 to /content/drive/MyDrive/CIFAR100/checkpoint.pt\n"
          ]
        },
        {
          "output_type": "stream",
          "name": "stdout",
          "text": [
            "Test set (epoch 12): Average loss: 1.9439, Accuracy: 4963/10000 (49.63%)\n",
            "\n"
          ]
        },
        {
          "output_type": "stream",
          "name": "stderr",
          "text": [
            "loss=1.3365 batch_id=48: 100%|██████████| 49/49 [00:59<00:00,  1.21s/it]\n"
          ]
        },
        {
          "output_type": "stream",
          "name": "stdout",
          "text": [
            "\n",
            "Train set (epoch 13): Average loss: 1.3002, Accuracy: 31172/50000 (62.34%)\n",
            "\n"
          ]
        },
        {
          "output_type": "stream",
          "name": "stderr",
          "text": [
            "2025-10-08 12:44:30,442 - INFO - ✅ Checkpoint saved at epoch 14 to /content/drive/MyDrive/CIFAR100/checkpoint.pt\n"
          ]
        },
        {
          "output_type": "stream",
          "name": "stdout",
          "text": [
            "Test set (epoch 13): Average loss: 1.8327, Accuracy: 5146/10000 (51.46%)\n",
            "\n",
            "✅ Saved new best model at epoch 13 with loss 1.8327\n"
          ]
        },
        {
          "output_type": "stream",
          "name": "stderr",
          "text": [
            "loss=1.2593 batch_id=48: 100%|██████████| 49/49 [00:58<00:00,  1.19s/it]\n"
          ]
        },
        {
          "output_type": "stream",
          "name": "stdout",
          "text": [
            "\n",
            "Train set (epoch 14): Average loss: 1.2353, Accuracy: 32054/50000 (64.11%)\n",
            "\n"
          ]
        },
        {
          "output_type": "stream",
          "name": "stderr",
          "text": [
            "2025-10-08 12:45:32,795 - INFO - ✅ Checkpoint saved at epoch 15 to /content/drive/MyDrive/CIFAR100/checkpoint.pt\n"
          ]
        },
        {
          "output_type": "stream",
          "name": "stdout",
          "text": [
            "Test set (epoch 14): Average loss: 1.8284, Accuracy: 5247/10000 (52.47%)\n",
            "\n",
            "✅ Saved new best model at epoch 14 with loss 1.8284\n"
          ]
        },
        {
          "output_type": "stream",
          "name": "stderr",
          "text": [
            "loss=1.2087 batch_id=48: 100%|██████████| 49/49 [00:57<00:00,  1.18s/it]\n"
          ]
        },
        {
          "output_type": "stream",
          "name": "stdout",
          "text": [
            "\n",
            "Train set (epoch 15): Average loss: 1.1378, Accuracy: 33227/50000 (66.45%)\n",
            "\n"
          ]
        },
        {
          "output_type": "stream",
          "name": "stderr",
          "text": [
            "2025-10-08 12:46:34,252 - INFO - ✅ Checkpoint saved at epoch 16 to /content/drive/MyDrive/CIFAR100/checkpoint.pt\n"
          ]
        },
        {
          "output_type": "stream",
          "name": "stdout",
          "text": [
            "Test set (epoch 15): Average loss: 1.8087, Accuracy: 5330/10000 (53.30%)\n",
            "\n",
            "✅ Saved new best model at epoch 15 with loss 1.8087\n"
          ]
        },
        {
          "output_type": "stream",
          "name": "stderr",
          "text": [
            "loss=1.1715 batch_id=48: 100%|██████████| 49/49 [00:57<00:00,  1.18s/it]\n"
          ]
        },
        {
          "output_type": "stream",
          "name": "stdout",
          "text": [
            "\n",
            "Train set (epoch 16): Average loss: 1.0705, Accuracy: 34184/50000 (68.37%)\n",
            "\n"
          ]
        },
        {
          "output_type": "stream",
          "name": "stderr",
          "text": [
            "2025-10-08 12:47:35,439 - INFO - ✅ Checkpoint saved at epoch 17 to /content/drive/MyDrive/CIFAR100/checkpoint.pt\n"
          ]
        },
        {
          "output_type": "stream",
          "name": "stdout",
          "text": [
            "Test set (epoch 16): Average loss: 1.6962, Accuracy: 5520/10000 (55.20%)\n",
            "\n",
            "✅ Saved new best model at epoch 16 with loss 1.6962\n"
          ]
        },
        {
          "output_type": "stream",
          "name": "stderr",
          "text": [
            "loss=1.0095 batch_id=48: 100%|██████████| 49/49 [00:56<00:00,  1.16s/it]\n"
          ]
        },
        {
          "output_type": "stream",
          "name": "stdout",
          "text": [
            "\n",
            "Train set (epoch 17): Average loss: 1.0012, Accuracy: 35000/50000 (70.00%)\n",
            "\n",
            "Test set (epoch 17): Average loss: 1.5799, Accuracy: 5713/10000 (57.13%)\n",
            "\n",
            "✅ Saved new best model at epoch 17 with loss 1.5799\n"
          ]
        },
        {
          "output_type": "stream",
          "name": "stderr",
          "text": [
            "2025-10-08 12:48:36,449 - INFO - ✅ Checkpoint saved at epoch 18 to /content/drive/MyDrive/CIFAR100/checkpoint.pt\n",
            "loss=1.0261 batch_id=48: 100%|██████████| 49/49 [00:58<00:00,  1.19s/it]\n"
          ]
        },
        {
          "output_type": "stream",
          "name": "stdout",
          "text": [
            "\n",
            "Train set (epoch 18): Average loss: 0.9214, Accuracy: 36146/50000 (72.29%)\n",
            "\n"
          ]
        },
        {
          "output_type": "stream",
          "name": "stderr",
          "text": [
            "2025-10-08 12:49:38,165 - INFO - ✅ Checkpoint saved at epoch 19 to /content/drive/MyDrive/CIFAR100/checkpoint.pt\n"
          ]
        },
        {
          "output_type": "stream",
          "name": "stdout",
          "text": [
            "Test set (epoch 18): Average loss: 1.6661, Accuracy: 5630/10000 (56.30%)\n",
            "\n"
          ]
        },
        {
          "output_type": "stream",
          "name": "stderr",
          "text": [
            "loss=0.9543 batch_id=48: 100%|██████████| 49/49 [00:56<00:00,  1.15s/it]\n"
          ]
        },
        {
          "output_type": "stream",
          "name": "stdout",
          "text": [
            "\n",
            "Train set (epoch 19): Average loss: 0.8553, Accuracy: 36980/50000 (73.96%)\n",
            "\n"
          ]
        },
        {
          "output_type": "stream",
          "name": "stderr",
          "text": [
            "2025-10-08 12:50:38,647 - INFO - ✅ Checkpoint saved at epoch 20 to /content/drive/MyDrive/CIFAR100/checkpoint.pt\n"
          ]
        },
        {
          "output_type": "stream",
          "name": "stdout",
          "text": [
            "Test set (epoch 19): Average loss: 1.6521, Accuracy: 5735/10000 (57.35%)\n",
            "\n"
          ]
        },
        {
          "output_type": "stream",
          "name": "stderr",
          "text": [
            "loss=0.8251 batch_id=48: 100%|██████████| 49/49 [00:56<00:00,  1.16s/it]\n"
          ]
        },
        {
          "output_type": "stream",
          "name": "stdout",
          "text": [
            "\n",
            "Train set (epoch 20): Average loss: 0.8033, Accuracy: 37754/50000 (75.51%)\n",
            "\n"
          ]
        },
        {
          "output_type": "stream",
          "name": "stderr",
          "text": [
            "2025-10-08 12:51:39,049 - INFO - ✅ Checkpoint saved at epoch 21 to /content/drive/MyDrive/CIFAR100/checkpoint.pt\n"
          ]
        },
        {
          "output_type": "stream",
          "name": "stdout",
          "text": [
            "Test set (epoch 20): Average loss: 1.4952, Accuracy: 6042/10000 (60.42%)\n",
            "\n",
            "✅ Saved new best model at epoch 20 with loss 1.4952\n"
          ]
        },
        {
          "output_type": "stream",
          "name": "stderr",
          "text": [
            "loss=0.7549 batch_id=48: 100%|██████████| 49/49 [00:57<00:00,  1.16s/it]\n"
          ]
        },
        {
          "output_type": "stream",
          "name": "stdout",
          "text": [
            "\n",
            "Train set (epoch 21): Average loss: 0.7251, Accuracy: 38980/50000 (77.96%)\n",
            "\n"
          ]
        },
        {
          "output_type": "stream",
          "name": "stderr",
          "text": [
            "2025-10-08 12:52:39,994 - INFO - ✅ Checkpoint saved at epoch 22 to /content/drive/MyDrive/CIFAR100/checkpoint.pt\n"
          ]
        },
        {
          "output_type": "stream",
          "name": "stdout",
          "text": [
            "Test set (epoch 21): Average loss: 1.5885, Accuracy: 5966/10000 (59.66%)\n",
            "\n"
          ]
        },
        {
          "output_type": "stream",
          "name": "stderr",
          "text": [
            "loss=0.6975 batch_id=48: 100%|██████████| 49/49 [00:56<00:00,  1.16s/it]\n"
          ]
        },
        {
          "output_type": "stream",
          "name": "stdout",
          "text": [
            "\n",
            "Train set (epoch 22): Average loss: 0.6642, Accuracy: 39873/50000 (79.75%)\n",
            "\n"
          ]
        },
        {
          "output_type": "stream",
          "name": "stderr",
          "text": [
            "2025-10-08 12:53:40,018 - INFO - ✅ Checkpoint saved at epoch 23 to /content/drive/MyDrive/CIFAR100/checkpoint.pt\n"
          ]
        },
        {
          "output_type": "stream",
          "name": "stdout",
          "text": [
            "Test set (epoch 22): Average loss: 1.5080, Accuracy: 6215/10000 (62.15%)\n",
            "\n"
          ]
        },
        {
          "output_type": "stream",
          "name": "stderr",
          "text": [
            "loss=0.6646 batch_id=48: 100%|██████████| 49/49 [00:57<00:00,  1.18s/it]\n"
          ]
        },
        {
          "output_type": "stream",
          "name": "stdout",
          "text": [
            "\n",
            "Train set (epoch 23): Average loss: 0.6007, Accuracy: 40736/50000 (81.47%)\n",
            "\n"
          ]
        },
        {
          "output_type": "stream",
          "name": "stderr",
          "text": [
            "2025-10-08 12:54:41,323 - INFO - ✅ Checkpoint saved at epoch 24 to /content/drive/MyDrive/CIFAR100/checkpoint.pt\n"
          ]
        },
        {
          "output_type": "stream",
          "name": "stdout",
          "text": [
            "Test set (epoch 23): Average loss: 1.5952, Accuracy: 6084/10000 (60.84%)\n",
            "\n"
          ]
        },
        {
          "output_type": "stream",
          "name": "stderr",
          "text": [
            "loss=0.5466 batch_id=48: 100%|██████████| 49/49 [00:56<00:00,  1.15s/it]\n"
          ]
        },
        {
          "output_type": "stream",
          "name": "stdout",
          "text": [
            "\n",
            "Train set (epoch 24): Average loss: 0.5322, Accuracy: 41776/50000 (83.55%)\n",
            "\n"
          ]
        },
        {
          "output_type": "stream",
          "name": "stderr",
          "text": [
            "2025-10-08 12:55:40,965 - INFO - ✅ Checkpoint saved at epoch 25 to /content/drive/MyDrive/CIFAR100/checkpoint.pt\n"
          ]
        },
        {
          "output_type": "stream",
          "name": "stdout",
          "text": [
            "Test set (epoch 24): Average loss: 1.5160, Accuracy: 6286/10000 (62.86%)\n",
            "\n"
          ]
        },
        {
          "output_type": "stream",
          "name": "stderr",
          "text": [
            "loss=0.5098 batch_id=48: 100%|██████████| 49/49 [00:56<00:00,  1.16s/it]\n"
          ]
        },
        {
          "output_type": "stream",
          "name": "stdout",
          "text": [
            "\n",
            "Train set (epoch 25): Average loss: 0.4696, Accuracy: 42876/50000 (85.75%)\n",
            "\n"
          ]
        },
        {
          "output_type": "stream",
          "name": "stderr",
          "text": [
            "2025-10-08 12:56:41,428 - INFO - ✅ Checkpoint saved at epoch 26 to /content/drive/MyDrive/CIFAR100/checkpoint.pt\n"
          ]
        },
        {
          "output_type": "stream",
          "name": "stdout",
          "text": [
            "Test set (epoch 25): Average loss: 1.4702, Accuracy: 6323/10000 (63.23%)\n",
            "\n",
            "✅ Saved new best model at epoch 25 with loss 1.4702\n"
          ]
        },
        {
          "output_type": "stream",
          "name": "stderr",
          "text": [
            "loss=0.4383 batch_id=48: 100%|██████████| 49/49 [00:56<00:00,  1.16s/it]\n"
          ]
        },
        {
          "output_type": "stream",
          "name": "stdout",
          "text": [
            "\n",
            "Train set (epoch 26): Average loss: 0.4105, Accuracy: 43715/50000 (87.43%)\n",
            "\n"
          ]
        },
        {
          "output_type": "stream",
          "name": "stderr",
          "text": [
            "2025-10-08 12:57:42,040 - INFO - ✅ Checkpoint saved at epoch 27 to /content/drive/MyDrive/CIFAR100/checkpoint.pt\n"
          ]
        },
        {
          "output_type": "stream",
          "name": "stdout",
          "text": [
            "Test set (epoch 26): Average loss: 1.3567, Accuracy: 6567/10000 (65.67%)\n",
            "\n",
            "✅ Saved new best model at epoch 26 with loss 1.3567\n"
          ]
        },
        {
          "output_type": "stream",
          "name": "stderr",
          "text": [
            "loss=0.3400 batch_id=48: 100%|██████████| 49/49 [00:56<00:00,  1.16s/it]\n"
          ]
        },
        {
          "output_type": "stream",
          "name": "stdout",
          "text": [
            "\n",
            "Train set (epoch 27): Average loss: 0.3562, Accuracy: 44580/50000 (89.16%)\n",
            "\n"
          ]
        },
        {
          "output_type": "stream",
          "name": "stderr",
          "text": [
            "2025-10-08 12:58:42,305 - INFO - ✅ Checkpoint saved at epoch 28 to /content/drive/MyDrive/CIFAR100/checkpoint.pt\n"
          ]
        },
        {
          "output_type": "stream",
          "name": "stdout",
          "text": [
            "Test set (epoch 27): Average loss: 1.3478, Accuracy: 6629/10000 (66.29%)\n",
            "\n",
            "✅ Saved new best model at epoch 27 with loss 1.3478\n"
          ]
        },
        {
          "output_type": "stream",
          "name": "stderr",
          "text": [
            "loss=0.3175 batch_id=48: 100%|██████████| 49/49 [00:57<00:00,  1.17s/it]\n"
          ]
        },
        {
          "output_type": "stream",
          "name": "stdout",
          "text": [
            "\n",
            "Train set (epoch 28): Average loss: 0.3080, Accuracy: 45323/50000 (90.65%)\n",
            "\n"
          ]
        },
        {
          "output_type": "stream",
          "name": "stderr",
          "text": [
            "2025-10-08 12:59:43,668 - INFO - ✅ Checkpoint saved at epoch 29 to /content/drive/MyDrive/CIFAR100/checkpoint.pt\n"
          ]
        },
        {
          "output_type": "stream",
          "name": "stdout",
          "text": [
            "Test set (epoch 28): Average loss: 1.3342, Accuracy: 6718/10000 (67.18%)\n",
            "\n",
            "✅ Saved new best model at epoch 28 with loss 1.3342\n"
          ]
        },
        {
          "output_type": "stream",
          "name": "stderr",
          "text": [
            "loss=0.2648 batch_id=48: 100%|██████████| 49/49 [00:56<00:00,  1.15s/it]\n"
          ]
        },
        {
          "output_type": "stream",
          "name": "stdout",
          "text": [
            "\n",
            "Train set (epoch 29): Average loss: 0.2657, Accuracy: 46085/50000 (92.17%)\n",
            "\n"
          ]
        },
        {
          "output_type": "stream",
          "name": "stderr",
          "text": [
            "2025-10-08 13:00:43,565 - INFO - ✅ Checkpoint saved at epoch 30 to /content/drive/MyDrive/CIFAR100/checkpoint.pt\n"
          ]
        },
        {
          "output_type": "stream",
          "name": "stdout",
          "text": [
            "Test set (epoch 29): Average loss: 1.3431, Accuracy: 6672/10000 (66.72%)\n",
            "\n"
          ]
        },
        {
          "output_type": "stream",
          "name": "stderr",
          "text": [
            "loss=0.2367 batch_id=48: 100%|██████████| 49/49 [01:01<00:00,  1.25s/it]\n"
          ]
        },
        {
          "output_type": "stream",
          "name": "stdout",
          "text": [
            "\n",
            "Train set (epoch 30): Average loss: 0.2191, Accuracy: 46872/50000 (93.74%)\n",
            "\n"
          ]
        },
        {
          "output_type": "stream",
          "name": "stderr",
          "text": [
            "2025-10-08 13:01:48,005 - INFO - ✅ Checkpoint saved at epoch 31 to /content/drive/MyDrive/CIFAR100/checkpoint.pt\n"
          ]
        },
        {
          "output_type": "stream",
          "name": "stdout",
          "text": [
            "Test set (epoch 30): Average loss: 1.3397, Accuracy: 6776/10000 (67.76%)\n",
            "\n"
          ]
        },
        {
          "output_type": "stream",
          "name": "stderr",
          "text": [
            "loss=0.1799 batch_id=48: 100%|██████████| 49/49 [00:56<00:00,  1.15s/it]\n"
          ]
        },
        {
          "output_type": "stream",
          "name": "stdout",
          "text": [
            "\n",
            "Train set (epoch 31): Average loss: 0.1854, Accuracy: 47431/50000 (94.86%)\n",
            "\n"
          ]
        },
        {
          "output_type": "stream",
          "name": "stderr",
          "text": [
            "2025-10-08 13:02:48,643 - INFO - ✅ Checkpoint saved at epoch 32 to /content/drive/MyDrive/CIFAR100/checkpoint.pt\n"
          ]
        },
        {
          "output_type": "stream",
          "name": "stdout",
          "text": [
            "Test set (epoch 31): Average loss: 1.2689, Accuracy: 6924/10000 (69.24%)\n",
            "\n",
            "✅ Saved new best model at epoch 31 with loss 1.2689\n"
          ]
        },
        {
          "output_type": "stream",
          "name": "stderr",
          "text": [
            "loss=0.1661 batch_id=48: 100%|██████████| 49/49 [00:58<00:00,  1.19s/it]\n"
          ]
        },
        {
          "output_type": "stream",
          "name": "stdout",
          "text": [
            "\n",
            "Train set (epoch 32): Average loss: 0.1574, Accuracy: 47830/50000 (95.66%)\n",
            "\n"
          ]
        },
        {
          "output_type": "stream",
          "name": "stderr",
          "text": [
            "2025-10-08 13:03:50,175 - INFO - ✅ Checkpoint saved at epoch 33 to /content/drive/MyDrive/CIFAR100/checkpoint.pt\n"
          ]
        },
        {
          "output_type": "stream",
          "name": "stdout",
          "text": [
            "Test set (epoch 32): Average loss: 1.2847, Accuracy: 6891/10000 (68.91%)\n",
            "\n"
          ]
        },
        {
          "output_type": "stream",
          "name": "stderr",
          "text": [
            "loss=0.1848 batch_id=48: 100%|██████████| 49/49 [00:57<00:00,  1.17s/it]\n"
          ]
        },
        {
          "output_type": "stream",
          "name": "stdout",
          "text": [
            "\n",
            "Train set (epoch 33): Average loss: 0.1370, Accuracy: 48170/50000 (96.34%)\n",
            "\n"
          ]
        },
        {
          "output_type": "stream",
          "name": "stderr",
          "text": [
            "2025-10-08 13:04:50,733 - INFO - ✅ Checkpoint saved at epoch 34 to /content/drive/MyDrive/CIFAR100/checkpoint.pt\n"
          ]
        },
        {
          "output_type": "stream",
          "name": "stdout",
          "text": [
            "Test set (epoch 33): Average loss: 1.2829, Accuracy: 6926/10000 (69.26%)\n",
            "\n"
          ]
        },
        {
          "output_type": "stream",
          "name": "stderr",
          "text": [
            "loss=0.1090 batch_id=48: 100%|██████████| 49/49 [00:56<00:00,  1.16s/it]\n"
          ]
        },
        {
          "output_type": "stream",
          "name": "stdout",
          "text": [
            "\n",
            "Train set (epoch 34): Average loss: 0.1197, Accuracy: 48465/50000 (96.93%)\n",
            "\n"
          ]
        },
        {
          "output_type": "stream",
          "name": "stderr",
          "text": [
            "2025-10-08 13:05:51,502 - INFO - ✅ Checkpoint saved at epoch 35 to /content/drive/MyDrive/CIFAR100/checkpoint.pt\n"
          ]
        },
        {
          "output_type": "stream",
          "name": "stdout",
          "text": [
            "Test set (epoch 34): Average loss: 1.2738, Accuracy: 6960/10000 (69.60%)\n",
            "\n"
          ]
        },
        {
          "output_type": "stream",
          "name": "stderr",
          "text": [
            "loss=0.1182 batch_id=48: 100%|██████████| 49/49 [00:56<00:00,  1.16s/it]\n"
          ]
        },
        {
          "output_type": "stream",
          "name": "stdout",
          "text": [
            "\n",
            "Train set (epoch 35): Average loss: 0.1084, Accuracy: 48618/50000 (97.24%)\n",
            "\n"
          ]
        },
        {
          "output_type": "stream",
          "name": "stderr",
          "text": [
            "2025-10-08 13:06:51,623 - INFO - ✅ Checkpoint saved at epoch 36 to /content/drive/MyDrive/CIFAR100/checkpoint.pt\n"
          ]
        },
        {
          "output_type": "stream",
          "name": "stdout",
          "text": [
            "Test set (epoch 35): Average loss: 1.2649, Accuracy: 6953/10000 (69.53%)\n",
            "\n",
            "✅ Saved new best model at epoch 35 with loss 1.2649\n"
          ]
        },
        {
          "output_type": "stream",
          "name": "stderr",
          "text": [
            "loss=0.1007 batch_id=48: 100%|██████████| 49/49 [00:56<00:00,  1.16s/it]\n"
          ]
        },
        {
          "output_type": "stream",
          "name": "stdout",
          "text": [
            "\n",
            "Train set (epoch 36): Average loss: 0.0999, Accuracy: 48777/50000 (97.55%)\n",
            "\n"
          ]
        },
        {
          "output_type": "stream",
          "name": "stderr",
          "text": [
            "2025-10-08 13:07:52,311 - INFO - ✅ Checkpoint saved at epoch 37 to /content/drive/MyDrive/CIFAR100/checkpoint.pt\n"
          ]
        },
        {
          "output_type": "stream",
          "name": "stdout",
          "text": [
            "Test set (epoch 36): Average loss: 1.2662, Accuracy: 6979/10000 (69.79%)\n",
            "\n"
          ]
        },
        {
          "output_type": "stream",
          "name": "stderr",
          "text": [
            "loss=0.0826 batch_id=48: 100%|██████████| 49/49 [00:56<00:00,  1.16s/it]\n"
          ]
        },
        {
          "output_type": "stream",
          "name": "stdout",
          "text": [
            "\n",
            "Train set (epoch 37): Average loss: 0.0968, Accuracy: 48797/50000 (97.59%)\n",
            "\n"
          ]
        },
        {
          "output_type": "stream",
          "name": "stderr",
          "text": [
            "2025-10-08 13:08:52,771 - INFO - ✅ Checkpoint saved at epoch 38 to /content/drive/MyDrive/CIFAR100/checkpoint.pt\n"
          ]
        },
        {
          "output_type": "stream",
          "name": "stdout",
          "text": [
            "Test set (epoch 37): Average loss: 1.2644, Accuracy: 6988/10000 (69.88%)\n",
            "\n",
            "✅ Saved new best model at epoch 37 with loss 1.2644\n"
          ]
        },
        {
          "output_type": "stream",
          "name": "stderr",
          "text": [
            "loss=0.0986 batch_id=48: 100%|██████████| 49/49 [00:57<00:00,  1.17s/it]\n"
          ]
        },
        {
          "output_type": "stream",
          "name": "stdout",
          "text": [
            "\n",
            "Train set (epoch 38): Average loss: 0.0941, Accuracy: 48844/50000 (97.69%)\n",
            "\n"
          ]
        },
        {
          "output_type": "stream",
          "name": "stderr",
          "text": [
            "2025-10-08 13:09:53,530 - INFO - ✅ Checkpoint saved at epoch 39 to /content/drive/MyDrive/CIFAR100/checkpoint.pt\n"
          ]
        },
        {
          "output_type": "stream",
          "name": "stdout",
          "text": [
            "Test set (epoch 38): Average loss: 1.2623, Accuracy: 6984/10000 (69.84%)\n",
            "\n",
            "✅ Saved new best model at epoch 38 with loss 1.2623\n"
          ]
        },
        {
          "output_type": "stream",
          "name": "stderr",
          "text": [
            "loss=0.0970 batch_id=48: 100%|██████████| 49/49 [00:57<00:00,  1.17s/it]\n"
          ]
        },
        {
          "output_type": "stream",
          "name": "stdout",
          "text": [
            "\n",
            "Train set (epoch 39): Average loss: 0.0907, Accuracy: 48887/50000 (97.77%)\n",
            "\n"
          ]
        },
        {
          "output_type": "stream",
          "name": "stderr",
          "text": [
            "2025-10-08 13:10:54,488 - INFO - ✅ Checkpoint saved at epoch 40 to /content/drive/MyDrive/CIFAR100/checkpoint.pt\n"
          ]
        },
        {
          "output_type": "stream",
          "name": "stdout",
          "text": [
            "Test set (epoch 39): Average loss: 1.2629, Accuracy: 6987/10000 (69.87%)\n",
            "\n"
          ]
        }
      ],
      "source": [
        "# ============================================================\n",
        "# 3️⃣ Model, optimizer, scheduler setup\n",
        "# ============================================================\n",
        "\n",
        "# Example: customize your ResNet to use partial depthwise convs\n",
        "model = ResNet(layers=[2, 2, 3, 2], num_classes=100,\n",
        "               use_depthwise=(False, False, True, True)).to(device)\n",
        "\n",
        "# Initialize optimizer\n",
        "optimizer = torch.optim.Adam(model.parameters(), lr=1e-3, weight_decay=1e-4)\n",
        "\n",
        "# You already ran LR Finder earlier and got:\n",
        "max_lr = lr_from_lr_finder   # Use from LR Finder output\n",
        "total_epochs = 40 # Full plan (even if train 20+20)\n",
        "scheduler = OneCycleLR(\n",
        "    optimizer,\n",
        "    max_lr=max_lr,\n",
        "    steps_per_epoch=len(train_loader),\n",
        "    epochs=total_epochs,\n",
        "    pct_start=0.3,\n",
        "    anneal_strategy=\"cos\",\n",
        "    div_factor=25.0,\n",
        "    final_div_factor=1e4,\n",
        ")\n",
        "\n",
        "# ============================================================\n",
        "# 4️⃣ Resume if checkpoint exists\n",
        "# ============================================================\n",
        "\n",
        "start_epoch = 0\n",
        "save_dir = \"/content/drive/MyDrive/CIFAR100\" if 'google.colab' in sys.modules else \".\"\n",
        "os.makedirs(save_dir, exist_ok=True)\n",
        "save_dir_file_name = os.path.join(save_dir, \"checkpoint.pt\")\n",
        "if os.path.exists(save_dir_file_name):\n",
        "    logger.info(\"Found checkpoint, loading checkpoint ...\")\n",
        "    start_epoch, best_loss = load_checkpoint(model, optimizer, scheduler, save_dir_file_name, device)\n",
        "else:\n",
        "    best_loss = float(\"inf\")\n",
        "\n",
        "# ============================================================\n",
        "# 5️⃣ Main training loop\n",
        "# ============================================================\n",
        "\n",
        "for epoch in range(start_epoch, total_epochs):\n",
        "    train(model, device, train_loader, optimizer, scheduler, epoch)\n",
        "    test_loss = test(model, device, test_loader, epoch)\n",
        "    save_checkpoint(model, optimizer, scheduler, epoch, best_loss, save_dir_file_name)"
      ]
    },
    {
      "cell_type": "code",
      "source": [
        "# To disconnect and exit!\n",
        "# from IPython.display import Javascript, display\n",
        "\n",
        "# display(Javascript('google.colab.kernel.disconnect();'))\n"
      ],
      "metadata": {
        "id": "X7GKJU-91WDX"
      },
      "id": "X7GKJU-91WDX",
      "execution_count": null,
      "outputs": []
    },
    {
      "cell_type": "code",
      "execution_count": 13,
      "id": "qL3wSsh5eRrm",
      "metadata": {
        "colab": {
          "base_uri": "https://localhost:8080/",
          "height": 872
        },
        "id": "qL3wSsh5eRrm",
        "outputId": "88630267-3c0f-4b76-dd69-c624dede19ed"
      },
      "outputs": [
        {
          "output_type": "display_data",
          "data": {
            "text/plain": [
              "<Figure size 1000x1000 with 4 Axes>"
            ],
            "image/png": "[encoded data removed]"
          },
          "metadata": {}
        }
      ],
      "source": [
        "fig, axs = plt.subplots(2, 2, figsize=(10, 10))\n",
        "\n",
        "axs[0,0].plot(train_loss_data, label='Train Loss')\n",
        "axs[0,0].set_xlabel('Batch')\n",
        "axs[0,0].set_ylabel('Loss')\n",
        "axs[0,0].set_title('Train Loss')\n",
        "axs[0,0].grid(True)\n",
        "axs[0,0].legend()\n",
        "\n",
        "axs[0,1].plot(test_loss_data, label='Test Loss')\n",
        "axs[0,1].set_xlabel('Epoch')\n",
        "axs[0,1].set_ylabel('Loss')\n",
        "axs[0,1].set_title('Test Loss')\n",
        "axs[0,1].grid(True)\n",
        "axs[0,1].legend()\n",
        "\n",
        "axs[1,0].plot(train_accuracy, label='Train Accuracy')\n",
        "axs[1,0].set_xlabel('Epoch')\n",
        "axs[1,0].set_ylabel('Accuracy')\n",
        "axs[1,0].set_title('Train Accuracy')\n",
        "axs[1,0].grid(True)\n",
        "axs[1,0].legend()\n",
        "\n",
        "axs[1,1].plot(test_accuracy, label='Test Accuracy')\n",
        "axs[1,1].set_xlabel('Epoch')\n",
        "axs[1,1].set_ylabel('Accuracy')\n",
        "axs[1,1].set_title('Test Accuracy')\n",
        "axs[1,1].grid(True)\n",
        "axs[1,1].legend()\n",
        "\n",
        "plt.show()"
      ]
    },
    {
      "cell_type": "code",
      "source": [
        "plt.plot(learning_rate_over_steps)\n",
        "plt.xlabel('Step')\n",
        "plt.ylabel('Learning Rate')\n",
        "plt.title('Learning Rate Over Steps')\n",
        "plt.grid(True)\n",
        "plt.show()"
      ],
      "metadata": {
        "id": "Z9xf0K1H6Q26",
        "outputId": "3996dfdc-8116-4706-8ad4-b33b924b543c",
        "colab": {
          "base_uri": "https://localhost:8080/",
          "height": 472
        }
      },
      "id": "Z9xf0K1H6Q26",
      "execution_count": 14,
      "outputs": [
        {
          "output_type": "display_data",
          "data": {
            "text/plain": [
              "<Figure size 640x480 with 1 Axes>"
            ],
            "image/png": "[encoded data removed]"
          },
          "metadata": {}
        }
      ]
    }
  ],
  "metadata": {
    "accelerator": "GPU",
    "colab": {
      "gpuType": "T4",
      "provenance": []
    },
    "kernelspec": {
      "display_name": "Python 3",
      "name": "python3"
    },
    "language_info": {
      "codemirror_mode": {
        "name": "ipython",
        "version": 3
      },
      "file_extension": ".py",
      "mimetype": "text/x-python",
      "name": "python",
      "nbconvert_exporter": "python",
      "pygments_lexer": "ipython3",
      "version": "3.9.23"
    },
    "widgets": {
      "application/vnd.jupyter.widget-state+json": {
        "929f833010db441b8bbed2c5f73e71b2": {
          "model_module": "@jupyter-widgets/controls",
          "model_name": "HBoxModel",
          "model_module_version": "1.5.0",
          "state": {
            "_dom_classes": [],
            "_model_module": "@jupyter-widgets/controls",
            "_model_module_version": "1.5.0",
            "_model_name": "HBoxModel",
            "_view_count": null,
            "_view_module": "@jupyter-widgets/controls",
            "_view_module_version": "1.5.0",
            "_view_name": "HBoxView",
            "box_style": "",
            "children": [
              "IPY_MODEL_f0cb3d9b2bae4216bc4e44a17bd17982",
              "IPY_MODEL_e10d062dfcdf4d398292aa97f6b8c712",
              "IPY_MODEL_a263daf83109428eb8cf4ef8d967543e"
            ],
            "layout": "IPY_MODEL_3bfd90f4f30444448900294f8700372a"
          }
        },
        "f0cb3d9b2bae4216bc4e44a17bd17982": {
          "model_module": "@jupyter-widgets/controls",
          "model_name": "HTMLModel",
          "model_module_version": "1.5.0",
          "state": {
            "_dom_classes": [],
            "_model_module": "@jupyter-widgets/controls",
            "_model_module_version": "1.5.0",
            "_model_name": "HTMLModel",
            "_view_count": null,
            "_view_module": "@jupyter-widgets/controls",
            "_view_module_version": "1.5.0",
            "_view_name": "HTMLView",
            "description": "",
            "description_tooltip": null,
            "layout": "IPY_MODEL_28dfb6ec264c4d7ea8f1812efff3e136",
            "placeholder": "​",
            "style": "IPY_MODEL_c9e49802b70b49d3a18b04666e4b2b33",
            "value": " 84%"
          }
        },
        "e10d062dfcdf4d398292aa97f6b8c712": {
          "model_module": "@jupyter-widgets/controls",
          "model_name": "FloatProgressModel",
          "model_module_version": "1.5.0",
          "state": {
            "_dom_classes": [],
            "_model_module": "@jupyter-widgets/controls",
            "_model_module_version": "1.5.0",
            "_model_name": "FloatProgressModel",
            "_view_count": null,
            "_view_module": "@jupyter-widgets/controls",
            "_view_module_version": "1.5.0",
            "_view_name": "ProgressView",
            "bar_style": "danger",
            "description": "",
            "description_tooltip": null,
            "layout": "IPY_MODEL_4050ebf7acac46e89689fa10e4d74fc0",
            "max": 100,
            "min": 0,
            "orientation": "horizontal",
            "style": "IPY_MODEL_258c2d2d1c6c4c0abfc46c1db2caf061",
            "value": 84
          }
        },
        "a263daf83109428eb8cf4ef8d967543e": {
          "model_module": "@jupyter-widgets/controls",
          "model_name": "HTMLModel",
          "model_module_version": "1.5.0",
          "state": {
            "_dom_classes": [],
            "_model_module": "@jupyter-widgets/controls",
            "_model_module_version": "1.5.0",
            "_model_name": "HTMLModel",
            "_view_count": null,
            "_view_module": "@jupyter-widgets/controls",
            "_view_module_version": "1.5.0",
            "_view_name": "HTMLView",
            "description": "",
            "description_tooltip": null,
            "layout": "IPY_MODEL_4d3b47b81aa4438cbd168562b0f34adc",
            "placeholder": "​",
            "style": "IPY_MODEL_51a8769edbbc4417b776f08a795587b9",
            "value": " 84/100 [01:36&lt;00:17,  1.08s/it]"
          }
        },
        "3bfd90f4f30444448900294f8700372a": {
          "model_module": "@jupyter-widgets/base",
          "model_name": "LayoutModel",
          "model_module_version": "1.2.0",
          "state": {
            "_model_module": "@jupyter-widgets/base",
            "_model_module_version": "1.2.0",
            "_model_name": "LayoutModel",
            "_view_count": null,
            "_view_module": "@jupyter-widgets/base",
            "_view_module_version": "1.2.0",
            "_view_name": "LayoutView",
            "align_content": null,
            "align_items": null,
            "align_self": null,
            "border": null,
            "bottom": null,
            "display": null,
            "flex": null,
            "flex_flow": null,
            "grid_area": null,
            "grid_auto_columns": null,
            "grid_auto_flow": null,
            "grid_auto_rows": null,
            "grid_column": null,
            "grid_gap": null,
            "grid_row": null,
            "grid_template_areas": null,
            "grid_template_columns": null,
            "grid_template_rows": null,
            "height": null,
            "justify_content": null,
            "justify_items": null,
            "left": null,
            "margin": null,
            "max_height": null,
            "max_width": null,
            "min_height": null,
            "min_width": null,
            "object_fit": null,
            "object_position": null,
            "order": null,
            "overflow": null,
            "overflow_x": null,
            "overflow_y": null,
            "padding": null,
            "right": null,
            "top": null,
            "visibility": null,
            "width": null
          }
        },
        "28dfb6ec264c4d7ea8f1812efff3e136": {
          "model_module": "@jupyter-widgets/base",
          "model_name": "LayoutModel",
          "model_module_version": "1.2.0",
          "state": {
            "_model_module": "@jupyter-widgets/base",
            "_model_module_version": "1.2.0",
            "_model_name": "LayoutModel",
            "_view_count": null,
            "_view_module": "@jupyter-widgets/base",
            "_view_module_version": "1.2.0",
            "_view_name": "LayoutView",
            "align_content": null,
            "align_items": null,
            "align_self": null,
            "border": null,
            "bottom": null,
            "display": null,
            "flex": null,
            "flex_flow": null,
            "grid_area": null,
            "grid_auto_columns": null,
            "grid_auto_flow": null,
            "grid_auto_rows": null,
            "grid_column": null,
            "grid_gap": null,
            "grid_row": null,
            "grid_template_areas": null,
            "grid_template_columns": null,
            "grid_template_rows": null,
            "height": null,
            "justify_content": null,
            "justify_items": null,
            "left": null,
            "margin": null,
            "max_height": null,
            "max_width": null,
            "min_height": null,
            "min_width": null,
            "object_fit": null,
            "object_position": null,
            "order": null,
            "overflow": null,
            "overflow_x": null,
            "overflow_y": null,
            "padding": null,
            "right": null,
            "top": null,
            "visibility": null,
            "width": null
          }
        },
        "c9e49802b70b49d3a18b04666e4b2b33": {
          "model_module": "@jupyter-widgets/controls",
          "model_name": "DescriptionStyleModel",
          "model_module_version": "1.5.0",
          "state": {
            "_model_module": "@jupyter-widgets/controls",
            "_model_module_version": "1.5.0",
            "_model_name": "DescriptionStyleModel",
            "_view_count": null,
            "_view_module": "@jupyter-widgets/base",
            "_view_module_version": "1.2.0",
            "_view_name": "StyleView",
            "description_width": ""
          }
        },
        "4050ebf7acac46e89689fa10e4d74fc0": {
          "model_module": "@jupyter-widgets/base",
          "model_name": "LayoutModel",
          "model_module_version": "1.2.0",
          "state": {
            "_model_module": "@jupyter-widgets/base",
            "_model_module_version": "1.2.0",
            "_model_name": "LayoutModel",
            "_view_count": null,
            "_view_module": "@jupyter-widgets/base",
            "_view_module_version": "1.2.0",
            "_view_name": "LayoutView",
            "align_content": null,
            "align_items": null,
            "align_self": null,
            "border": null,
            "bottom": null,
            "display": null,
            "flex": null,
            "flex_flow": null,
            "grid_area": null,
            "grid_auto_columns": null,
            "grid_auto_flow": null,
            "grid_auto_rows": null,
            "grid_column": null,
            "grid_gap": null,
            "grid_row": null,
            "grid_template_areas": null,
            "grid_template_columns": null,
            "grid_template_rows": null,
            "height": null,
            "justify_content": null,
            "justify_items": null,
            "left": null,
            "margin": null,
            "max_height": null,
            "max_width": null,
            "min_height": null,
            "min_width": null,
            "object_fit": null,
            "object_position": null,
            "order": null,
            "overflow": null,
            "overflow_x": null,
            "overflow_y": null,
            "padding": null,
            "right": null,
            "top": null,
            "visibility": null,
            "width": null
          }
        },
        "258c2d2d1c6c4c0abfc46c1db2caf061": {
          "model_module": "@jupyter-widgets/controls",
          "model_name": "ProgressStyleModel",
          "model_module_version": "1.5.0",
          "state": {
            "_model_module": "@jupyter-widgets/controls",
            "_model_module_version": "1.5.0",
            "_model_name": "ProgressStyleModel",
            "_view_count": null,
            "_view_module": "@jupyter-widgets/base",
            "_view_module_version": "1.2.0",
            "_view_name": "StyleView",
            "bar_color": null,
            "description_width": ""
          }
        },
        "4d3b47b81aa4438cbd168562b0f34adc": {
          "model_module": "@jupyter-widgets/base",
          "model_name": "LayoutModel",
          "model_module_version": "1.2.0",
          "state": {
            "_model_module": "@jupyter-widgets/base",
            "_model_module_version": "1.2.0",
            "_model_name": "LayoutModel",
            "_view_count": null,
            "_view_module": "@jupyter-widgets/base",
            "_view_module_version": "1.2.0",
            "_view_name": "LayoutView",
            "align_content": null,
            "align_items": null,
            "align_self": null,
            "border": null,
            "bottom": null,
            "display": null,
            "flex": null,
            "flex_flow": null,
            "grid_area": null,
            "grid_auto_columns": null,
            "grid_auto_flow": null,
            "grid_auto_rows": null,
            "grid_column": null,
            "grid_gap": null,
            "grid_row": null,
            "grid_template_areas": null,
            "grid_template_columns": null,
            "grid_template_rows": null,
            "height": null,
            "justify_content": null,
            "justify_items": null,
            "left": null,
            "margin": null,
            "max_height": null,
            "max_width": null,
            "min_height": null,
            "min_width": null,
            "object_fit": null,
            "object_position": null,
            "order": null,
            "overflow": null,
            "overflow_x": null,
            "overflow_y": null,
            "padding": null,
            "right": null,
            "top": null,
            "visibility": null,
            "width": null
          }
        },
        "51a8769edbbc4417b776f08a795587b9": {
          "model_module": "@jupyter-widgets/controls",
          "model_name": "DescriptionStyleModel",
          "model_module_version": "1.5.0",
          "state": {
            "_model_module": "@jupyter-widgets/controls",
            "_model_module_version": "1.5.0",
            "_model_name": "DescriptionStyleModel",
            "_view_count": null,
            "_view_module": "@jupyter-widgets/base",
            "_view_module_version": "1.2.0",
            "_view_name": "StyleView",
            "description_width": ""
          }
        }
      }
    }
  },
  "nbformat": 4,
  "nbformat_minor": 5
}