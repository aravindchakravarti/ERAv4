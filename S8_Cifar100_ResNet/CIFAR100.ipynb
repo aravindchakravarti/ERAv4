{
  "cells": [
    {
      "cell_type": "code",
      "execution_count": 1,
      "id": "dhzS-1Hea5ss",
      "metadata": {
        "colab": {
          "base_uri": "https://localhost:8080/"
        },
        "id": "dhzS-1Hea5ss",
        "outputId": "0c63b7bb-2bd1-46f2-d839-f6bc586add63"
      },
      "outputs": [],
      "source": [
        "import sys\n",
        "if 'google.colab' in sys.modules:\n",
        "    from google.colab import drive\n",
        "    drive.mount('/content/drive')"
      ]
    },
    {
      "cell_type": "code",
      "execution_count": 2,
      "id": "9fc7a6d9",
      "metadata": {
        "colab": {
          "base_uri": "https://localhost:8080/"
        },
        "id": "9fc7a6d9",
        "outputId": "86006ff4-d31f-420d-c7e5-84ca73aeb281"
      },
      "outputs": [],
      "source": [
        "import torch\n",
        "from torchvision import datasets\n",
        "import torch.nn as nn\n",
        "import torch.nn.functional as F\n",
        "from torch.optim.lr_scheduler import OneCycleLR\n",
        "import sys\n",
        "import os\n",
        "import numpy as np\n",
        "import cv2\n",
        "import matplotlib.pyplot as plt\n",
        "from torchvision.transforms import v2\n",
        "\n",
        "if 'google.colab' in sys.modules:\n",
        "    !pip install torchsummary\n",
        "    !pip install albumentationsx\n",
        "\n",
        "import albumentations as A\n",
        "# from albumentations.pytorch import ToTensorV2\n",
        "from torchsummary import summary\n",
        "from tqdm import tqdm\n",
        "\n",
        "import logging\n",
        "logging.basicConfig(level=logging.INFO, format='%(asctime)s - %(levelname)s - %(message)s')\n",
        "logger = logging.getLogger(__name__)\n",
        "\n",
        "from model_v1 import ResNet"
      ]
    },
    {
      "cell_type": "code",
      "execution_count": 3,
      "id": "2f878237",
      "metadata": {
        "colab": {
          "base_uri": "https://localhost:8080/"
        },
        "id": "2f878237",
        "outputId": "cd2fb35a-aef3-4e11-ed11-ae79578cf40b"
      },
      "outputs": [
        {
          "name": "stdout",
          "output_type": "stream",
          "text": [
            "Cuda available = False, Using device = cpu\n"
          ]
        }
      ],
      "source": [
        "is_cuda = torch.cuda.is_available()\n",
        "device = torch.device(\"cuda\" if is_cuda else \"cpu\")\n",
        "print(f\"Cuda available = {is_cuda}, Using device = {device}\")"
      ]
    },
    {
      "cell_type": "code",
      "execution_count": 4,
      "id": "6YuMngmmC7Oj",
      "metadata": {
        "id": "6YuMngmmC7Oj"
      },
      "outputs": [
        {
          "name": "stderr",
          "output_type": "stream",
          "text": [
            "2025-10-08 08:02:33,527 - INFO - Lenth of class names = 100\n"
          ]
        }
      ],
      "source": [
        "# Mean and Standard Deviation of CIFAR-100 dataset\n",
        "CIFAR100_MEAN = (0.5071, 0.4867, 0.4408)\n",
        "CIFAR100_STD = (0.2675, 0.2565, 0.2761)\n",
        "if 'google.colab' in sys.modules:\n",
        "    BATCH_SIZE = 512\n",
        "else:\n",
        "    BATCH_SIZE = 32\n",
        "CIFAR100_LABELS = [\n",
        "    'apple', 'aquarium_fish', 'baby', 'bear', 'beaver', 'bed', 'bee', 'beetle', 'bicycle', 'bottle',\n",
        "    'bowl', 'boy', 'bridge', 'bus', 'butterfly', 'camel', 'can', 'castle', 'caterpillar', 'cattle',\n",
        "    'chair', 'chimpanzee', 'clock', 'cloud', 'cockroach', 'couch', 'crab', 'crocodile', 'cup', 'dinosaur',\n",
        "    'dolphin', 'elephant', 'flatfish', 'forest', 'fox', 'girl', 'hamster', 'house', 'kangaroo', 'keyboard',\n",
        "    'lamp', 'lawn_mower', 'leopard', 'lion', 'lizard', 'lobster', 'man', 'maple_tree', 'motorcycle', 'mountain',\n",
        "    'mouse', 'mushroom', 'oak_tree', 'orange', 'orchid', 'otter', 'palm_tree', 'pear', 'pickup_truck', 'pine_tree',\n",
        "    'plain', 'plate', 'poppy', 'porcupine', 'possum', 'rabbit', 'raccoon', 'ray', 'road', 'rocket',\n",
        "    'rose', 'sea', 'seal', 'shark', 'shrew', 'skunk', 'skyscraper', 'snail', 'snake', 'spider',\n",
        "    'squirrel', 'streetcar', 'sunflower', 'sweet_pepper', 'table', 'tank', 'telephone', 'television', 'tiger', 'tractor',\n",
        "    'train', 'trout', 'tulip', 'turtle', 'wardrobe', 'whale', 'willow_tree', 'wolf', 'woman', 'worm'\n",
        "]\n",
        "logger.info(f\"Lenth of class names = {len(CIFAR100_LABELS)}\")\n",
        "GET_DATASET_STATS_FLAG = True"
      ]
    },
    {
      "cell_type": "code",
      "execution_count": 5,
      "id": "g2LF3MrlDEvr",
      "metadata": {
        "id": "g2LF3MrlDEvr"
      },
      "outputs": [
        {
          "name": "stderr",
          "output_type": "stream",
          "text": [
            "c:\\Users\\achakravarti\\Documents\\ERAv4\\ERAv4\\.venv\\lib\\site-packages\\albumentations\\core\\validation.py:132: UserWarning: ShiftScaleRotate is a special case of Affine transform. Please use Affine transform instead.\n",
            "  original_init(self, **validated_kwargs)\n"
          ]
        }
      ],
      "source": [
        "class AlbumentationsTransform:\n",
        "    def __init__(self, transform):\n",
        "        self.transform = transform\n",
        "\n",
        "    def __call__(self, img):\n",
        "        # CIFAR100 gives PIL image -> convert to numpy\n",
        "        img = np.array(img)\n",
        "        # Apply Albumentations\n",
        "        augmented = self.transform(image=img)\n",
        "        return augmented[\"image\"]\n",
        "\n",
        "# Denormalization function for viz/stats (add this helper)\n",
        "def denormalize(tensor_img, mean=CIFAR100_MEAN, std=CIFAR100_STD):\n",
        "    \"\"\"Denormalize tensor for display (assumes C x H x W, values in [-2,2] approx).\"\"\"\n",
        "    tensor_img = tensor_img.clone()  # Avoid modifying original\n",
        "    for t, m, s in zip(tensor_img, mean, std):\n",
        "        t.mul_(s).add_(m)  # Unnormalize\n",
        "    return torch.clamp(tensor_img, 0, 1)  # Clamp to [0,1]\n",
        "\n",
        "train_transforms = AlbumentationsTransform(A.Compose([\n",
        "    A.Resize(32, 32),\n",
        "    A.HorizontalFlip(p=0.5),\n",
        "    A.ShiftScaleRotate(\n",
        "        shift_limit=(-0.0625, 0.0625),\n",
        "        scale_limit=(-0.1, 0.1),\n",
        "        rotate_limit=(-15, 15),\n",
        "        interpolation=cv2.INTER_LINEAR,\n",
        "        border_mode=cv2.BORDER_CONSTANT,\n",
        "        rotate_method=\"largest_box\",\n",
        "        p=0.5),\n",
        "    A.CoarseDropout(\n",
        "        num_holes_range=(1,1),\n",
        "        hole_height_range=(5, 15),\n",
        "        hole_width_range=(5, 15),\n",
        "        fill=0,\n",
        "        p=0.5\n",
        "    ),\n",
        "    A.Normalize(mean=CIFAR100_MEAN, std=CIFAR100_STD),\n",
        "    A.ToTensorV2(),\n",
        "]))\n",
        "\n",
        "test_transforms = AlbumentationsTransform(A.Compose([\n",
        "    A.Resize(32, 32),\n",
        "    A.Normalize(mean=CIFAR100_MEAN, std=CIFAR100_STD),\n",
        "    A.ToTensorV2(),\n",
        "]))"
      ]
    },
    {
      "cell_type": "code",
      "execution_count": 6,
      "id": "GXnGvNgHDh7W",
      "metadata": {
        "id": "GXnGvNgHDh7W"
      },
      "outputs": [],
      "source": [
        "cifar_train_dataset = datasets.CIFAR100(\n",
        "    root='../../',\n",
        "    train=True,\n",
        "    download=True,\n",
        "    transform=train_transforms,\n",
        ")\n",
        "\n",
        "cifar_test_dataset = datasets.CIFAR100(\n",
        "    root='../../',\n",
        "    train=False,\n",
        "    download=True,\n",
        "    transform=test_transforms,\n",
        ")\n",
        "\n",
        "train_kwargs = {'batch_size': BATCH_SIZE, 'shuffle': True,  'num_workers': 0, 'pin_memory': is_cuda}\n",
        "test_kwargs = {'batch_size': BATCH_SIZE, 'shuffle': False,  'num_workers': 0, 'pin_memory': is_cuda}\n",
        "\n",
        "train_loader = torch.utils.data.DataLoader(cifar_train_dataset, **train_kwargs)\n",
        "test_loader  = torch.utils.data.DataLoader(cifar_test_dataset,  **test_kwargs)"
      ]
    },
    {
      "cell_type": "code",
      "execution_count": 7,
      "id": "b664865a",
      "metadata": {
        "colab": {
          "base_uri": "https://localhost:8080/",
          "height": 445
        },
        "id": "b664865a",
        "outputId": "f6391b59-0d24-4df6-ea9a-7695a5c33016"
      },
      "outputs": [
        {
          "name": "stderr",
          "output_type": "stream",
          "text": [
            "2025-10-08 08:02:44,985 - INFO - Flatten images size (1025024,), (1025024,), (1025024,)\n"
          ]
        },
        {
          "data": {
            "image/png": "[encoded data removed]",
            "text/plain": [
              "<Figure size 640x480 with 1 Axes>"
            ]
          },
          "metadata": {},
          "output_type": "display_data"
        }
      ],
      "source": [
        "if GET_DATASET_STATS_FLAG:\n",
        "    # Note: This computes stats on transformed (augmented + normalized) data, which isn't ideal for verifying raw mean/std.\n",
        "    # If you want raw stats, use a temp dataset without transforms/normalize.\n",
        "    imgs = []\n",
        "    for index, item in enumerate(cifar_train_dataset):\n",
        "        # Sampling 1000 images only\n",
        "        if index > 1000:\n",
        "            break\n",
        "        else:\n",
        "            imgs.append(item[0])\n",
        "    # imgs = [item[0] for item in cifar_train_dataset]\n",
        "    imgs = torch.stack(imgs, dim=0).numpy()\n",
        "    imgs_r = imgs[:,0,:,:].flatten()\n",
        "    imgs_g = imgs[:,1,:,:].flatten()\n",
        "    imgs_b = imgs[:,2,:,:].flatten()\n",
        "    logger.info(f\"Flatten images size {imgs_r.shape}, {imgs_g.shape}, {imgs_b.shape}\")\n",
        "\n",
        "    plt.hist(imgs_r, bins=50, alpha=0.33, color='r', label='Red')\n",
        "    plt.hist(imgs_g, bins=50, alpha=0.33, color='g', label='Green')\n",
        "    plt.hist(imgs_b, bins=50, alpha=0.33, color='b', label='Blue')\n",
        "    plt.legend()\n",
        "    plt.show()"
      ]
    },
    {
      "cell_type": "code",
      "execution_count": 8,
      "id": "d29d0682",
      "metadata": {
        "id": "d29d0682"
      },
      "outputs": [],
      "source": [
        "def dataset_visualizer(dataset_loader, n_images=12):\n",
        "    \"\"\"Visualize a few samples from the dataset loader.\"\"\"\n",
        "    batch_data, batch_label = next(iter(dataset_loader))\n",
        "    n_images = min(n_images, len(batch_data))\n",
        "\n",
        "    fig = plt.figure(figsize=(10, 8))\n",
        "    for i in range(n_images):\n",
        "        plt.subplot(3, 4, i+1)\n",
        "        plt.tight_layout()\n",
        "        image_data = batch_data[i].cpu()\n",
        "        # Denormalize first (expects C x H x W)\n",
        "        image_data = denormalize(image_data, mean=CIFAR100_MEAN, std=CIFAR100_STD)\n",
        "        # Then permute to H x W x C for visualization\n",
        "        image_data = image_data.permute(1, 2, 0)\n",
        "        plt.imshow(image_data)\n",
        "        plt.title(CIFAR100_LABELS[batch_label[i].item()])\n",
        "        plt.xticks([])\n",
        "        plt.yticks([])\n",
        "    plt.show()"
      ]
    },
    {
      "cell_type": "code",
      "execution_count": 9,
      "id": "6988f18c",
      "metadata": {
        "colab": {
          "base_uri": "https://localhost:8080/",
          "height": 906
        },
        "id": "6988f18c",
        "outputId": "7ebf11b9-951e-4e53-eaed-049055e77f20"
      },
      "outputs": [
        {
          "data": {
            "image/png": "[encoded data removed]",
            "text/plain": [
              "<Figure size 1000x800 with 12 Axes>"
            ]
          },
          "metadata": {},
          "output_type": "display_data"
        }
      ],
      "source": [
        "dataset_visualizer(train_loader)"
      ]
    },
    {
      "cell_type": "code",
      "execution_count": 10,
      "id": "4fd104e3",
      "metadata": {
        "id": "4fd104e3"
      },
      "outputs": [],
      "source": [
        "# ============================================================\n",
        "# 1️⃣ Train/test loops\n",
        "# ============================================================\n",
        "criterion = nn.CrossEntropyLoss()\n",
        "train_loss_data = []\n",
        "train_accuracy = []\n",
        "test_loss_data = []\n",
        "test_accuracy = []\n",
        "\n",
        "best_loss = float('inf')   # initialize with infinity\n",
        "\n",
        "def train(model, device, train_loader, optimizer, epoch):\n",
        "    model.train()\n",
        "    pbar = tqdm(train_loader)\n",
        "\n",
        "    correct = 0\n",
        "    total = 0\n",
        "    running_loss = 0.0\n",
        "\n",
        "    for batch_idx, (data, target) in enumerate(pbar):\n",
        "        data, target = data.to(device), target.to(device)\n",
        "        optimizer.zero_grad()\n",
        "        output = model(data)\n",
        "        loss = criterion(output, target)\n",
        "        loss.backward()\n",
        "        optimizer.step()\n",
        "\n",
        "        running_loss += loss.item()\n",
        "        pred = output.argmax(dim=1, keepdim=True)\n",
        "        correct += pred.eq(target.view_as(pred)).sum().item()\n",
        "        total += target.size(0)\n",
        "\n",
        "        pbar.set_description(desc=f'loss={loss.item():.4f} batch_id={batch_idx}')\n",
        "\n",
        "    # Epoch-level stats\n",
        "    avg_loss = running_loss / len(train_loader)\n",
        "    acc = 100. * correct / total\n",
        "\n",
        "    train_loss_data.append(avg_loss)\n",
        "    train_accuracy.append(acc)\n",
        "\n",
        "    print(f'\\nTrain set (epoch {epoch}): Average loss: {avg_loss:.4f}, Accuracy: {correct}/{total} ({acc:.2f}%)\\n')\n",
        "\n",
        "\n",
        "def test(model, device, test_loader, epoch):\n",
        "    global best_loss  # to update across epochs\n",
        "    model.eval()\n",
        "    test_loss = 0\n",
        "    correct = 0\n",
        "    with torch.no_grad():\n",
        "        for data, target in test_loader:\n",
        "            data, target = data.to(device), target.to(device)\n",
        "            output = model(data)\n",
        "            test_loss += F.cross_entropy(output, target, reduction='sum').item()  # sum up batch loss\n",
        "            pred = output.argmax(dim=1, keepdim=True)\n",
        "            correct += pred.eq(target.view_as(pred)).sum().item()\n",
        "\n",
        "    test_loss /= len(test_loader.dataset)\n",
        "    test_loss_data.append(test_loss)\n",
        "    acc = 100. * correct / len(test_loader.dataset)\n",
        "    test_accuracy.append(acc)\n",
        "\n",
        "    print(f'Test set (epoch {epoch}): Average loss: {test_loss:.4f}, Accuracy: {correct}/{len(test_loader.dataset)} ({acc:.2f}%)\\n')\n",
        "\n",
        "    # ✅ Save best model by lowest test loss\n",
        "    if test_loss < best_loss:\n",
        "        best_loss = test_loss\n",
        "        save_dir = \"/content/drive/MyDrive/CIFAR100\" if 'google.colab' in sys.modules else \".\"\n",
        "        os.makedirs(save_dir, exist_ok=True)\n",
        "        torch.save(model.state_dict(), os.path.join(save_dir, \"best_model.pt\"))\n",
        "        print(f\"✅ Saved new best model at epoch {epoch} with loss {best_loss:.4f}\")\n",
        "\n",
        "    return test_loss\n"
      ]
    },
    {
      "cell_type": "code",
      "execution_count": 11,
      "id": "a6ad3062",
      "metadata": {},
      "outputs": [
        {
          "name": "stdout",
          "output_type": "stream",
          "text": [
            "Output shape: torch.Size([5, 100])\n",
            "----------------------------------------------------------------\n",
            "        Layer (type)               Output Shape         Param #\n",
            "================================================================\n",
            "            Conv2d-1           [-1, 64, 32, 32]           1,728\n",
            "       BatchNorm2d-2           [-1, 64, 32, 32]             128\n",
            "              ReLU-3           [-1, 64, 32, 32]               0\n",
            "            Conv2d-4           [-1, 64, 32, 32]          36,864\n",
            "       BatchNorm2d-5           [-1, 64, 32, 32]             128\n",
            "              ReLU-6           [-1, 64, 32, 32]               0\n",
            "            Conv2d-7           [-1, 64, 32, 32]          36,864\n",
            "       BatchNorm2d-8           [-1, 64, 32, 32]             128\n",
            "              ReLU-9           [-1, 64, 32, 32]               0\n",
            "       BasicBlock-10           [-1, 64, 32, 32]               0\n",
            "           Conv2d-11           [-1, 64, 32, 32]          36,864\n",
            "      BatchNorm2d-12           [-1, 64, 32, 32]             128\n",
            "             ReLU-13           [-1, 64, 32, 32]               0\n",
            "           Conv2d-14           [-1, 64, 32, 32]          36,864\n",
            "      BatchNorm2d-15           [-1, 64, 32, 32]             128\n",
            "             ReLU-16           [-1, 64, 32, 32]               0\n",
            "       BasicBlock-17           [-1, 64, 32, 32]               0\n",
            "           Conv2d-18          [-1, 128, 16, 16]          73,728\n",
            "      BatchNorm2d-19          [-1, 128, 16, 16]             256\n",
            "             ReLU-20          [-1, 128, 16, 16]               0\n",
            "           Conv2d-21          [-1, 128, 16, 16]         147,456\n",
            "      BatchNorm2d-22          [-1, 128, 16, 16]             256\n",
            "           Conv2d-23          [-1, 128, 16, 16]           8,192\n",
            "      BatchNorm2d-24          [-1, 128, 16, 16]             256\n",
            "             ReLU-25          [-1, 128, 16, 16]               0\n",
            "       BasicBlock-26          [-1, 128, 16, 16]               0\n",
            "           Conv2d-27          [-1, 128, 16, 16]         147,456\n",
            "      BatchNorm2d-28          [-1, 128, 16, 16]             256\n",
            "             ReLU-29          [-1, 128, 16, 16]               0\n",
            "           Conv2d-30          [-1, 128, 16, 16]         147,456\n",
            "      BatchNorm2d-31          [-1, 128, 16, 16]             256\n",
            "             ReLU-32          [-1, 128, 16, 16]               0\n",
            "       BasicBlock-33          [-1, 128, 16, 16]               0\n",
            "           Conv2d-34            [-1, 128, 8, 8]           1,152\n",
            "           Conv2d-35            [-1, 256, 8, 8]          32,768\n",
            "DepthwiseSeparableConv2d-36            [-1, 256, 8, 8]               0\n",
            "      BatchNorm2d-37            [-1, 256, 8, 8]             512\n",
            "             ReLU-38            [-1, 256, 8, 8]               0\n",
            "           Conv2d-39            [-1, 256, 8, 8]           2,304\n",
            "           Conv2d-40            [-1, 256, 8, 8]          65,536\n",
            "DepthwiseSeparableConv2d-41            [-1, 256, 8, 8]               0\n",
            "      BatchNorm2d-42            [-1, 256, 8, 8]             512\n",
            "           Conv2d-43            [-1, 256, 8, 8]          32,768\n",
            "      BatchNorm2d-44            [-1, 256, 8, 8]             512\n",
            "             ReLU-45            [-1, 256, 8, 8]               0\n",
            "DepthwiseBasicBlock-46            [-1, 256, 8, 8]               0\n",
            "           Conv2d-47            [-1, 256, 8, 8]           2,304\n",
            "           Conv2d-48            [-1, 256, 8, 8]          65,536\n",
            "DepthwiseSeparableConv2d-49            [-1, 256, 8, 8]               0\n",
            "      BatchNorm2d-50            [-1, 256, 8, 8]             512\n",
            "             ReLU-51            [-1, 256, 8, 8]               0\n",
            "           Conv2d-52            [-1, 256, 8, 8]           2,304\n",
            "           Conv2d-53            [-1, 256, 8, 8]          65,536\n",
            "DepthwiseSeparableConv2d-54            [-1, 256, 8, 8]               0\n",
            "      BatchNorm2d-55            [-1, 256, 8, 8]             512\n",
            "             ReLU-56            [-1, 256, 8, 8]               0\n",
            "DepthwiseBasicBlock-57            [-1, 256, 8, 8]               0\n",
            "           Conv2d-58            [-1, 256, 8, 8]           2,304\n",
            "           Conv2d-59            [-1, 256, 8, 8]          65,536\n",
            "DepthwiseSeparableConv2d-60            [-1, 256, 8, 8]               0\n",
            "      BatchNorm2d-61            [-1, 256, 8, 8]             512\n",
            "             ReLU-62            [-1, 256, 8, 8]               0\n",
            "           Conv2d-63            [-1, 256, 8, 8]           2,304\n",
            "           Conv2d-64            [-1, 256, 8, 8]          65,536\n",
            "DepthwiseSeparableConv2d-65            [-1, 256, 8, 8]               0\n",
            "      BatchNorm2d-66            [-1, 256, 8, 8]             512\n",
            "             ReLU-67            [-1, 256, 8, 8]               0\n",
            "DepthwiseBasicBlock-68            [-1, 256, 8, 8]               0\n",
            "           Conv2d-69            [-1, 256, 4, 4]           2,304\n",
            "           Conv2d-70            [-1, 512, 4, 4]         131,072\n",
            "DepthwiseSeparableConv2d-71            [-1, 512, 4, 4]               0\n",
            "      BatchNorm2d-72            [-1, 512, 4, 4]           1,024\n",
            "             ReLU-73            [-1, 512, 4, 4]               0\n",
            "           Conv2d-74            [-1, 512, 4, 4]           4,608\n",
            "           Conv2d-75            [-1, 512, 4, 4]         262,144\n",
            "DepthwiseSeparableConv2d-76            [-1, 512, 4, 4]               0\n",
            "      BatchNorm2d-77            [-1, 512, 4, 4]           1,024\n",
            "           Conv2d-78            [-1, 512, 4, 4]         131,072\n",
            "      BatchNorm2d-79            [-1, 512, 4, 4]           1,024\n",
            "             ReLU-80            [-1, 512, 4, 4]               0\n",
            "DepthwiseBasicBlock-81            [-1, 512, 4, 4]               0\n",
            "           Conv2d-82            [-1, 512, 4, 4]           4,608\n",
            "           Conv2d-83            [-1, 512, 4, 4]         262,144\n",
            "DepthwiseSeparableConv2d-84            [-1, 512, 4, 4]               0\n",
            "      BatchNorm2d-85            [-1, 512, 4, 4]           1,024\n",
            "             ReLU-86            [-1, 512, 4, 4]               0\n",
            "           Conv2d-87            [-1, 512, 4, 4]           4,608\n",
            "           Conv2d-88            [-1, 512, 4, 4]         262,144\n",
            "DepthwiseSeparableConv2d-89            [-1, 512, 4, 4]               0\n",
            "      BatchNorm2d-90            [-1, 512, 4, 4]           1,024\n",
            "             ReLU-91            [-1, 512, 4, 4]               0\n",
            "DepthwiseBasicBlock-92            [-1, 512, 4, 4]               0\n",
            "AdaptiveAvgPool2d-93            [-1, 512, 1, 1]               0\n",
            "           Linear-94                  [-1, 100]          51,300\n",
            "================================================================\n",
            "Total params: 2,205,988\n",
            "Trainable params: 2,205,988\n",
            "Non-trainable params: 0\n",
            "----------------------------------------------------------------\n",
            "Input size (MB): 0.01\n",
            "Forward/backward pass size (MB): 18.29\n",
            "Params size (MB): 8.42\n",
            "Estimated Total Size (MB): 26.71\n",
            "----------------------------------------------------------------\n"
          ]
        }
      ],
      "source": [
        "device = torch.device(\"cuda\" if torch.cuda.is_available() else \"cpu\")\n",
        "model = ResNet(layers=[2,2,3,2], num_classes=100, use_depthwise=(False, False, True, True)).to(device)\n",
        "\n",
        "dummy_data = torch.randn(5, 3, 32, 32).to(device)\n",
        "dummy_output = model(dummy_data)\n",
        "print(\"Output shape:\", dummy_output.shape)  # should be [5, 100]\n",
        "summary(model, input_size=(3, 32, 32), device=str(device))"
      ]
    },
    {
      "cell_type": "code",
      "execution_count": 12,
      "id": "c3aa7524",
      "metadata": {},
      "outputs": [
        {
          "name": "stderr",
          "output_type": "stream",
          "text": [
            "c:\\Users\\achakravarti\\Documents\\ERAv4\\ERAv4\\.venv\\lib\\site-packages\\torch_lr_finder\\lr_finder.py:5: TqdmWarning: IProgress not found. Please update jupyter and ipywidgets. See https://ipywidgets.readthedocs.io/en/stable/user_install.html\n",
            "  from tqdm.autonotebook import tqdm\n",
            " 82%|████████▏ | 82/100 [00:57<00:12,  1.44it/s]"
          ]
        },
        {
          "name": "stdout",
          "output_type": "stream",
          "text": [
            "Stopping early, the loss has diverged\n",
            "Learning rate search finished. See the graph with {finder_name}.plot()\n",
            "LR suggestion: steepest gradient\n",
            "Suggested LR: 1.87E-01\n"
          ]
        },
        {
          "name": "stderr",
          "output_type": "stream",
          "text": [
            "\n"
          ]
        },
        {
          "data": {
            "image/png": "[encoded data removed]",
            "text/plain": [
              "<Figure size 640x480 with 1 Axes>"
            ]
          },
          "metadata": {},
          "output_type": "display_data"
        }
      ],
      "source": [
        "from torch_lr_finder import LRFinder\n",
        "\n",
        "model = ResNet(layers=[2,2,3,2], num_classes=100, use_depthwise=(False, False, True, True)).to(device)\n",
        "\n",
        "criterion = nn.CrossEntropyLoss()\n",
        "optimizer = torch.optim.Adam(model.parameters(), lr=1e-7, weight_decay=1e-2)\n",
        "lr_finder = LRFinder(model, optimizer, criterion, device=device)\n",
        "lr_finder.range_test(train_loader, end_lr=100, num_iter=100)\n",
        "lr_finder.plot() # to inspect the loss-learning rate graph\n",
        "lr_finder.reset() # to reset the model and optimizer to their initial state"
      ]
    },
    {
      "cell_type": "code",
      "execution_count": 13,
      "id": "e804ebd7",
      "metadata": {},
      "outputs": [],
      "source": [
        "# ============================================================\n",
        "# 2️⃣ Checkpoint save/load helpers\n",
        "# ============================================================\n",
        "\n",
        "def save_checkpoint(model, optimizer, scheduler, epoch, best_loss, path=\"checkpoint.pt\"):\n",
        "    checkpoint = {\n",
        "        \"epoch\": epoch,\n",
        "        \"model_state\": model.state_dict(),\n",
        "        \"optimizer_state\": optimizer.state_dict(),\n",
        "        \"scheduler_state\": scheduler.state_dict(),\n",
        "        \"best_loss\": best_loss,\n",
        "    }\n",
        "    torch.save(checkpoint, path)\n",
        "    print(f\"💾 Saved checkpoint (epoch {epoch})\")\n",
        "\n",
        "def load_checkpoint(model, optimizer, scheduler, path=\"checkpoint.pt\", device=\"cuda\"):\n",
        "    checkpoint = torch.load(path, map_location=device)\n",
        "    model.load_state_dict(checkpoint[\"model_state\"])\n",
        "    optimizer.load_state_dict(checkpoint[\"optimizer_state\"])\n",
        "    scheduler.load_state_dict(checkpoint[\"scheduler_state\"])\n",
        "    print(f\"🔁 Loaded checkpoint from epoch {checkpoint['epoch']}\")\n",
        "    return checkpoint[\"epoch\"] + 1, checkpoint[\"best_loss\"]\n"
      ]
    },
    {
      "cell_type": "code",
      "execution_count": 14,
      "id": "a7bf9947",
      "metadata": {
        "colab": {
          "base_uri": "https://localhost:8080/"
        },
        "id": "a7bf9947",
        "outputId": "69ff2da8-1504-4821-ee48-72109c7cab93"
      },
      "outputs": [
        {
          "name": "stderr",
          "output_type": "stream",
          "text": [
            "loss=3.9495 batch_id=1562: 100%|██████████| 1563/1563 [16:10<00:00,  1.61it/s]\n"
          ]
        },
        {
          "name": "stdout",
          "output_type": "stream",
          "text": [
            "\n",
            "Train set (epoch 0): Average loss: 4.1888, Accuracy: 2529/50000 (5.06%)\n",
            "\n",
            "Test set (epoch 0): Average loss: 3.7496, Accuracy: 1096/10000 (10.96%)\n",
            "\n",
            "✅ Saved new best model at epoch 0 with loss 3.7496\n",
            "💾 Saved checkpoint (epoch 0)\n"
          ]
        },
        {
          "name": "stderr",
          "output_type": "stream",
          "text": [
            "loss=3.5781 batch_id=1562: 100%|██████████| 1563/1563 [18:05<00:00,  1.44it/s]\n"
          ]
        },
        {
          "name": "stdout",
          "output_type": "stream",
          "text": [
            "\n",
            "Train set (epoch 1): Average loss: 3.6647, Accuracy: 6322/50000 (12.64%)\n",
            "\n",
            "Test set (epoch 1): Average loss: 3.4125, Accuracy: 1731/10000 (17.31%)\n",
            "\n",
            "✅ Saved new best model at epoch 1 with loss 3.4125\n",
            "💾 Saved checkpoint (epoch 1)\n"
          ]
        },
        {
          "name": "stderr",
          "output_type": "stream",
          "text": [
            "loss=3.3846 batch_id=731:  47%|████▋     | 732/1563 [11:52<13:28,  1.03it/s]\n"
          ]
        },
        {
          "ename": "KeyboardInterrupt",
          "evalue": "",
          "output_type": "error",
          "traceback": [
            "\u001b[1;31m---------------------------------------------------------------------------\u001b[0m",
            "\u001b[1;31mKeyboardInterrupt\u001b[0m                         Traceback (most recent call last)",
            "Cell \u001b[1;32mIn[14], line 42\u001b[0m\n\u001b[0;32m     37\u001b[0m \u001b[38;5;66;03m# ============================================================\u001b[39;00m\n\u001b[0;32m     38\u001b[0m \u001b[38;5;66;03m# 5️⃣ Main training loop\u001b[39;00m\n\u001b[0;32m     39\u001b[0m \u001b[38;5;66;03m# ============================================================\u001b[39;00m\n\u001b[0;32m     41\u001b[0m \u001b[38;5;28;01mfor\u001b[39;00m epoch \u001b[38;5;129;01min\u001b[39;00m \u001b[38;5;28mrange\u001b[39m(start_epoch, total_epochs):\n\u001b[1;32m---> 42\u001b[0m     \u001b[43mtrain\u001b[49m\u001b[43m(\u001b[49m\u001b[43mmodel\u001b[49m\u001b[43m,\u001b[49m\u001b[43m \u001b[49m\u001b[43mdevice\u001b[49m\u001b[43m,\u001b[49m\u001b[43m \u001b[49m\u001b[43mtrain_loader\u001b[49m\u001b[43m,\u001b[49m\u001b[43m \u001b[49m\u001b[43moptimizer\u001b[49m\u001b[43m,\u001b[49m\u001b[43m \u001b[49m\u001b[43mepoch\u001b[49m\u001b[43m)\u001b[49m\n\u001b[0;32m     43\u001b[0m     test_loss \u001b[38;5;241m=\u001b[39m test(model, device, test_loader, epoch)\n\u001b[0;32m     44\u001b[0m     scheduler\u001b[38;5;241m.\u001b[39mstep()                      \u001b[38;5;66;03m# OneCycle step per epoch\u001b[39;00m\n",
            "Cell \u001b[1;32mIn[10], line 25\u001b[0m, in \u001b[0;36mtrain\u001b[1;34m(model, device, train_loader, optimizer, epoch)\u001b[0m\n\u001b[0;32m     23\u001b[0m output \u001b[38;5;241m=\u001b[39m model(data)\n\u001b[0;32m     24\u001b[0m loss \u001b[38;5;241m=\u001b[39m criterion(output, target)\n\u001b[1;32m---> 25\u001b[0m \u001b[43mloss\u001b[49m\u001b[38;5;241;43m.\u001b[39;49m\u001b[43mbackward\u001b[49m\u001b[43m(\u001b[49m\u001b[43m)\u001b[49m\n\u001b[0;32m     26\u001b[0m optimizer\u001b[38;5;241m.\u001b[39mstep()\n\u001b[0;32m     28\u001b[0m running_loss \u001b[38;5;241m+\u001b[39m\u001b[38;5;241m=\u001b[39m loss\u001b[38;5;241m.\u001b[39mitem()\n",
            "File \u001b[1;32mc:\\Users\\achakravarti\\Documents\\ERAv4\\ERAv4\\.venv\\lib\\site-packages\\torch\\_tensor.py:647\u001b[0m, in \u001b[0;36mTensor.backward\u001b[1;34m(self, gradient, retain_graph, create_graph, inputs)\u001b[0m\n\u001b[0;32m    637\u001b[0m \u001b[38;5;28;01mif\u001b[39;00m has_torch_function_unary(\u001b[38;5;28mself\u001b[39m):\n\u001b[0;32m    638\u001b[0m     \u001b[38;5;28;01mreturn\u001b[39;00m handle_torch_function(\n\u001b[0;32m    639\u001b[0m         Tensor\u001b[38;5;241m.\u001b[39mbackward,\n\u001b[0;32m    640\u001b[0m         (\u001b[38;5;28mself\u001b[39m,),\n\u001b[1;32m   (...)\u001b[0m\n\u001b[0;32m    645\u001b[0m         inputs\u001b[38;5;241m=\u001b[39minputs,\n\u001b[0;32m    646\u001b[0m     )\n\u001b[1;32m--> 647\u001b[0m \u001b[43mtorch\u001b[49m\u001b[38;5;241;43m.\u001b[39;49m\u001b[43mautograd\u001b[49m\u001b[38;5;241;43m.\u001b[39;49m\u001b[43mbackward\u001b[49m\u001b[43m(\u001b[49m\n\u001b[0;32m    648\u001b[0m \u001b[43m    \u001b[49m\u001b[38;5;28;43mself\u001b[39;49m\u001b[43m,\u001b[49m\u001b[43m \u001b[49m\u001b[43mgradient\u001b[49m\u001b[43m,\u001b[49m\u001b[43m \u001b[49m\u001b[43mretain_graph\u001b[49m\u001b[43m,\u001b[49m\u001b[43m \u001b[49m\u001b[43mcreate_graph\u001b[49m\u001b[43m,\u001b[49m\u001b[43m \u001b[49m\u001b[43minputs\u001b[49m\u001b[38;5;241;43m=\u001b[39;49m\u001b[43minputs\u001b[49m\n\u001b[0;32m    649\u001b[0m \u001b[43m\u001b[49m\u001b[43m)\u001b[49m\n",
            "File \u001b[1;32mc:\\Users\\achakravarti\\Documents\\ERAv4\\ERAv4\\.venv\\lib\\site-packages\\torch\\autograd\\__init__.py:354\u001b[0m, in \u001b[0;36mbackward\u001b[1;34m(tensors, grad_tensors, retain_graph, create_graph, grad_variables, inputs)\u001b[0m\n\u001b[0;32m    349\u001b[0m     retain_graph \u001b[38;5;241m=\u001b[39m create_graph\n\u001b[0;32m    351\u001b[0m \u001b[38;5;66;03m# The reason we repeat the same comment below is that\u001b[39;00m\n\u001b[0;32m    352\u001b[0m \u001b[38;5;66;03m# some Python versions print out the first line of a multi-line function\u001b[39;00m\n\u001b[0;32m    353\u001b[0m \u001b[38;5;66;03m# calls in the traceback and some print out the last line\u001b[39;00m\n\u001b[1;32m--> 354\u001b[0m \u001b[43m_engine_run_backward\u001b[49m\u001b[43m(\u001b[49m\n\u001b[0;32m    355\u001b[0m \u001b[43m    \u001b[49m\u001b[43mtensors\u001b[49m\u001b[43m,\u001b[49m\n\u001b[0;32m    356\u001b[0m \u001b[43m    \u001b[49m\u001b[43mgrad_tensors_\u001b[49m\u001b[43m,\u001b[49m\n\u001b[0;32m    357\u001b[0m \u001b[43m    \u001b[49m\u001b[43mretain_graph\u001b[49m\u001b[43m,\u001b[49m\n\u001b[0;32m    358\u001b[0m \u001b[43m    \u001b[49m\u001b[43mcreate_graph\u001b[49m\u001b[43m,\u001b[49m\n\u001b[0;32m    359\u001b[0m \u001b[43m    \u001b[49m\u001b[43minputs_tuple\u001b[49m\u001b[43m,\u001b[49m\n\u001b[0;32m    360\u001b[0m \u001b[43m    \u001b[49m\u001b[43mallow_unreachable\u001b[49m\u001b[38;5;241;43m=\u001b[39;49m\u001b[38;5;28;43;01mTrue\u001b[39;49;00m\u001b[43m,\u001b[49m\n\u001b[0;32m    361\u001b[0m \u001b[43m    \u001b[49m\u001b[43maccumulate_grad\u001b[49m\u001b[38;5;241;43m=\u001b[39;49m\u001b[38;5;28;43;01mTrue\u001b[39;49;00m\u001b[43m,\u001b[49m\n\u001b[0;32m    362\u001b[0m \u001b[43m\u001b[49m\u001b[43m)\u001b[49m\n",
            "File \u001b[1;32mc:\\Users\\achakravarti\\Documents\\ERAv4\\ERAv4\\.venv\\lib\\site-packages\\torch\\autograd\\graph.py:829\u001b[0m, in \u001b[0;36m_engine_run_backward\u001b[1;34m(t_outputs, *args, **kwargs)\u001b[0m\n\u001b[0;32m    827\u001b[0m     unregister_hooks \u001b[38;5;241m=\u001b[39m _register_logging_hooks_on_whole_graph(t_outputs)\n\u001b[0;32m    828\u001b[0m \u001b[38;5;28;01mtry\u001b[39;00m:\n\u001b[1;32m--> 829\u001b[0m     \u001b[38;5;28;01mreturn\u001b[39;00m Variable\u001b[38;5;241m.\u001b[39m_execution_engine\u001b[38;5;241m.\u001b[39mrun_backward(  \u001b[38;5;66;03m# Calls into the C++ engine to run the backward pass\u001b[39;00m\n\u001b[0;32m    830\u001b[0m         t_outputs, \u001b[38;5;241m*\u001b[39margs, \u001b[38;5;241m*\u001b[39m\u001b[38;5;241m*\u001b[39mkwargs\n\u001b[0;32m    831\u001b[0m     )  \u001b[38;5;66;03m# Calls into the C++ engine to run the backward pass\u001b[39;00m\n\u001b[0;32m    832\u001b[0m \u001b[38;5;28;01mfinally\u001b[39;00m:\n\u001b[0;32m    833\u001b[0m     \u001b[38;5;28;01mif\u001b[39;00m attach_logging_hooks:\n",
            "\u001b[1;31mKeyboardInterrupt\u001b[0m: "
          ]
        }
      ],
      "source": [
        "# ============================================================\n",
        "# 3️⃣ Model, optimizer, scheduler setup\n",
        "# ============================================================\n",
        "\n",
        "# Example: customize your ResNet to use partial depthwise convs\n",
        "model = ResNet(layers=[2, 2, 3, 2], num_classes=100,\n",
        "               use_depthwise=(False, False, True, True)).to(device)\n",
        "\n",
        "# Initialize optimizer\n",
        "optimizer = torch.optim.Adam(model.parameters(), lr=1e-3, weight_decay=1e-4)\n",
        "\n",
        "# You already ran LR Finder earlier and got:\n",
        "# Suggested LR ≈ 0.187\n",
        "max_lr = 0.187    # Use from LR Finder output\n",
        "total_epochs = 40 # Full plan (even if train 20+20)\n",
        "scheduler = OneCycleLR(\n",
        "    optimizer,\n",
        "    max_lr=max_lr,\n",
        "    steps_per_epoch=len(train_loader),\n",
        "    epochs=total_epochs,\n",
        "    pct_start=0.3,\n",
        "    anneal_strategy=\"cos\",\n",
        "    div_factor=25.0,\n",
        "    final_div_factor=1e4,\n",
        ")\n",
        "\n",
        "# ============================================================\n",
        "# 4️⃣ Resume if checkpoint exists\n",
        "# ============================================================\n",
        "\n",
        "start_epoch = 0\n",
        "if os.path.exists(\"checkpoint.pt\"):\n",
        "    start_epoch, best_loss = load_checkpoint(model, optimizer, scheduler, \"checkpoint.pt\", device)\n",
        "else:\n",
        "    best_loss = float(\"inf\")\n",
        "\n",
        "# ============================================================\n",
        "# 5️⃣ Main training loop\n",
        "# ============================================================\n",
        "\n",
        "for epoch in range(start_epoch, total_epochs):\n",
        "    train(model, device, train_loader, optimizer, epoch)\n",
        "    test_loss = test(model, device, test_loader, epoch)\n",
        "    scheduler.step()                      # OneCycle step per epoch\n",
        "    save_checkpoint(model, optimizer, scheduler, epoch, best_loss)"
      ]
    },
    {
      "cell_type": "code",
      "execution_count": 23,
      "id": "VN5wWdYpNFhn",
      "metadata": {
        "colab": {
          "base_uri": "https://localhost:8080/"
        },
        "id": "VN5wWdYpNFhn",
        "outputId": "1995003e-624c-4caa-f432-85e29f399b39"
      },
      "outputs": [
        {
          "name": "stderr",
          "output_type": "stream",
          "text": [
            "loss=0.5696 batch_id=97: 100%|██████████| 98/98 [00:24<00:00,  4.07it/s]"
          ]
        },
        {
          "name": "stdout",
          "output_type": "stream",
          "text": [
            "\n",
            "Train set (epoch 0): Average loss: 0.5847, Accuracy: 39806/50000 (79.61%)\n",
            "\n"
          ]
        },
        {
          "name": "stderr",
          "output_type": "stream",
          "text": [
            "\n"
          ]
        },
        {
          "name": "stdout",
          "output_type": "stream",
          "text": [
            "Test set (epoch 0): Average loss: 0.5837, Accuracy: 7985/10000 (79.85%)\n",
            "\n"
          ]
        },
        {
          "name": "stderr",
          "output_type": "stream",
          "text": [
            "loss=0.6041 batch_id=97: 100%|██████████| 98/98 [00:22<00:00,  4.31it/s]"
          ]
        },
        {
          "name": "stdout",
          "output_type": "stream",
          "text": [
            "\n",
            "Train set (epoch 1): Average loss: 0.5879, Accuracy: 39636/50000 (79.27%)\n",
            "\n"
          ]
        },
        {
          "name": "stderr",
          "output_type": "stream",
          "text": [
            "\n"
          ]
        },
        {
          "name": "stdout",
          "output_type": "stream",
          "text": [
            "Test set (epoch 1): Average loss: 0.5638, Accuracy: 8096/10000 (80.96%)\n",
            "\n"
          ]
        },
        {
          "name": "stderr",
          "output_type": "stream",
          "text": [
            "loss=0.7177 batch_id=97: 100%|██████████| 98/98 [00:21<00:00,  4.59it/s]"
          ]
        },
        {
          "name": "stdout",
          "output_type": "stream",
          "text": [
            "\n",
            "Train set (epoch 2): Average loss: 0.5702, Accuracy: 40061/50000 (80.12%)\n",
            "\n"
          ]
        },
        {
          "name": "stderr",
          "output_type": "stream",
          "text": [
            "\n"
          ]
        },
        {
          "name": "stdout",
          "output_type": "stream",
          "text": [
            "Test set (epoch 2): Average loss: 0.5476, Accuracy: 8167/10000 (81.67%)\n",
            "\n"
          ]
        },
        {
          "name": "stderr",
          "output_type": "stream",
          "text": [
            "loss=0.6805 batch_id=97: 100%|██████████| 98/98 [00:21<00:00,  4.60it/s]"
          ]
        },
        {
          "name": "stdout",
          "output_type": "stream",
          "text": [
            "\n",
            "Train set (epoch 3): Average loss: 0.5639, Accuracy: 40175/50000 (80.35%)\n",
            "\n"
          ]
        },
        {
          "name": "stderr",
          "output_type": "stream",
          "text": [
            "\n"
          ]
        },
        {
          "name": "stdout",
          "output_type": "stream",
          "text": [
            "Test set (epoch 3): Average loss: 0.5637, Accuracy: 8142/10000 (81.42%)\n",
            "\n"
          ]
        },
        {
          "name": "stderr",
          "output_type": "stream",
          "text": [
            "loss=0.4775 batch_id=97: 100%|██████████| 98/98 [00:22<00:00,  4.32it/s]"
          ]
        },
        {
          "name": "stdout",
          "output_type": "stream",
          "text": [
            "\n",
            "Train set (epoch 4): Average loss: 0.5559, Accuracy: 40286/50000 (80.57%)\n",
            "\n"
          ]
        },
        {
          "name": "stderr",
          "output_type": "stream",
          "text": [
            "\n"
          ]
        },
        {
          "name": "stdout",
          "output_type": "stream",
          "text": [
            "Test set (epoch 4): Average loss: 0.5264, Accuracy: 8235/10000 (82.35%)\n",
            "\n",
            "✅ Saved new best model at epoch 4 with loss 0.5264\n"
          ]
        },
        {
          "name": "stderr",
          "output_type": "stream",
          "text": [
            "loss=0.5847 batch_id=97: 100%|██████████| 98/98 [00:21<00:00,  4.54it/s]"
          ]
        },
        {
          "name": "stdout",
          "output_type": "stream",
          "text": [
            "\n",
            "Train set (epoch 5): Average loss: 0.5513, Accuracy: 40369/50000 (80.74%)\n",
            "\n"
          ]
        },
        {
          "name": "stderr",
          "output_type": "stream",
          "text": [
            "\n"
          ]
        },
        {
          "name": "stdout",
          "output_type": "stream",
          "text": [
            "Test set (epoch 5): Average loss: 0.5180, Accuracy: 8219/10000 (82.19%)\n",
            "\n",
            "✅ Saved new best model at epoch 5 with loss 0.5180\n"
          ]
        },
        {
          "name": "stderr",
          "output_type": "stream",
          "text": [
            "loss=0.5618 batch_id=97: 100%|██████████| 98/98 [00:21<00:00,  4.63it/s]"
          ]
        },
        {
          "name": "stdout",
          "output_type": "stream",
          "text": [
            "\n",
            "Train set (epoch 6): Average loss: 0.5388, Accuracy: 40606/50000 (81.21%)\n",
            "\n"
          ]
        },
        {
          "name": "stderr",
          "output_type": "stream",
          "text": [
            "\n"
          ]
        },
        {
          "name": "stdout",
          "output_type": "stream",
          "text": [
            "Test set (epoch 6): Average loss: 0.5225, Accuracy: 8222/10000 (82.22%)\n",
            "\n"
          ]
        },
        {
          "name": "stderr",
          "output_type": "stream",
          "text": [
            "loss=0.6413 batch_id=97: 100%|██████████| 98/98 [00:22<00:00,  4.33it/s]"
          ]
        },
        {
          "name": "stdout",
          "output_type": "stream",
          "text": [
            "\n",
            "Train set (epoch 7): Average loss: 0.5291, Accuracy: 40745/50000 (81.49%)\n",
            "\n"
          ]
        },
        {
          "name": "stderr",
          "output_type": "stream",
          "text": [
            "\n"
          ]
        },
        {
          "name": "stdout",
          "output_type": "stream",
          "text": [
            "Test set (epoch 7): Average loss: 0.5505, Accuracy: 8122/10000 (81.22%)\n",
            "\n"
          ]
        },
        {
          "name": "stderr",
          "output_type": "stream",
          "text": [
            "loss=0.4868 batch_id=97: 100%|██████████| 98/98 [00:22<00:00,  4.44it/s]"
          ]
        },
        {
          "name": "stdout",
          "output_type": "stream",
          "text": [
            "\n",
            "Train set (epoch 8): Average loss: 0.5224, Accuracy: 40877/50000 (81.75%)\n",
            "\n"
          ]
        },
        {
          "name": "stderr",
          "output_type": "stream",
          "text": [
            "\n"
          ]
        },
        {
          "name": "stdout",
          "output_type": "stream",
          "text": [
            "Test set (epoch 8): Average loss: 0.5585, Accuracy: 8142/10000 (81.42%)\n",
            "\n"
          ]
        },
        {
          "name": "stderr",
          "output_type": "stream",
          "text": [
            "loss=0.5795 batch_id=97: 100%|██████████| 98/98 [00:21<00:00,  4.52it/s]"
          ]
        },
        {
          "name": "stdout",
          "output_type": "stream",
          "text": [
            "\n",
            "Train set (epoch 9): Average loss: 0.5185, Accuracy: 41005/50000 (82.01%)\n",
            "\n"
          ]
        },
        {
          "name": "stderr",
          "output_type": "stream",
          "text": [
            "\n"
          ]
        },
        {
          "name": "stdout",
          "output_type": "stream",
          "text": [
            "Test set (epoch 9): Average loss: 0.5965, Accuracy: 8019/10000 (80.19%)\n",
            "\n"
          ]
        },
        {
          "name": "stderr",
          "output_type": "stream",
          "text": [
            "loss=0.5530 batch_id=97: 100%|██████████| 98/98 [00:24<00:00,  4.06it/s]"
          ]
        },
        {
          "name": "stdout",
          "output_type": "stream",
          "text": [
            "\n",
            "Train set (epoch 10): Average loss: 0.5120, Accuracy: 41109/50000 (82.22%)\n",
            "\n"
          ]
        },
        {
          "name": "stderr",
          "output_type": "stream",
          "text": [
            "\n"
          ]
        },
        {
          "name": "stdout",
          "output_type": "stream",
          "text": [
            "Test set (epoch 10): Average loss: 0.5098, Accuracy: 8283/10000 (82.83%)\n",
            "\n",
            "✅ Saved new best model at epoch 10 with loss 0.5098\n"
          ]
        },
        {
          "name": "stderr",
          "output_type": "stream",
          "text": [
            "loss=0.5837 batch_id=97: 100%|██████████| 98/98 [00:23<00:00,  4.26it/s]"
          ]
        },
        {
          "name": "stdout",
          "output_type": "stream",
          "text": [
            "\n",
            "Train set (epoch 11): Average loss: 0.5049, Accuracy: 41179/50000 (82.36%)\n",
            "\n"
          ]
        },
        {
          "name": "stderr",
          "output_type": "stream",
          "text": [
            "\n"
          ]
        },
        {
          "name": "stdout",
          "output_type": "stream",
          "text": [
            "Test set (epoch 11): Average loss: 0.5017, Accuracy: 8341/10000 (83.41%)\n",
            "\n",
            "✅ Saved new best model at epoch 11 with loss 0.5017\n"
          ]
        },
        {
          "name": "stderr",
          "output_type": "stream",
          "text": [
            "loss=0.5285 batch_id=97: 100%|██████████| 98/98 [00:21<00:00,  4.52it/s]"
          ]
        },
        {
          "name": "stdout",
          "output_type": "stream",
          "text": [
            "\n",
            "Train set (epoch 12): Average loss: 0.5029, Accuracy: 41232/50000 (82.46%)\n",
            "\n"
          ]
        },
        {
          "name": "stderr",
          "output_type": "stream",
          "text": [
            "\n"
          ]
        },
        {
          "name": "stdout",
          "output_type": "stream",
          "text": [
            "Test set (epoch 12): Average loss: 0.5066, Accuracy: 8311/10000 (83.11%)\n",
            "\n"
          ]
        },
        {
          "name": "stderr",
          "output_type": "stream",
          "text": [
            "loss=0.4916 batch_id=97: 100%|██████████| 98/98 [00:23<00:00,  4.22it/s]"
          ]
        },
        {
          "name": "stdout",
          "output_type": "stream",
          "text": [
            "\n",
            "Train set (epoch 13): Average loss: 0.4972, Accuracy: 41317/50000 (82.63%)\n",
            "\n"
          ]
        },
        {
          "name": "stderr",
          "output_type": "stream",
          "text": [
            "\n"
          ]
        },
        {
          "name": "stdout",
          "output_type": "stream",
          "text": [
            "Test set (epoch 13): Average loss: 0.4898, Accuracy: 8341/10000 (83.41%)\n",
            "\n",
            "✅ Saved new best model at epoch 13 with loss 0.4898\n"
          ]
        },
        {
          "name": "stderr",
          "output_type": "stream",
          "text": [
            "loss=0.5426 batch_id=97: 100%|██████████| 98/98 [00:22<00:00,  4.29it/s]"
          ]
        },
        {
          "name": "stdout",
          "output_type": "stream",
          "text": [
            "\n",
            "Train set (epoch 14): Average loss: 0.4886, Accuracy: 41452/50000 (82.90%)\n",
            "\n"
          ]
        },
        {
          "name": "stderr",
          "output_type": "stream",
          "text": [
            "\n"
          ]
        },
        {
          "name": "stdout",
          "output_type": "stream",
          "text": [
            "Test set (epoch 14): Average loss: 0.5221, Accuracy: 8246/10000 (82.46%)\n",
            "\n"
          ]
        },
        {
          "name": "stderr",
          "output_type": "stream",
          "text": [
            "loss=0.4167 batch_id=97: 100%|██████████| 98/98 [00:21<00:00,  4.56it/s]"
          ]
        },
        {
          "name": "stdout",
          "output_type": "stream",
          "text": [
            "\n",
            "Train set (epoch 15): Average loss: 0.4866, Accuracy: 41561/50000 (83.12%)\n",
            "\n"
          ]
        },
        {
          "name": "stderr",
          "output_type": "stream",
          "text": [
            "\n"
          ]
        },
        {
          "name": "stdout",
          "output_type": "stream",
          "text": [
            "Test set (epoch 15): Average loss: 0.5043, Accuracy: 8335/10000 (83.35%)\n",
            "\n"
          ]
        },
        {
          "name": "stderr",
          "output_type": "stream",
          "text": [
            "loss=0.4123 batch_id=97: 100%|██████████| 98/98 [00:22<00:00,  4.34it/s]"
          ]
        },
        {
          "name": "stdout",
          "output_type": "stream",
          "text": [
            "\n",
            "Train set (epoch 16): Average loss: 0.4789, Accuracy: 41651/50000 (83.30%)\n",
            "\n"
          ]
        },
        {
          "name": "stderr",
          "output_type": "stream",
          "text": [
            "\n"
          ]
        },
        {
          "name": "stdout",
          "output_type": "stream",
          "text": [
            "Test set (epoch 16): Average loss: 0.5319, Accuracy: 8308/10000 (83.08%)\n",
            "\n"
          ]
        },
        {
          "name": "stderr",
          "output_type": "stream",
          "text": [
            "loss=0.5997 batch_id=97: 100%|██████████| 98/98 [00:23<00:00,  4.16it/s]"
          ]
        },
        {
          "name": "stdout",
          "output_type": "stream",
          "text": [
            "\n",
            "Train set (epoch 17): Average loss: 0.4761, Accuracy: 41706/50000 (83.41%)\n",
            "\n"
          ]
        },
        {
          "name": "stderr",
          "output_type": "stream",
          "text": [
            "\n"
          ]
        },
        {
          "name": "stdout",
          "output_type": "stream",
          "text": [
            "Test set (epoch 17): Average loss: 0.5031, Accuracy: 8342/10000 (83.42%)\n",
            "\n"
          ]
        },
        {
          "name": "stderr",
          "output_type": "stream",
          "text": [
            "loss=0.4670 batch_id=97: 100%|██████████| 98/98 [00:22<00:00,  4.27it/s]"
          ]
        },
        {
          "name": "stdout",
          "output_type": "stream",
          "text": [
            "\n",
            "Train set (epoch 18): Average loss: 0.4703, Accuracy: 41787/50000 (83.57%)\n",
            "\n"
          ]
        },
        {
          "name": "stderr",
          "output_type": "stream",
          "text": [
            "\n"
          ]
        },
        {
          "name": "stdout",
          "output_type": "stream",
          "text": [
            "Test set (epoch 18): Average loss: 0.5174, Accuracy: 8297/10000 (82.97%)\n",
            "\n"
          ]
        },
        {
          "name": "stderr",
          "output_type": "stream",
          "text": [
            "loss=0.4681 batch_id=97: 100%|██████████| 98/98 [00:21<00:00,  4.49it/s]"
          ]
        },
        {
          "name": "stdout",
          "output_type": "stream",
          "text": [
            "\n",
            "Train set (epoch 19): Average loss: 0.4706, Accuracy: 41764/50000 (83.53%)\n",
            "\n"
          ]
        },
        {
          "name": "stderr",
          "output_type": "stream",
          "text": [
            "\n"
          ]
        },
        {
          "name": "stdout",
          "output_type": "stream",
          "text": [
            "Test set (epoch 19): Average loss: 0.5649, Accuracy: 8131/10000 (81.31%)\n",
            "\n"
          ]
        }
      ],
      "source": [
        "for epoch in range(20):\n",
        "    train(model, device, train_loader, optimizer, epoch)\n",
        "    test_loss = test(model, device, test_loader, epoch)\n",
        "    reduce_lr.step(test_loss)"
      ]
    },
    {
      "cell_type": "code",
      "execution_count": 24,
      "id": "ZSwWl_dyPDp8",
      "metadata": {
        "colab": {
          "base_uri": "https://localhost:8080/"
        },
        "id": "ZSwWl_dyPDp8",
        "outputId": "d95629ca-bde7-4bbc-b8f0-74f884f33532"
      },
      "outputs": [
        {
          "name": "stderr",
          "output_type": "stream",
          "text": [
            "loss=0.4786 batch_id=97: 100%|██████████| 98/98 [00:23<00:00,  4.23it/s]"
          ]
        },
        {
          "name": "stdout",
          "output_type": "stream",
          "text": [
            "\n",
            "Train set (epoch 0): Average loss: 0.4662, Accuracy: 41861/50000 (83.72%)\n",
            "\n"
          ]
        },
        {
          "name": "stderr",
          "output_type": "stream",
          "text": [
            "\n"
          ]
        },
        {
          "name": "stdout",
          "output_type": "stream",
          "text": [
            "Test set (epoch 0): Average loss: 0.4929, Accuracy: 8346/10000 (83.46%)\n",
            "\n"
          ]
        },
        {
          "name": "stderr",
          "output_type": "stream",
          "text": [
            "loss=0.4998 batch_id=97: 100%|██████████| 98/98 [00:23<00:00,  4.22it/s]"
          ]
        },
        {
          "name": "stdout",
          "output_type": "stream",
          "text": [
            "\n",
            "Train set (epoch 1): Average loss: 0.4574, Accuracy: 42011/50000 (84.02%)\n",
            "\n"
          ]
        },
        {
          "name": "stderr",
          "output_type": "stream",
          "text": [
            "\n"
          ]
        },
        {
          "name": "stdout",
          "output_type": "stream",
          "text": [
            "Test set (epoch 1): Average loss: 0.5427, Accuracy: 8160/10000 (81.60%)\n",
            "\n"
          ]
        },
        {
          "name": "stderr",
          "output_type": "stream",
          "text": [
            "loss=0.4901 batch_id=97: 100%|██████████| 98/98 [00:21<00:00,  4.56it/s]"
          ]
        },
        {
          "name": "stdout",
          "output_type": "stream",
          "text": [
            "\n",
            "Train set (epoch 2): Average loss: 0.4522, Accuracy: 42022/50000 (84.04%)\n",
            "\n"
          ]
        },
        {
          "name": "stderr",
          "output_type": "stream",
          "text": [
            "\n"
          ]
        },
        {
          "name": "stdout",
          "output_type": "stream",
          "text": [
            "Test set (epoch 2): Average loss: 0.5254, Accuracy: 8275/10000 (82.75%)\n",
            "\n"
          ]
        },
        {
          "name": "stderr",
          "output_type": "stream",
          "text": [
            "loss=0.5078 batch_id=97: 100%|██████████| 98/98 [00:23<00:00,  4.20it/s]"
          ]
        },
        {
          "name": "stdout",
          "output_type": "stream",
          "text": [
            "\n",
            "Train set (epoch 3): Average loss: 0.4497, Accuracy: 42141/50000 (84.28%)\n",
            "\n"
          ]
        },
        {
          "name": "stderr",
          "output_type": "stream",
          "text": [
            "\n"
          ]
        },
        {
          "name": "stdout",
          "output_type": "stream",
          "text": [
            "Test set (epoch 3): Average loss: 0.5009, Accuracy: 8343/10000 (83.43%)\n",
            "\n"
          ]
        },
        {
          "name": "stderr",
          "output_type": "stream",
          "text": [
            "loss=0.3861 batch_id=97: 100%|██████████| 98/98 [00:23<00:00,  4.19it/s]"
          ]
        },
        {
          "name": "stdout",
          "output_type": "stream",
          "text": [
            "\n",
            "Train set (epoch 4): Average loss: 0.4449, Accuracy: 42159/50000 (84.32%)\n",
            "\n"
          ]
        },
        {
          "name": "stderr",
          "output_type": "stream",
          "text": [
            "\n"
          ]
        },
        {
          "name": "stdout",
          "output_type": "stream",
          "text": [
            "Test set (epoch 4): Average loss: 0.4824, Accuracy: 8403/10000 (84.03%)\n",
            "\n",
            "✅ Saved new best model at epoch 4 with loss 0.4824\n"
          ]
        },
        {
          "name": "stderr",
          "output_type": "stream",
          "text": [
            "loss=0.4255 batch_id=97: 100%|██████████| 98/98 [00:22<00:00,  4.32it/s]"
          ]
        },
        {
          "name": "stdout",
          "output_type": "stream",
          "text": [
            "\n",
            "Train set (epoch 5): Average loss: 0.4326, Accuracy: 42491/50000 (84.98%)\n",
            "\n"
          ]
        },
        {
          "name": "stderr",
          "output_type": "stream",
          "text": [
            "\n"
          ]
        },
        {
          "name": "stdout",
          "output_type": "stream",
          "text": [
            "Test set (epoch 5): Average loss: 0.4741, Accuracy: 8414/10000 (84.14%)\n",
            "\n",
            "✅ Saved new best model at epoch 5 with loss 0.4741\n"
          ]
        },
        {
          "name": "stderr",
          "output_type": "stream",
          "text": [
            "loss=0.4470 batch_id=97: 100%|██████████| 98/98 [00:21<00:00,  4.56it/s]"
          ]
        },
        {
          "name": "stdout",
          "output_type": "stream",
          "text": [
            "\n",
            "Train set (epoch 6): Average loss: 0.4374, Accuracy: 42366/50000 (84.73%)\n",
            "\n"
          ]
        },
        {
          "name": "stderr",
          "output_type": "stream",
          "text": [
            "\n"
          ]
        },
        {
          "name": "stdout",
          "output_type": "stream",
          "text": [
            "Test set (epoch 6): Average loss: 0.4762, Accuracy: 8417/10000 (84.17%)\n",
            "\n"
          ]
        },
        {
          "name": "stderr",
          "output_type": "stream",
          "text": [
            "loss=0.3850 batch_id=97: 100%|██████████| 98/98 [00:23<00:00,  4.24it/s]"
          ]
        },
        {
          "name": "stdout",
          "output_type": "stream",
          "text": [
            "\n",
            "Train set (epoch 7): Average loss: 0.4383, Accuracy: 42336/50000 (84.67%)\n",
            "\n"
          ]
        },
        {
          "name": "stderr",
          "output_type": "stream",
          "text": [
            "\n"
          ]
        },
        {
          "name": "stdout",
          "output_type": "stream",
          "text": [
            "Test set (epoch 7): Average loss: 0.4826, Accuracy: 8403/10000 (84.03%)\n",
            "\n"
          ]
        },
        {
          "name": "stderr",
          "output_type": "stream",
          "text": [
            "loss=0.3967 batch_id=97: 100%|██████████| 98/98 [00:22<00:00,  4.33it/s]"
          ]
        },
        {
          "name": "stdout",
          "output_type": "stream",
          "text": [
            "\n",
            "Train set (epoch 8): Average loss: 0.4368, Accuracy: 42283/50000 (84.57%)\n",
            "\n"
          ]
        },
        {
          "name": "stderr",
          "output_type": "stream",
          "text": [
            "\n"
          ]
        },
        {
          "name": "stdout",
          "output_type": "stream",
          "text": [
            "Test set (epoch 8): Average loss: 0.4828, Accuracy: 8447/10000 (84.47%)\n",
            "\n"
          ]
        },
        {
          "name": "stderr",
          "output_type": "stream",
          "text": [
            "loss=0.4865 batch_id=97: 100%|██████████| 98/98 [00:23<00:00,  4.22it/s]"
          ]
        },
        {
          "name": "stdout",
          "output_type": "stream",
          "text": [
            "\n",
            "Train set (epoch 9): Average loss: 0.4294, Accuracy: 42446/50000 (84.89%)\n",
            "\n"
          ]
        },
        {
          "name": "stderr",
          "output_type": "stream",
          "text": [
            "\n"
          ]
        },
        {
          "name": "stdout",
          "output_type": "stream",
          "text": [
            "Test set (epoch 9): Average loss: 0.5093, Accuracy: 8368/10000 (83.68%)\n",
            "\n"
          ]
        },
        {
          "name": "stderr",
          "output_type": "stream",
          "text": [
            "loss=0.4022 batch_id=97: 100%|██████████| 98/98 [00:21<00:00,  4.55it/s]"
          ]
        },
        {
          "name": "stdout",
          "output_type": "stream",
          "text": [
            "\n",
            "Train set (epoch 10): Average loss: 0.4200, Accuracy: 42696/50000 (85.39%)\n",
            "\n"
          ]
        },
        {
          "name": "stderr",
          "output_type": "stream",
          "text": [
            "\n"
          ]
        },
        {
          "name": "stdout",
          "output_type": "stream",
          "text": [
            "Test set (epoch 10): Average loss: 0.4462, Accuracy: 8507/10000 (85.07%)\n",
            "\n",
            "✅ Saved new best model at epoch 10 with loss 0.4462\n"
          ]
        },
        {
          "name": "stderr",
          "output_type": "stream",
          "text": [
            "loss=0.5128 batch_id=97: 100%|██████████| 98/98 [00:22<00:00,  4.28it/s]"
          ]
        },
        {
          "name": "stdout",
          "output_type": "stream",
          "text": [
            "\n",
            "Train set (epoch 11): Average loss: 0.4221, Accuracy: 42688/50000 (85.38%)\n",
            "\n"
          ]
        },
        {
          "name": "stderr",
          "output_type": "stream",
          "text": [
            "\n"
          ]
        },
        {
          "name": "stdout",
          "output_type": "stream",
          "text": [
            "Test set (epoch 11): Average loss: 0.4847, Accuracy: 8430/10000 (84.30%)\n",
            "\n"
          ]
        },
        {
          "name": "stderr",
          "output_type": "stream",
          "text": [
            "loss=0.4154 batch_id=97: 100%|██████████| 98/98 [00:22<00:00,  4.33it/s]"
          ]
        },
        {
          "name": "stdout",
          "output_type": "stream",
          "text": [
            "\n",
            "Train set (epoch 12): Average loss: 0.4166, Accuracy: 42738/50000 (85.48%)\n",
            "\n"
          ]
        },
        {
          "name": "stderr",
          "output_type": "stream",
          "text": [
            "\n"
          ]
        },
        {
          "name": "stdout",
          "output_type": "stream",
          "text": [
            "Test set (epoch 12): Average loss: 0.5236, Accuracy: 8299/10000 (82.99%)\n",
            "\n"
          ]
        },
        {
          "name": "stderr",
          "output_type": "stream",
          "text": [
            "loss=0.4289 batch_id=97: 100%|██████████| 98/98 [00:21<00:00,  4.54it/s]"
          ]
        },
        {
          "name": "stdout",
          "output_type": "stream",
          "text": [
            "\n",
            "Train set (epoch 13): Average loss: 0.4200, Accuracy: 42626/50000 (85.25%)\n",
            "\n"
          ]
        },
        {
          "name": "stderr",
          "output_type": "stream",
          "text": [
            "\n"
          ]
        },
        {
          "name": "stdout",
          "output_type": "stream",
          "text": [
            "Test set (epoch 13): Average loss: 0.4545, Accuracy: 8529/10000 (85.29%)\n",
            "\n"
          ]
        },
        {
          "name": "stderr",
          "output_type": "stream",
          "text": [
            "loss=0.4195 batch_id=97: 100%|██████████| 98/98 [00:22<00:00,  4.32it/s]"
          ]
        },
        {
          "name": "stdout",
          "output_type": "stream",
          "text": [
            "\n",
            "Train set (epoch 14): Average loss: 0.4127, Accuracy: 42669/50000 (85.34%)\n",
            "\n"
          ]
        },
        {
          "name": "stderr",
          "output_type": "stream",
          "text": [
            "\n"
          ]
        },
        {
          "name": "stdout",
          "output_type": "stream",
          "text": [
            "Test set (epoch 14): Average loss: 0.5054, Accuracy: 8335/10000 (83.35%)\n",
            "\n"
          ]
        },
        {
          "name": "stderr",
          "output_type": "stream",
          "text": [
            "loss=0.4498 batch_id=97: 100%|██████████| 98/98 [00:23<00:00,  4.24it/s]"
          ]
        },
        {
          "name": "stdout",
          "output_type": "stream",
          "text": [
            "\n",
            "Train set (epoch 15): Average loss: 0.4136, Accuracy: 42738/50000 (85.48%)\n",
            "\n"
          ]
        },
        {
          "name": "stderr",
          "output_type": "stream",
          "text": [
            "\n"
          ]
        },
        {
          "name": "stdout",
          "output_type": "stream",
          "text": [
            "Test set (epoch 15): Average loss: 0.5041, Accuracy: 8336/10000 (83.36%)\n",
            "\n"
          ]
        },
        {
          "name": "stderr",
          "output_type": "stream",
          "text": [
            "loss=0.4493 batch_id=97: 100%|██████████| 98/98 [00:22<00:00,  4.45it/s]"
          ]
        },
        {
          "name": "stdout",
          "output_type": "stream",
          "text": [
            "\n",
            "Train set (epoch 16): Average loss: 0.4045, Accuracy: 42933/50000 (85.87%)\n",
            "\n"
          ]
        },
        {
          "name": "stderr",
          "output_type": "stream",
          "text": [
            "\n"
          ]
        },
        {
          "name": "stdout",
          "output_type": "stream",
          "text": [
            "Test set (epoch 16): Average loss: 0.4887, Accuracy: 8450/10000 (84.50%)\n",
            "\n"
          ]
        },
        {
          "name": "stderr",
          "output_type": "stream",
          "text": [
            "loss=0.4353 batch_id=97: 100%|██████████| 98/98 [00:21<00:00,  4.49it/s]"
          ]
        },
        {
          "name": "stdout",
          "output_type": "stream",
          "text": [
            "\n",
            "Train set (epoch 17): Average loss: 0.4036, Accuracy: 42962/50000 (85.92%)\n",
            "\n"
          ]
        },
        {
          "name": "stderr",
          "output_type": "stream",
          "text": [
            "\n"
          ]
        },
        {
          "name": "stdout",
          "output_type": "stream",
          "text": [
            "Test set (epoch 17): Average loss: 0.4672, Accuracy: 8453/10000 (84.53%)\n",
            "\n"
          ]
        },
        {
          "name": "stderr",
          "output_type": "stream",
          "text": [
            "loss=0.3680 batch_id=97: 100%|██████████| 98/98 [00:22<00:00,  4.29it/s]"
          ]
        },
        {
          "name": "stdout",
          "output_type": "stream",
          "text": [
            "\n",
            "Train set (epoch 18): Average loss: 0.4051, Accuracy: 42841/50000 (85.68%)\n",
            "\n"
          ]
        },
        {
          "name": "stderr",
          "output_type": "stream",
          "text": [
            "\n"
          ]
        },
        {
          "name": "stdout",
          "output_type": "stream",
          "text": [
            "Test set (epoch 18): Average loss: 0.4935, Accuracy: 8430/10000 (84.30%)\n",
            "\n"
          ]
        },
        {
          "name": "stderr",
          "output_type": "stream",
          "text": [
            "loss=0.3911 batch_id=97: 100%|██████████| 98/98 [00:23<00:00,  4.20it/s]"
          ]
        },
        {
          "name": "stdout",
          "output_type": "stream",
          "text": [
            "\n",
            "Train set (epoch 19): Average loss: 0.3944, Accuracy: 43100/50000 (86.20%)\n",
            "\n"
          ]
        },
        {
          "name": "stderr",
          "output_type": "stream",
          "text": [
            "\n"
          ]
        },
        {
          "name": "stdout",
          "output_type": "stream",
          "text": [
            "Test set (epoch 19): Average loss: 0.4612, Accuracy: 8471/10000 (84.71%)\n",
            "\n"
          ]
        }
      ],
      "source": [
        "for epoch in range(20):\n",
        "    train(model, device, train_loader, optimizer, epoch)\n",
        "    test_loss = test(model, device, test_loader, epoch)\n",
        "    reduce_lr.step(test_loss)"
      ]
    },
    {
      "cell_type": "code",
      "execution_count": 25,
      "id": "qL3wSsh5eRrm",
      "metadata": {
        "colab": {
          "base_uri": "https://localhost:8080/",
          "height": 872
        },
        "id": "qL3wSsh5eRrm",
        "outputId": "88c8530c-7df0-407d-8004-f6eba54672b6"
      },
      "outputs": [
        {
          "data": {
            "image/png": "[encoded data removed]",
            "text/plain": [
              "<Figure size 1000x1000 with 4 Axes>"
            ]
          },
          "metadata": {},
          "output_type": "display_data"
        }
      ],
      "source": [
        "fig, axs = plt.subplots(2, 2, figsize=(10, 10))\n",
        "\n",
        "axs[0,0].plot(train_loss_data, label='Train Loss')\n",
        "axs[0,0].set_xlabel('Batch')\n",
        "axs[0,0].set_ylabel('Loss')\n",
        "axs[0,0].set_title('Train Loss')\n",
        "axs[0,0].grid(True)\n",
        "axs[0,0].legend()\n",
        "\n",
        "axs[0,1].plot(test_loss_data, label='Test Loss')\n",
        "axs[0,1].set_xlabel('Epoch')\n",
        "axs[0,1].set_ylabel('Loss')\n",
        "axs[0,1].set_title('Test Loss')\n",
        "axs[0,1].grid(True)\n",
        "axs[0,1].legend()\n",
        "\n",
        "axs[1,0].plot(train_accuracy, label='Train Accuracy')\n",
        "axs[1,0].set_xlabel('Epoch')\n",
        "axs[1,0].set_ylabel('Accuracy')\n",
        "axs[1,0].set_title('Train Accuracy')\n",
        "axs[1,0].grid(True)\n",
        "axs[1,0].legend()\n",
        "\n",
        "axs[1,1].plot(test_accuracy, label='Test Accuracy')\n",
        "axs[1,1].set_xlabel('Epoch')\n",
        "axs[1,1].set_ylabel('Accuracy')\n",
        "axs[1,1].set_title('Test Accuracy')\n",
        "axs[1,1].grid(True)\n",
        "axs[1,1].legend()\n",
        "\n",
        "plt.show()"
      ]
    }
  ],
  "metadata": {
    "accelerator": "GPU",
    "colab": {
      "gpuType": "T4",
      "provenance": []
    },
    "kernelspec": {
      "display_name": "erav4",
      "language": "python",
      "name": "python3"
    },
    "language_info": {
      "codemirror_mode": {
        "name": "ipython",
        "version": 3
      },
      "file_extension": ".py",
      "mimetype": "text/x-python",
      "name": "python",
      "nbconvert_exporter": "python",
      "pygments_lexer": "ipython3",
      "version": "3.9.23"
    }
  },
  "nbformat": 4,
  "nbformat_minor": 5
}
