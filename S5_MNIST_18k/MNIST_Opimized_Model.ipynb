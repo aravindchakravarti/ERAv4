{
  "nbformat": 4,
  "nbformat_minor": 0,
  "metadata": {
    "colab": {
      "provenance": [],
      "gpuType": "T4"
    },
    "kernelspec": {
      "name": "python3",
      "display_name": "Python 3"
    },
    "accelerator": "GPU"
  },
  "cells": [
    {
      "cell_type": "markdown",
      "source": [
        "## Constraints:\n",
        "### Number of Parameters = <20k\n",
        "### Number of epochs = 20\n",
        "### Efficiency = 99.4 %"
      ],
      "metadata": {
        "id": "5rLUI31McDxd"
      }
    },
    {
      "cell_type": "code",
      "metadata": {
        "id": "0m2JWFliFfKT",
        "colab": {
          "base_uri": "https://localhost:8080/"
        },
        "outputId": "54c4f131-08af-4f87-c583-e500f35b53d5"
      },
      "source": [
        "from __future__ import print_function\n",
        "import torch\n",
        "import torch.nn as nn\n",
        "import torch.nn.functional as F\n",
        "import torch.optim as optim\n",
        "from torchvision import datasets, transforms\n",
        "!pip install torchsummary\n",
        "from torchsummary import summary\n",
        "from tqdm import tqdm"
      ],
      "execution_count": 8,
      "outputs": [
        {
          "output_type": "stream",
          "name": "stdout",
          "text": [
            "Requirement already satisfied: torchsummary in /usr/local/lib/python3.12/dist-packages (1.5.1)\n"
          ]
        }
      ]
    },
    {
      "cell_type": "code",
      "metadata": {
        "id": "h_Cx9q2QFgM7",
        "colab": {
          "base_uri": "https://localhost:8080/",
          "height": 122
        },
        "outputId": "58f6f5f8-97cb-4643-eb4e-f4731eaf94e8"
      },
      "source": [
        "class Net(nn.Module):\n",
        "    def __init__(self):\n",
        "        super(Net, self).__init__()\n",
        "        self.conv11 = nn.Conv2d(in_channels=1, out_channels=8, kernel_size=3, padding=1)     #input-28 Output-28 RF-1\n",
        "        self.batch11 = nn.BatchNorm2d(8)\n",
        "        self.conv12 = nn.Conv2d(in_channels=8, out_channels=8, kernel_size=3, padding=1)\n",
        "        self.batch12 = nn.BatchNorm2d(8)\n",
        "        self.conv13 = nn.Conv2d(in_channels=8, out_channels=16, kernel_size=1)\n",
        "        self.batch13 = nn.BatchNorm2d(16)\n",
        "        self.pool14 = nn.MaxPool2d(2, 2)                                                      #input-28 Output-14 RF-\n",
        "\n",
        "        self.conv21 = nn.Conv2d(in_channels=16, out_channels=16, kernel_size=3, padding=1)    #input-14 Output-14 RF-\n",
        "        self.batch21 = nn.BatchNorm2d(16)\n",
        "        self.conv22 = nn.Conv2d(in_channels=16, out_channels=16, kernel_size=3, padding=1)\n",
        "        self.batch22 = nn.BatchNorm2d(16)\n",
        "        self.conv23 = nn.Conv2d(in_channels=16, out_channels=32, kernel_size=1)\n",
        "        self.batch23 = nn.BatchNorm2d(32)\n",
        "        self.pool24 = nn.MaxPool2d(2, 2)                                                      #input-14 Output-07 RF-\n",
        "\n",
        "        self.conv31 = nn.Conv2d(in_channels=32, out_channels=32, kernel_size=3, padding=1)    #input-07 Output-07 RF-\n",
        "        self.batch31 = nn.BatchNorm2d(32)\n",
        "        self.conv32 = nn.Conv2d(in_channels=32, out_channels=10, kernel_size=3, padding=1)\n",
        "        self.batch32 = nn.BatchNorm2d(10)\n",
        "        # self.conv33 = nn.Conv2d(in_channels=10, out_channels=10, kernel_size=7)\n",
        "\n",
        "\n",
        "    def forward(self, x):\n",
        "        x = F.relu(self.batch11(self.conv11(x)))\n",
        "        x = F.relu(self.batch12(self.conv12(x)))\n",
        "        x = F.relu(self.batch13(self.conv13(x)))\n",
        "        x = self.pool14(x)\n",
        "\n",
        "        # print(x.shape)\n",
        "\n",
        "        x = F.relu(self.batch21(self.conv21(x)))\n",
        "        x = F.relu(self.batch22(self.conv22(x)))\n",
        "        x = F.relu(self.batch23(self.conv23(x)))\n",
        "        x = self.pool24(x)\n",
        "\n",
        "        # print(x.shape)\n",
        "\n",
        "        x = F.relu(self.batch31(self.conv31(x)))\n",
        "        x = F.relu(self.batch32(self.conv32(x)))\n",
        "        # x = self.conv33(x)\n",
        "        x = F.adaptive_avg_pool2d(x, (1,1))\n",
        "\n",
        "        # print(x.shape)\n",
        "        x = torch.flatten(x, 1)\n",
        "        # x = x.view(-1, 10)\n",
        "\n",
        "        return x\n",
        "\n",
        "current_model = Net()\n",
        "dummy_data = torch.randn(5, 1, 28, 28)\n",
        "dummy_output = current_model(dummy_data)\n",
        "print(dummy_output.shape)\n",
        "\n",
        "\n",
        "'''\n",
        "self.conv11 = nn.Conv2d(in_channels=1, out_channels=32, kernel_size=3, padding=1)     #input-28 Output-28 RF-1\n",
        "self.batch11 = nn.BatchNorm2d(32)\n",
        "self.conv12 = nn.Conv2d(in_channels=32, out_channels=32, kernel_size=3, padding=1)\n",
        "self.batch12 = nn.BatchNorm2d(32)\n",
        "self.conv13 = nn.Conv2d(in_channels=32, out_channels=32, kernel_size=1)\n",
        "self.batch13 = nn.BatchNorm2d(32)\n",
        "self.pool14 = nn.MaxPool2d(2, 2)                                                      #input-28 Output-14 RF-\n",
        "\n",
        "self.conv21 = nn.Conv2d(in_channels=32, out_channels=16, kernel_size=3, padding=1)    #input-14 Output-14 RF-\n",
        "self.batch21 = nn.BatchNorm2d(16)\n",
        "self.conv22 = nn.Conv2d(in_channels=16, out_channels=8, kernel_size=3, padding=1)\n",
        "self.batch22 = nn.BatchNorm2d(8)\n",
        "self.conv23 = nn.Conv2d(in_channels=8, out_channels=8, kernel_size=1)\n",
        "self.batch23 = nn.BatchNorm2d(8)\n",
        "self.pool24 = nn.MaxPool2d(2, 2)                                                      #input-14 Output-07 RF-\n",
        "\n",
        "self.conv31 = nn.Conv2d(in_channels=8, out_channels=8, kernel_size=3, padding=1)    #input-07 Output-07 RF-\n",
        "self.batch31 = nn.BatchNorm2d(8)\n",
        "self.conv32 = nn.Conv2d(in_channels=8, out_channels=10, kernel_size=3, padding=1)\n",
        "self.batch32 = nn.BatchNorm2d(10)\n",
        "# self.conv33 = nn.Conv2d(in_channels=10, out_channels=10, kernel_size=7)\n",
        "'''"
      ],
      "execution_count": 10,
      "outputs": [
        {
          "output_type": "stream",
          "name": "stdout",
          "text": [
            "torch.Size([5, 10])\n"
          ]
        },
        {
          "output_type": "execute_result",
          "data": {
            "text/plain": [
              "'\\nself.conv11 = nn.Conv2d(in_channels=1, out_channels=32, kernel_size=3, padding=1)     #input-28 Output-28 RF-1\\nself.batch11 = nn.BatchNorm2d(32)\\nself.conv12 = nn.Conv2d(in_channels=32, out_channels=32, kernel_size=3, padding=1)\\nself.batch12 = nn.BatchNorm2d(32)\\nself.conv13 = nn.Conv2d(in_channels=32, out_channels=32, kernel_size=1)\\nself.batch13 = nn.BatchNorm2d(32)\\nself.pool14 = nn.MaxPool2d(2, 2)                                                      #input-28 Output-14 RF-\\n\\nself.conv21 = nn.Conv2d(in_channels=32, out_channels=16, kernel_size=3, padding=1)    #input-14 Output-14 RF-\\nself.batch21 = nn.BatchNorm2d(16)\\nself.conv22 = nn.Conv2d(in_channels=16, out_channels=8, kernel_size=3, padding=1)\\nself.batch22 = nn.BatchNorm2d(8)\\nself.conv23 = nn.Conv2d(in_channels=8, out_channels=8, kernel_size=1)\\nself.batch23 = nn.BatchNorm2d(8)\\nself.pool24 = nn.MaxPool2d(2, 2)                                                      #input-14 Output-07 RF-\\n\\nself.conv31 = nn.Conv2d(in_channels=8, out_channels=8, kernel_size=3, padding=1)    #input-07 Output-07 RF-\\nself.batch31 = nn.BatchNorm2d(8)\\nself.conv32 = nn.Conv2d(in_channels=8, out_channels=10, kernel_size=3, padding=1)\\nself.batch32 = nn.BatchNorm2d(10)\\n# self.conv33 = nn.Conv2d(in_channels=10, out_channels=10, kernel_size=7)\\n'"
            ],
            "application/vnd.google.colaboratory.intrinsic+json": {
              "type": "string"
            }
          },
          "metadata": {},
          "execution_count": 10
        }
      ]
    },
    {
      "cell_type": "code",
      "metadata": {
        "id": "xdydjYTZFyi3",
        "colab": {
          "base_uri": "https://localhost:8080/"
        },
        "outputId": "35590223-38e0-4a5e-b92f-85b9a9eef1dd"
      },
      "source": [
        "use_cuda = torch.cuda.is_available()\n",
        "device = torch.device(\"cuda\" if use_cuda else \"cpu\")\n",
        "model = Net().to(device)\n",
        "summary(model, input_size=(1, 28, 28))"
      ],
      "execution_count": 11,
      "outputs": [
        {
          "output_type": "stream",
          "name": "stdout",
          "text": [
            "----------------------------------------------------------------\n",
            "        Layer (type)               Output Shape         Param #\n",
            "================================================================\n",
            "            Conv2d-1            [-1, 8, 28, 28]              80\n",
            "       BatchNorm2d-2            [-1, 8, 28, 28]              16\n",
            "            Conv2d-3            [-1, 8, 28, 28]             584\n",
            "       BatchNorm2d-4            [-1, 8, 28, 28]              16\n",
            "            Conv2d-5           [-1, 16, 28, 28]             144\n",
            "       BatchNorm2d-6           [-1, 16, 28, 28]              32\n",
            "         MaxPool2d-7           [-1, 16, 14, 14]               0\n",
            "            Conv2d-8           [-1, 16, 14, 14]           2,320\n",
            "       BatchNorm2d-9           [-1, 16, 14, 14]              32\n",
            "           Conv2d-10           [-1, 16, 14, 14]           2,320\n",
            "      BatchNorm2d-11           [-1, 16, 14, 14]              32\n",
            "           Conv2d-12           [-1, 32, 14, 14]             544\n",
            "      BatchNorm2d-13           [-1, 32, 14, 14]              64\n",
            "        MaxPool2d-14             [-1, 32, 7, 7]               0\n",
            "           Conv2d-15             [-1, 32, 7, 7]           9,248\n",
            "      BatchNorm2d-16             [-1, 32, 7, 7]              64\n",
            "           Conv2d-17             [-1, 10, 7, 7]           2,890\n",
            "      BatchNorm2d-18             [-1, 10, 7, 7]              20\n",
            "================================================================\n",
            "Total params: 18,406\n",
            "Trainable params: 18,406\n",
            "Non-trainable params: 0\n",
            "----------------------------------------------------------------\n",
            "Input size (MB): 0.00\n",
            "Forward/backward pass size (MB): 0.64\n",
            "Params size (MB): 0.07\n",
            "Estimated Total Size (MB): 0.71\n",
            "----------------------------------------------------------------\n"
          ]
        }
      ]
    },
    {
      "cell_type": "code",
      "metadata": {
        "id": "DqTWLaM5GHgH"
      },
      "source": [
        "# # torch.manual_seed(1)\n",
        "# batch_size = 128\n",
        "\n",
        "# kwargs = {'num_workers': 1, 'pin_memory': True} if use_cuda else {}\n",
        "# train_loader = torch.utils.data.DataLoader(\n",
        "#     datasets.MNIST('../data', train=True, download=True,\n",
        "#                     transform=transforms.Compose([\n",
        "#                         transforms.ToTensor(),\n",
        "#                         transforms.Normalize((0.1307,), (0.3081,))\n",
        "#                     ])),\n",
        "#     batch_size=batch_size, shuffle=True, **kwargs)\n",
        "\n",
        "\n",
        "# test_loader = torch.utils.data.DataLoader(\n",
        "#     datasets.MNIST('../data', train=False, transform=transforms.Compose([\n",
        "#                         transforms.ToTensor(),\n",
        "#                         transforms.Normalize((0.1307,), (0.3081,))\n",
        "#                     ])),\n",
        "#     batch_size=batch_size, shuffle=True, **kwargs)\n",
        "\n",
        "# Transforms (use same norm for both)\n",
        "mnist_mean, mnist_std = (0.1307,), (0.3081,)\n",
        "train_transforms = transforms.Compose([\n",
        "    transforms.RandomApply([transforms.CenterCrop(4)], p=0.1),\n",
        "    transforms.Resize((28, 28)),\n",
        "    transforms.RandomRotation((-15., 15.), fill=0),\n",
        "    transforms.ToTensor(),\n",
        "    transforms.Normalize(mnist_mean, mnist_std),\n",
        "])\n",
        "test_transforms = transforms.Compose([\n",
        "    transforms.ToTensor(),\n",
        "    transforms.Normalize(mnist_mean, mnist_std),\n",
        "])\n",
        "\n",
        "train_data = datasets.MNIST('../data', train=True, download=True, transform=train_transforms)\n",
        "test_data  = datasets.MNIST('../data', train=False, download=True, transform=test_transforms)\n",
        "\n",
        "batch_size = 128  # smaller gives faster feedback; increase if you want\n",
        "train_kwargs = {'batch_size': batch_size, 'shuffle': True,  'num_workers': 2, 'pin_memory': True if use_cuda else False}\n",
        "test_kwargs  = {'batch_size': batch_size, 'shuffle': False, 'num_workers': 2, 'pin_memory': True if use_cuda else False}\n",
        "\n",
        "train_loader = torch.utils.data.DataLoader(train_data, **train_kwargs)\n",
        "test_loader  = torch.utils.data.DataLoader(test_data,  **test_kwargs)"
      ],
      "execution_count": 12,
      "outputs": []
    },
    {
      "cell_type": "code",
      "source": [
        "import matplotlib.pyplot as plt\n",
        "\n",
        "batch_data, batch_label = next(iter(train_loader))\n",
        "\n",
        "fig = plt.figure()\n",
        "\n",
        "for i in range(2):\n",
        "  plt.subplot(3,4,i+1)\n",
        "  plt.tight_layout()\n",
        "  plt.imshow(batch_data[i].squeeze(0), cmap='gray')\n",
        "  plt.title(batch_label[i].item())\n",
        "  print(batch_label[i])\n",
        "  plt.xticks([])\n",
        "  plt.yticks([])"
      ],
      "metadata": {
        "colab": {
          "base_uri": "https://localhost:8080/",
          "height": 206
        },
        "id": "1VO-7YGtwgfB",
        "outputId": "e4b1563b-78a1-4cdd-a037-bc46fdb118b0"
      },
      "execution_count": 14,
      "outputs": [
        {
          "output_type": "stream",
          "name": "stdout",
          "text": [
            "tensor(7)\n",
            "tensor(2)\n"
          ]
        },
        {
          "output_type": "display_data",
          "data": {
            "text/plain": [
              "<Figure size 640x480 with 2 Axes>"
            ],
            "image/png": "[encoded data removed]"
          },
          "metadata": {}
        }
      ]
    },
    {
      "cell_type": "code",
      "metadata": {
        "id": "8fDefDhaFlwH"
      },
      "source": [
        "criterion = nn.CrossEntropyLoss()\n",
        "train_loss_data = []\n",
        "test_loss_data = []\n",
        "test_accuracy = []\n",
        "\n",
        "def train(model, device, train_loader, optimizer, epoch):\n",
        "    model.train()\n",
        "    pbar = tqdm(train_loader)\n",
        "    for batch_idx, (data, target) in enumerate(pbar):\n",
        "        data, target = data.to(device), target.to(device)\n",
        "        optimizer.zero_grad()\n",
        "        output = model(data)\n",
        "        loss = criterion(output, target)\n",
        "        loss.backward()\n",
        "        optimizer.step()\n",
        "        pbar.set_description(desc= f'loss={loss.item()} batch_id={batch_idx}')\n",
        "\n",
        "        train_loss_data.append(loss.item())\n",
        "\n",
        "\n",
        "def test(model, device, test_loader):\n",
        "    model.eval()\n",
        "    test_loss = 0\n",
        "    correct = 0\n",
        "    with torch.no_grad():\n",
        "        for data, target in test_loader:\n",
        "            data, target = data.to(device), target.to(device)\n",
        "            output = model(data)\n",
        "            test_loss += F.cross_entropy(output, target, reduction='sum').item()  # sum up batch loss\n",
        "            pred = output.argmax(dim=1, keepdim=True)  # get the index of the max log-probability\n",
        "            correct += pred.eq(target.view_as(pred)).sum().item()\n",
        "\n",
        "    test_loss /= len(test_loader.dataset)\n",
        "    test_loss_data.append(test_loss)\n",
        "    test_accuracy.append(100. * correct / len(test_loader.dataset))\n",
        "\n",
        "    print('\\nTest set: Average loss: {:.4f}, Accuracy: {}/{} ({:.2f}%)\\n'.format(\n",
        "        test_loss, correct, len(test_loader.dataset),\n",
        "        100. * correct / len(test_loader.dataset)))"
      ],
      "execution_count": 19,
      "outputs": []
    },
    {
      "cell_type": "code",
      "metadata": {
        "id": "MMWbLWO6FuHb",
        "colab": {
          "base_uri": "https://localhost:8080/"
        },
        "outputId": "3c21ac3f-b139-43c9-f3f0-824a64332156"
      },
      "source": [
        "model = Net().to(device)\n",
        "# optimizer = optim.SGD(model.parameters(), lr=0.001, momentum=0.9)\n",
        "optimizer = optim.Adam(model.parameters(), lr=0.001)\n",
        "\n",
        "for epoch in range(10):\n",
        "    train(model, device, train_loader, optimizer, epoch)\n",
        "    test(model, device, test_loader)"
      ],
      "execution_count": 20,
      "outputs": [
        {
          "output_type": "stream",
          "name": "stderr",
          "text": [
            "loss=0.6293884515762329 batch_id=468: 100%|██████████| 469/469 [00:21<00:00, 22.06it/s]\n"
          ]
        },
        {
          "output_type": "stream",
          "name": "stdout",
          "text": [
            "\n",
            "Test set: Average loss: 0.3380, Accuracy: 9615/10000 (96.15%)\n",
            "\n"
          ]
        },
        {
          "output_type": "stream",
          "name": "stderr",
          "text": [
            "loss=0.3740464746952057 batch_id=468: 100%|██████████| 469/469 [00:21<00:00, 21.52it/s]\n"
          ]
        },
        {
          "output_type": "stream",
          "name": "stdout",
          "text": [
            "\n",
            "Test set: Average loss: 0.1907, Accuracy: 9819/10000 (98.19%)\n",
            "\n"
          ]
        },
        {
          "output_type": "stream",
          "name": "stderr",
          "text": [
            "loss=0.3982640504837036 batch_id=468: 100%|██████████| 469/469 [00:20<00:00, 23.29it/s]\n"
          ]
        },
        {
          "output_type": "stream",
          "name": "stdout",
          "text": [
            "\n",
            "Test set: Average loss: 0.1515, Accuracy: 9789/10000 (97.89%)\n",
            "\n"
          ]
        },
        {
          "output_type": "stream",
          "name": "stderr",
          "text": [
            "loss=0.2409404069185257 batch_id=468: 100%|██████████| 469/469 [00:21<00:00, 22.29it/s]\n"
          ]
        },
        {
          "output_type": "stream",
          "name": "stdout",
          "text": [
            "\n",
            "Test set: Average loss: 0.1237, Accuracy: 9811/10000 (98.11%)\n",
            "\n"
          ]
        },
        {
          "output_type": "stream",
          "name": "stderr",
          "text": [
            "loss=0.26603636145591736 batch_id=468: 100%|██████████| 469/469 [00:21<00:00, 21.71it/s]\n"
          ]
        },
        {
          "output_type": "stream",
          "name": "stdout",
          "text": [
            "\n",
            "Test set: Average loss: 0.1329, Accuracy: 9761/10000 (97.61%)\n",
            "\n"
          ]
        },
        {
          "output_type": "stream",
          "name": "stderr",
          "text": [
            "loss=0.19770300388336182 batch_id=468: 100%|██████████| 469/469 [00:21<00:00, 21.74it/s]\n"
          ]
        },
        {
          "output_type": "stream",
          "name": "stdout",
          "text": [
            "\n",
            "Test set: Average loss: 0.1599, Accuracy: 9569/10000 (95.69%)\n",
            "\n"
          ]
        },
        {
          "output_type": "stream",
          "name": "stderr",
          "text": [
            "loss=0.1745494157075882 batch_id=468: 100%|██████████| 469/469 [00:20<00:00, 22.76it/s]\n"
          ]
        },
        {
          "output_type": "stream",
          "name": "stdout",
          "text": [
            "\n",
            "Test set: Average loss: 0.0664, Accuracy: 9876/10000 (98.76%)\n",
            "\n"
          ]
        },
        {
          "output_type": "stream",
          "name": "stderr",
          "text": [
            "loss=0.17985160648822784 batch_id=468: 100%|██████████| 469/469 [00:20<00:00, 22.90it/s]\n"
          ]
        },
        {
          "output_type": "stream",
          "name": "stdout",
          "text": [
            "\n",
            "Test set: Average loss: 0.0568, Accuracy: 9891/10000 (98.91%)\n",
            "\n"
          ]
        },
        {
          "output_type": "stream",
          "name": "stderr",
          "text": [
            "loss=0.20514069497585297 batch_id=468: 100%|██████████| 469/469 [00:21<00:00, 21.75it/s]\n"
          ]
        },
        {
          "output_type": "stream",
          "name": "stdout",
          "text": [
            "\n",
            "Test set: Average loss: 0.0644, Accuracy: 9877/10000 (98.77%)\n",
            "\n"
          ]
        },
        {
          "output_type": "stream",
          "name": "stderr",
          "text": [
            "loss=0.16039717197418213 batch_id=468: 100%|██████████| 469/469 [00:21<00:00, 21.72it/s]\n"
          ]
        },
        {
          "output_type": "stream",
          "name": "stdout",
          "text": [
            "\n",
            "Test set: Average loss: 0.0444, Accuracy: 9911/10000 (99.11%)\n",
            "\n"
          ]
        }
      ]
    },
    {
      "cell_type": "code",
      "source": [
        "import matplotlib.pyplot as plt\n",
        "\n",
        "# Create subplots: 2 rows, first row has 2 columns, second row has 1 column\n",
        "fig = plt.figure(figsize=(8, 6))\n",
        "\n",
        "# First row: 2 subplots\n",
        "ax1 = plt.subplot(2, 2, 1)  # Training Loss\n",
        "ax1.plot(train_loss_data)\n",
        "ax1.set_title(\"Training Loss\")\n",
        "ax1.set_xlabel(\"Number of iterations\")\n",
        "ax1.set_ylabel(\"Loss\")\n",
        "ax1.grid(which='both')\n",
        "\n",
        "ax2 = plt.subplot(2, 2, 2)  # Test Loss\n",
        "ax2.plot(test_loss_data)\n",
        "ax2.set_title(\"Test Loss\")\n",
        "ax2.set_xlabel(\"Number of Epochs\")\n",
        "ax2.set_ylabel(\"Loss\")\n",
        "ax2.grid(which='both')\n",
        "\n",
        "# Second row: 1 merged subplot\n",
        "ax3 = plt.subplot(2, 1, 2)  # Test Accuracy (spans full width of bottom row)\n",
        "ax3.plot(test_accuracy)\n",
        "ax3.set_title(\"Test Accuracy\")\n",
        "ax3.set_xlabel(\"Number of Epochs\")\n",
        "ax3.set_ylabel(\"Accuracy\")\n",
        "ax3.set_ylim(80, 100)\n",
        "ax3.grid(which='both')\n",
        "\n",
        "plt.tight_layout()\n",
        "plt.show()"
      ],
      "metadata": {
        "colab": {
          "base_uri": "https://localhost:8080/",
          "height": 607
        },
        "id": "To57hGy0cxHM",
        "outputId": "f06c62c5-1805-4fc6-993d-c25745247540"
      },
      "execution_count": 23,
      "outputs": [
        {
          "output_type": "display_data",
          "data": {
            "text/plain": [
              "<Figure size 800x600 with 3 Axes>"
            ],
            "image/png": "[encoded data removed]"
          },
          "metadata": {}
        }
      ]
    }
  ]
}